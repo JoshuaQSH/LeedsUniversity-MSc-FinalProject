{
 "cells": [
  {
   "cell_type": "markdown",
   "metadata": {
    "colab_type": "text",
    "id": "Pgy7Q6kZC1pA"
   },
   "source": [
    "# ECG Classification (PhysioNet/CinC Challenge 2017)\n",
    "\n",
    "0. Download data\n",
    "1. Data augmentation: WaveNet\n",
    "2. Model: Attention-based CRNN (attention in last layer)\n",
    "3. **Explain (important)**: Explainable predictions with the classifier"
   ]
  },
  {
   "cell_type": "code",
   "execution_count": 1,
   "metadata": {
    "colab": {
     "base_uri": "https://localhost:8080/",
     "height": 51
    },
    "colab_type": "code",
    "id": "A_JdNSXDAUTf",
    "outputId": "4e2afcd7-6209-411b-9d02-ece34a561364",
    "tags": []
   },
   "outputs": [
    {
     "output_type": "stream",
     "name": "stdout",
     "text": "PyTorch version: 1.5.1\nGPU is NOT available!!!\n Change Runtime > runtime type and set Hardware accelerator to GPU\n"
    }
   ],
   "source": [
    "import os\n",
    "import pickle\n",
    "import numpy as np\n",
    "from tqdm.notebook import tqdm\n",
    "from google.colab import output\n",
    "from collections import Counter\n",
    "from matplotlib import pyplot as plt\n",
    "from scipy.signal import butter, filtfilt\n",
    "from sklearn.model_selection import train_test_split\n",
    "from sklearn.metrics import classification_report, confusion_matrix\n",
    "\n",
    "import torch\n",
    "import torch.nn as nn\n",
    "import torch.optim as optim\n",
    "import torch.nn.functional as F\n",
    "from torch.utils.data import Dataset, DataLoader\n",
    "\n",
    "print(\"PyTorch version:\", torch.__version__)\n",
    "print(\"GPU is\", \"available\" if torch.cuda.is_available() else \"NOT available\" + \n",
    "      \"!!!\\n Change Runtime > runtime type and set Hardware accelerator to GPU\")\n",
    "device = torch.device(\"cuda\" if torch.cuda.is_available() else \"cpu\")"
   ]
  },
  {
   "cell_type": "code",
   "execution_count": 2,
   "metadata": {
    "colab": {},
    "colab_type": "code",
    "id": "nZJBuet8HMOW"
   },
   "outputs": [],
   "source": [
    "try:\n",
    "  from tensorboardX import SummaryWriter\n",
    "except:\n",
    "  %pip install tensorboardX\n",
    "  from tensorboardX import SummaryWriter\n",
    "try:\n",
    "  from torchsummaryX import summary\n",
    "except:\n",
    "  %pip install torchsummaryX\n",
    "  from torchsummaryX import summary\n",
    "try:\n",
    "  import visdom\n",
    "except:\n",
    "  %pip install visdom\n",
    "  import visdom\n",
    "from audiodata import AudioData, AudioLoader\n",
    "from models import Model, Generator\n",
    "output.clear()"
   ]
  },
  {
   "cell_type": "code",
   "execution_count": 3,
   "metadata": {
    "colab": {},
    "colab_type": "code",
    "id": "zqB7Rcn7GBHc",
    "outputId": "7ae42ab6-84e1-4fe3-8d96-8728f5c4c181",
    "tags": []
   },
   "outputs": [
    {
     "output_type": "stream",
     "name": "stdout",
     "text": "160M\tchallenge2017.pkl\n"
    }
   ],
   "source": [
    "# Download preprocessed data from <https://drive.google.com/drive/folders/1AuPxvGoyUbKcVaFmeyt3xsqj6ucWZezf>\n",
    "DATA_PATH=\"challenge2017.pkl\"\n",
    "if not os.path.exists(DATA_PATH):\n",
    "  !wget --load-cookies /tmp/cookies.txt \"https://docs.google.com/uc?export=download&confirm=$(wget --quiet --save-cookies /tmp/cookies.txt --keep-session-cookies --no-check-certificate 'https://docs.google.com/uc?export=download&id=1j7Yk0-W9uonQiyyG2B9ZAw5jjZA-UeMS' -O- | sed -rn 's/.*confirm=([0-9A-Za-z_]+).*/\\1\\n/p')&id=1j7Yk0-W9uonQiyyG2B9ZAw5jjZA-UeMS\" -O challenge2017.pkl && rm -rf /tmp/cookies.txt\n",
    "  output.clear()\n",
    "  print(\"Data challenge2017.pkl downloaded!\")\n",
    "# !ls\n",
    "# challenge2017.pkl should be 160M\n",
    "!du -h challenge2017.pkl"
   ]
  },
  {
   "cell_type": "markdown",
   "metadata": {
    "colab_type": "text",
    "id": "bSpDRnZSYb1X"
   },
   "source": [
    "## 0. Preprocess Data"
   ]
  },
  {
   "cell_type": "code",
   "execution_count": 4,
   "metadata": {
    "colab": {},
    "colab_type": "code",
    "id": "Jrb-142LTQvo"
   },
   "outputs": [],
   "source": [
    "def slide_and_cut(X, Y, window_size, stride, output_pid=False, datatype=4):\n",
    "  out_X = []\n",
    "  out_Y = []\n",
    "  out_pid = []\n",
    "  n_sample = X.shape[0]\n",
    "  mode = 0\n",
    "  for i in range(n_sample):\n",
    "    tmp_ts = X[i]\n",
    "    tmp_Y = Y[i]\n",
    "    if tmp_Y == 0:\n",
    "      i_stride = stride\n",
    "    elif tmp_Y == 1:\n",
    "      if datatype == 4:\n",
    "        i_stride = stride//6\n",
    "      elif datatype == 2:\n",
    "        i_stride = stride//10\n",
    "      elif datatype == 2.1:\n",
    "        i_stride = stride//7\n",
    "    elif tmp_Y == 2:\n",
    "      i_stride = stride//2\n",
    "    elif tmp_Y == 3:\n",
    "      i_stride = stride//20\n",
    "    for j in range(0, len(tmp_ts)-window_size, i_stride):\n",
    "      out_X.append(tmp_ts[j:j+window_size])\n",
    "      out_Y.append(tmp_Y)\n",
    "      out_pid.append(i)\n",
    "  if output_pid:\n",
    "    return np.array(out_X), np.array(out_Y), np.array(out_pid)\n",
    "  else:\n",
    "    return np.array(out_X), np.array(out_Y)\n",
    "\n",
    "\n",
    "def read_data(DATA_PATH, window_size=2048, stride=512, cut=False, bit=True):\n",
    "  \"\"\"\n",
    "  only N A, no O P\n",
    "  \"\"\"\n",
    "  # Read data\n",
    "  with open(DATA_PATH, 'rb') as fin:\n",
    "    res = pickle.load(fin)\n",
    "  ## only N A, no O P\n",
    "  all_data = []\n",
    "  all_label = []\n",
    "  all_max = 0\n",
    "  for i in range(len(res['label'])):\n",
    "    if np.abs(res['data'][i]).max() > all_max:\n",
    "      all_max = np.abs(res['data'][i]).max()\n",
    "    if res['label'][i] == 'A':\n",
    "      all_label.append(1)\n",
    "      all_data.append(res['data'][i])\n",
    "    elif res['label'][i] == 'N':\n",
    "      all_label.append(0)\n",
    "      all_data.append(res['data'][i])\n",
    "  ## scale data\n",
    "  for i in range(len(all_data)):\n",
    "    tmp_data = all_data[i]\n",
    "    tmp_std = np.std(tmp_data)\n",
    "    tmp_mean = np.mean(tmp_data)\n",
    "    all_data[i] = (tmp_data - tmp_mean) / tmp_std\n",
    "    if bit:\n",
    "      # note: devide first, in case of overflow\n",
    "      all_data[i] = np.asarray(all_data[i] / all_max * np.iinfo(np.int16).max, dtype=np.int16)\n",
    "  \n",
    "  all_data = np.array(all_data)\n",
    "  all_label = np.array(all_label)\n",
    "  if not cut:\n",
    "    return all_data, all_label\n",
    "  else:\n",
    "    # split train test\n",
    "    X_train, X_test, Y_train, Y_test = train_test_split(\n",
    "        all_data, all_label, test_size=0.1, random_state=0)\n",
    "    \n",
    "    # slide and cut\n",
    "    print('before: ')\n",
    "    print(Counter(Y_train), Counter(Y_test))\n",
    "  \n",
    "    X_train, Y_train = slide_and_cut(\n",
    "        X_train, Y_train, window_size=window_size, stride=stride, datatype=2.1)\n",
    "    X_test, Y_test, pid_test = slide_and_cut(\n",
    "        X_test, Y_test, window_size=window_size, stride=stride, datatype=2.1, output_pid=True)\n",
    "    print('after: ')\n",
    "    print(Counter(Y_train), Counter(Y_test))\n",
    "  \n",
    "    # shuffle train\n",
    "    shuffle_pid = np.random.permutation(Y_train.shape[0])\n",
    "    X_train = X_train[shuffle_pid]\n",
    "    Y_train = Y_train[shuffle_pid]\n",
    "\n",
    "    X_train = np.expand_dims(X_train, 1)\n",
    "    X_test = np.expand_dims(X_test, 1)\n",
    "    return X_train, X_test, Y_train, Y_test, pid_test\n",
    "    \n",
    "\n",
    "class MyDataset(Dataset):\n",
    "  def __init__(self, data, label):\n",
    "    self.data = data\n",
    "    self.label = label\n",
    "\n",
    "  def __getitem__(self, index):\n",
    "    return (torch.tensor(self.data[index], dtype=torch.float), \n",
    "            torch.tensor(self.label[index], dtype=torch.long))\n",
    "\n",
    "  def __len__(self):\n",
    "    return len(self.data)\n"
   ]
  },
  {
   "cell_type": "code",
   "execution_count": 5,
   "metadata": {
    "colab": {},
    "colab_type": "code",
    "id": "Rq_FGNZiYDS9"
   },
   "outputs": [],
   "source": [
    "batch_size = 128\n",
    "n_epoch = 200\n",
    "win_size = 2048\n",
    "stride = 512\n",
    "\"\"\" Get original data, in np.int16 dtype \"\"\"\n",
    "all_data, all_label = read_data(\n",
    "    DATA_PATH, window_size=win_size, stride=stride, cut=False, bit=True)"
   ]
  },
  {
   "cell_type": "code",
   "execution_count": 6,
   "metadata": {
    "colab": {},
    "colab_type": "code",
    "id": "l5B4y6NmS4kV",
    "outputId": "204b18f0-cbf2-4a54-90a9-c5014fdb0193"
   },
   "outputs": [],
   "source": [
    "'''\n",
    "# DEMO (note: data is preprocessed.)\n",
    "fig, axs = plt.subplots(nrows=2, ncols=1, figsize=(14, 6))\n",
    "# plot 'A' and 'N' sample\n",
    "for i in range(2):\n",
    "  axs[i].plot(all_data[np.where(all_label==i)[0][0]][:2048])\n",
    "  axs[i].set_title('A' if i else 'N')\n",
    "\n",
    "plt.show()\n",
    "'''\n",
    "pass"
   ]
  },
  {
   "cell_type": "markdown",
   "metadata": {
    "colab_type": "text",
    "id": "D7BnZyVZXiEd"
   },
   "source": [
    "## 1. Data Augmentation\n",
    "\n",
    "Implemente WaveNet to augment data. Reference: [Wavenet-PyTorch](https://github.com/Dankrushen/Wavenet-PyTorch).\n"
   ]
  },
  {
   "cell_type": "code",
   "execution_count": 7,
   "metadata": {
    "colab": {},
    "colab_type": "code",
    "id": "Ut4FT5XLDvv7",
    "outputId": "3c552c84-5267-48fb-defc-f1b3f264293e",
    "tags": []
   },
   "outputs": [],
   "source": [
    "'''\n",
    "A_data = all_data[np.where(all_label==1)]\n",
    "N_data = all_data[np.where(all_label==0)]\n",
    "print(A_data.shape, N_data.shape)\n",
    "# The data is unbalanced: A << N (758 v.s. 5076)\n",
    "'''\n",
    "pass"
   ]
  },
  {
   "cell_type": "code",
   "execution_count": 8,
   "metadata": {
    "colab": {},
    "colab_type": "code",
    "id": "qnjm9vpstsDI"
   },
   "outputs": [],
   "source": [
    "x_len = 2**11\n",
    "num_channels=1\n",
    "num_classes = 256 # digitize parameter\n",
    "num_layers = 9\n",
    "num_blocks = 2\n",
    "num_hidden = 32 # larger: trained slower and precision decreased; smaller: trn_loss decrease very slow\n",
    "kernel_size = 2\n",
    "learn_rate = 0.001\n",
    "step_size = 100\n",
    "gamma = 0.9\n",
    "batch_size = 16\n",
    "num_workers = 1\n",
    "num_epochs = 1000\n",
    "A_model_file = 'A_Wavenet_990_0.2105.pt'\n",
    "N_model_file = 'N_Wavenet_1000_0.1569'\n",
    "use_visdom = False\n",
    "n_new_samples = win_size\n",
    "disp_interval = 10\n",
    "n_predictions = 1024\n",
    "n_total_samples = n_predictions + x_len"
   ]
  },
  {
   "cell_type": "code",
   "execution_count": 9,
   "metadata": {
    "colab": {},
    "colab_type": "code",
    "id": "kqzZck9IDO84",
    "outputId": "723905ba-ea6e-4051-b72a-4bb2c2a17e9d",
    "tags": []
   },
   "outputs": [
    {
     "output_type": "stream",
     "name": "stdout",
     "text": "x_len: 2048, y_len: 1025, rec_field: 1023\n"
    }
   ],
   "source": [
    "def get_ylen(x_len, num_layers, num_blocks, kernel_size):\n",
    "    rec_field = 1 + (kernel_size - 1) * \\\n",
    "                num_blocks * sum([2**k for k in range(num_layers)])\n",
    "    return x_len - rec_field\n",
    "\n",
    "y_len = get_ylen(x_len, num_layers, num_blocks, kernel_size)\n",
    "print('x_len: {}, y_len: {}, rec_field: {}'.format(x_len, y_len, x_len-y_len))"
   ]
  },
  {
   "cell_type": "code",
   "execution_count": 10,
   "metadata": {
    "colab": {},
    "colab_type": "code",
    "id": "vscFZS6SYlpX",
    "outputId": "7e071c34-0f0d-426e-c0d7-48d60a89e67a",
    "tags": []
   },
   "outputs": [],
   "source": [
    "'''\n",
    "A_wave_model = Model(x_len, \n",
    "                   num_channels=num_channels, \n",
    "                   num_classes=num_classes, \n",
    "                   num_blocks=num_blocks, \n",
    "                   num_layers=num_layers,\n",
    "                   num_hidden=num_hidden,\n",
    "                   kernel_size=kernel_size)\n",
    "# load the trained wave_model\n",
    "if os.path.isfile(A_model_file):\n",
    "    print('Loading model data from file: {}'.format(A_model_file))\n",
    "    A_wave_model.load_state_dict(torch.load(A_model_file, map_location=device))\n",
    "A_wave_model.set_device(device)\n",
    "'''\n",
    "pass"
   ]
  },
  {
   "cell_type": "code",
   "execution_count": 11,
   "metadata": {
    "colab": {},
    "colab_type": "code",
    "id": "bcFivX5tgI6P",
    "outputId": "a479680f-9523-4a22-d0dc-f7c14510a3d7",
    "tags": []
   },
   "outputs": [],
   "source": [
    "'''\n",
    "N_wave_model = Model(x_len, \n",
    "                   num_channels=num_channels, \n",
    "                   num_classes=num_classes, \n",
    "                   num_blocks=num_blocks, \n",
    "                   num_layers=num_layers,\n",
    "                   num_hidden=num_hidden,\n",
    "                   kernel_size=kernel_size)\n",
    "# load the trained wave_model\n",
    "if os.path.isfile(N_model_file):\n",
    "    print('Loading model data from file: {}'.format(N_model_file))\n",
    "    N_wave_model.load_state_dict(torch.load(N_model_file, map_location=device))\n",
    "N_wave_model.set_device(device)\n",
    "'''\n",
    "pass"
   ]
  },
  {
   "cell_type": "code",
   "execution_count": 12,
   "metadata": {
    "colab": {},
    "colab_type": "code",
    "id": "Jc_sr05YgIUx"
   },
   "outputs": [],
   "source": [
    "# ## Training / Finetune\n",
    "# A_dataset = AudioData(A_data, x_len, y_len=y_len, num_classes=num_classes)\n",
    "# dataloader = AudioLoader(A_dataset, batch_size=batch_size)\n",
    "# finetune = False\n",
    "# if finetune:\n",
    "#   num_epochs = 100\n",
    "#   learn_rate = learn_rate\n",
    "#   wave_model.criterion = nn.CrossEntropyLoss()\n",
    "#   wave_model.optimizer = optim.Adam(wave_model.parameters(), lr=learn_rate)\n",
    "#   wave_model.scheduler = optim.lr_scheduler.ReduceLROnPlateau(\n",
    "#       wave_model.optimizer, mode='min', factor=gamma, min_lr=1e-5, patience=100)\n",
    "#   wave_model.train(dataloader, num_epochs=num_epochs, \n",
    "#                   disp_interval=disp_interval,\n",
    "#                   use_visdom=False)\n",
    "#   # torch.save(wave_model.state_dict(), model_file)"
   ]
  },
  {
   "cell_type": "code",
   "execution_count": 13,
   "metadata": {
    "colab": {},
    "colab_type": "code",
    "id": "cIhwwvuhYmQK"
   },
   "outputs": [],
   "source": [
    "'''\n",
    "A_dataset = AudioData(A_data, x_len, y_len=y_len, num_classes=num_classes)\n",
    "A_wave_generator = Generator(A_wave_model, A_dataset)\n",
    "N_dataset = AudioData(N_data, x_len, y_len=y_len, num_classes=num_classes)\n",
    "N_wave_generator = Generator(N_wave_model, N_dataset)\n",
    "'''\n",
    "pass"
   ]
  },
  {
   "cell_type": "code",
   "execution_count": 14,
   "metadata": {
    "colab": {},
    "colab_type": "code",
    "id": "vAGZfFmDtTPL",
    "outputId": "63f865d9-a6ae-49ae-e27d-cc84220454ab"
   },
   "outputs": [],
   "source": [
    "'''\n",
    "audio = A_data[0][:n_total_samples]\n",
    "x1 = audio[:x_len]\n",
    "y1 = A_wave_generator.run(x1, n_predictions)\n",
    "y1 = (y1 - y1.mean()) / y1.std()\n",
    "y1 = y1 / np.abs(y1).max() * np.abs(x1).max()\n",
    "tmp = np.where(np.abs(y1)<=1)[0]\n",
    "# y1[tmp] = x1[tmp + np.random.randint(1024)]\n",
    "b, a = butter(2, 0.3) # order 3 lowpass butterworth filter, 0 < Wn < 1\n",
    "y1_lf = filtfilt(b, a, y1)\n",
    "y1_digit = np.asarray(y1_lf / np.abs(y1_lf).max() * np.abs(x1).max(), dtype=np.int16)\n",
    "\n",
    "audio = N_data[1][:n_total_samples]\n",
    "x2 = audio[:x_len]\n",
    "y2 = N_wave_generator.run(x2, n_predictions//2)\n",
    "y2 = (y2 - y2.mean()) / y2.std()\n",
    "y2 = y2 / np.abs(y2).max() * np.abs(x2).max()\n",
    "tmp = np.where(np.abs(y2)<=1)[0]\n",
    "# y2[tmp] = x2[tmp + np.random.randint(1024)]\n",
    "b, a = butter(2, 0.3) # order 3 lowpass butterworth filter, 0 < Wn < 1\n",
    "y2_lf = filtfilt(b, a, y2)\n",
    "y2_digit = np.asarray(y2_lf / np.abs(y2_lf).max() * np.abs(x2).max(), dtype=np.int16)\n",
    "\n",
    "fig, axs = plt.subplots(nrows=4, ncols=1, figsize=(20, 12))\n",
    "axs[0].plot(x1[:1024])\n",
    "axs[0].set_title('A')\n",
    "axs[1].plot(y1_digit)\n",
    "axs[1].set_title('A generated')\n",
    "axs[-2].plot(x2[:1024])\n",
    "axs[-2].set_title('N')\n",
    "axs[-1].plot(y2_digit)\n",
    "axs[-1].set_title('N generated')\n",
    "\n",
    "plt.show()\n",
    "'''\n",
    "pass"
   ]
  },
  {
   "cell_type": "code",
   "execution_count": 15,
   "metadata": {
    "colab": {},
    "colab_type": "code",
    "id": "FAn3FuLwV9KY"
   },
   "outputs": [],
   "source": [
    "# Data augmentation\n",
    "def slice_data(dataset, x_len=x_len, hop=x_len//2):\n",
    "  \"\"\" Method\n",
    "  1. Input: (N, variable_length) for each in N:\n",
    "  2. cut(ij, x_len) and slide hop\n",
    "  |-------data_len-------|\n",
    "  |---x_len---|\n",
    "  hop|---x_len---|\n",
    "  hop|hop|---x_len---|\n",
    "  hop|hop|hop|---x_len---|\n",
    "  \"\"\"\n",
    "  out_X = []\n",
    "  if dataset[0].shape:\n",
    "    for i in range(len(dataset)):\n",
    "      audio = dataset[i]\n",
    "      n_slices = (len(audio) - x_len) // hop + 1\n",
    "      audio_slices = []\n",
    "      for j in range(n_slices):\n",
    "        audio_slices.append(audio[j*hop:j*hop+x_len])\n",
    "\n",
    "      out_X.extend(audio_slices)\n",
    "  else:\n",
    "    audio = dataset\n",
    "    n_slices = (len(audio) - x_len) // hop + 1\n",
    "    audio_slices = []\n",
    "    for j in range(n_slices):\n",
    "      audio_slices.append(audio[j*hop:j*hop+x_len])\n",
    "\n",
    "    out_X.extend(audio_slices)\n",
    "  return np.asarray(out_X)\n",
    "\n",
    "def generate_data(dataset, wave_generator,  n_pred=n_predictions, x_len=x_len, hop=x_len//4, lf=False):\n",
    "  \"\"\" Method\n",
    "  |--------------data_len-------------|\n",
    "  |---x_len---|---x_len---|---x_len---|\n",
    "  |---x_len---|n_pred|---x_len---|n_pred|---x_len---|\n",
    "  Then slide and cut\n",
    "  \"\"\"\n",
    "  out_X = []\n",
    "  for i in range(len(dataset)):\n",
    "    audio = dataset[i]\n",
    "    n_inserts = len(audio) // x_len - 1\n",
    "    audio_slices = []\n",
    "    for j in range(n_inserts):\n",
    "      x = audio[j*(x_len+n_pred) : j*(x_len+n_pred)+x_len]\n",
    "      y = wave_generator.run(x, n_pred)\n",
    "      # if y.max() + y.min() < 0:\n",
    "      #   y = -y\n",
    "      y = (y - y.mean()) / (y.std() + 1e-8)\n",
    "      # tmp = np.where(np.abs(y)<=1)[0]\n",
    "      # y[tmp] = x[tmp + np.random.randint(n_pred)]\n",
    "      if lf:\n",
    "        y_lf = filtfilt(b, a, y)\n",
    "        y_digit = np.asarray(y_lf / (np.abs(y_lf).max() + 1e-8) * np.abs(x).max(), dtype=np.int16)\n",
    "        audio = np.concatenate([x, y_digit, audio[x_len:]])\n",
    "      else:\n",
    "        audio = np.concatenate([x, y / (np.abs(y).max() + 1e-8) * np.abs(x).max(), audio[x_len:]])\n",
    "\n",
    "    audio_slices = slice_data(audio, x_len=x_len, hop=hop)\n",
    "    out_X.extend(audio_slices)\n",
    "  \n",
    "  return np.asarray(out_X)\n"
   ]
  },
  {
   "cell_type": "code",
   "execution_count": 16,
   "metadata": {
    "colab": {},
    "colab_type": "code",
    "id": "VTUja83EQKI8",
    "outputId": "8c68adb1-d8a4-48b2-d704-a1ac45c03c0b",
    "tags": []
   },
   "outputs": [],
   "source": [
    "'''\n",
    "print('before: ', A_data.shape)\n",
    "A_data_new = generate_data(A_data, A_wave_generator, n_pred=n_predictions, x_len=x_len, hop=x_len//8, lf=False)\n",
    "print('after: ', A_data_new.shape)\n",
    "'''\n",
    "pass"
   ]
  },
  {
   "cell_type": "code",
   "execution_count": 17,
   "metadata": {
    "colab": {},
    "colab_type": "code",
    "id": "sOYFGtxAiDVV",
    "outputId": "b9727a5b-1b17-400f-d3e3-bd39c54f6a5e",
    "tags": []
   },
   "outputs": [],
   "source": [
    "'''\n",
    "print('before: ', N_data.shape)\n",
    "# N_data_new = slice_data(N_data, x_len=x_len, hop=x_len//2)\n",
    "N_data_new = generate_data(N_data, N_wave_generator, n_pred=n_predictions//2, x_len=x_len, hop=x_len*3//4, lf=False)\n",
    "print('after: ', N_data_new.shape)\n",
    "'''\n",
    "pass"
   ]
  },
  {
   "cell_type": "code",
   "execution_count": 18,
   "metadata": {
    "colab": {},
    "colab_type": "code",
    "id": "MYmnh_jKiS69"
   },
   "outputs": [],
   "source": [
    "# with open('A_data_new.pkl', 'wb') as f:\n",
    "#   pickle.dump(A_data_new.reshape(-1, 1, 2048), f)\n",
    "# with open('N_data_new.pkl', 'wb') as f:\n",
    "#   pickle.dump(N_data_new.reshape(-1, 1, 2048), f)\n",
    "with open('A_data_new.pkl', 'rb') as f:\n",
    "  A_data_new = pickle.load(f)\n",
    "with open('N_data_new.pkl', 'rb') as f:\n",
    "  N_data_new = pickle.load(f)"
   ]
  },
  {
   "cell_type": "code",
   "execution_count": 19,
   "metadata": {
    "colab": {},
    "colab_type": "code",
    "id": "wLUnubIdiTcs",
    "outputId": "277832c1-9268-43a5-c4c2-5e502d5883d0",
    "tags": []
   },
   "outputs": [
    {
     "output_type": "stream",
     "name": "stdout",
     "text": "Counter({1: 29864, 0: 29558}) Counter({0: 3348, 1: 3255})\ntrain test shape:  (59422, 1, 2048) (6603, 1, 2048)\n"
    }
   ],
   "source": [
    "# # A:1, N:0\n",
    "all_data_new = np.concatenate([A_data_new, N_data_new])\n",
    "all_label_new = np.concatenate([np.ones(A_data_new.shape[0], dtype=int), np.zeros(N_data_new.shape[0], dtype=int)])\n",
    "X_train, X_test, Y_train, Y_test = train_test_split(\n",
    "    all_data_new.reshape(-1, 1, x_len), all_label_new, test_size=0.1, random_state=0)\n",
    "print(Counter(Y_train), Counter(Y_test))\n",
    "print('train test shape: ', X_train.shape, X_test.shape)"
   ]
  },
  {
   "cell_type": "code",
   "execution_count": 20,
   "metadata": {
    "colab": {},
    "colab_type": "code",
    "id": "wSbrlOjjmdgG"
   },
   "outputs": [],
   "source": [
    "dataset = MyDataset(X_train, Y_train)\n",
    "dataset_test = MyDataset(X_test, Y_test)\n",
    "dataloader = DataLoader(dataset, batch_size=batch_size)\n",
    "dataloader_test = DataLoader(dataset_test, batch_size=batch_size, drop_last=False)"
   ]
  },
  {
   "cell_type": "code",
   "execution_count": null,
   "metadata": {
    "colab": {},
    "colab_type": "code",
    "id": "b62eT1EklapT"
   },
   "outputs": [],
   "source": []
  },
  {
   "cell_type": "code",
   "execution_count": null,
   "metadata": {
    "colab": {},
    "colab_type": "code",
    "id": "0w9rMxkrmc_x"
   },
   "outputs": [],
   "source": []
  },
  {
   "cell_type": "markdown",
   "metadata": {
    "colab_type": "text",
    "id": "p5KGVdHwd8IU"
   },
   "source": [
    "## 2. Model\n",
    ">CNN (-> mean) -> RNN (-> squeeze) -> Attention\n",
    "\n",
    "The attention model is illustrated in [Multi-class Arrhythmia detection](https://www.sciencedirect.com/science/article/pii/S1566253518307632). "
   ]
  },
  {
   "cell_type": "code",
   "execution_count": 21,
   "metadata": {
    "colab": {},
    "colab_type": "code",
    "id": "ionTv5Fq2hVa",
    "tags": []
   },
   "outputs": [],
   "source": [
    "# \"\"\" Get Slid and cut augmented data \"\"\"\n",
    "# # before: Counter({0: 4580, 1: 670}) Counter({0: 496, 1: 88})\n",
    "# X_train, X_test, Y_train, Y_test, pid_test = read_data(\n",
    "#     DATA_PATH, window_size=win_size, stride=stride, cut=True, bit=True)\n",
    "# print(X_train.shape, X_test.shape)\n",
    "\n",
    "# dataset = MyDataset(X_train, Y_train)\n",
    "# dataset_test = MyDataset(X_test, Y_test)\n",
    "# dataloader = DataLoader(dataset, batch_size=batch_size)\n",
    "# dataloader_test = DataLoader(dataset_test, batch_size=batch_size, drop_last=False)"
   ]
  },
  {
   "cell_type": "code",
   "execution_count": 22,
   "metadata": {
    "colab": {},
    "colab_type": "code",
    "id": "jE201iZokBYs"
   },
   "outputs": [],
   "source": [
    "class CRANN(nn.Module):\n",
    "  \"\"\"\n",
    "  Input:\n",
    "      X: (n_samples, n_channel, n_length)\n",
    "      Y: (n_samples)\n",
    "  Output:\n",
    "      out: (n_samples)\n",
    "  Pararmetes:\n",
    "      n_classes: number of classes\n",
    "  \"\"\"\n",
    "\n",
    "  def __init__(self, in_channels, out_channels, att_channels, n_len_seg, n_classes, device, verbose=False):\n",
    "    super(CRANN, self).__init__()\n",
    "    \n",
    "    self.n_len_seg = n_len_seg\n",
    "    self.n_classes = n_classes\n",
    "    self.in_channels = in_channels\n",
    "    self.out_channels = out_channels\n",
    "    self.att_channels = att_channels\n",
    "\n",
    "    self.device = device\n",
    "    self.verbose = verbose\n",
    "\n",
    "    # (batch, channels, length)\n",
    "    self.cnn = nn.Conv1d(in_channels=self.in_channels, \n",
    "                         out_channels=self.out_channels, \n",
    "                         kernel_size=16, \n",
    "                         stride=4)\n",
    "    self.cnn2 = nn.Conv1d(in_channels=self.out_channels, \n",
    "                         out_channels=self.out_channels, \n",
    "                         kernel_size=4,\n",
    "                         stride=2)\n",
    "    # (batch, seq, feature)\n",
    "    self.rnn = nn.LSTM(input_size=(self.out_channels), \n",
    "                       hidden_size=self.out_channels, \n",
    "                       num_layers=1, \n",
    "                       batch_first=True, \n",
    "                       bidirectional=False)\n",
    "    # attention\n",
    "    self.W = nn.Parameter(torch.randn(self.out_channels, self.att_channels))\n",
    "    self.V = nn.Parameter(torch.randn(self.att_channels, 1))\n",
    "    self.dense = nn.Linear(out_channels, n_classes)\n",
    "\n",
    "  def forward(self, x):\n",
    "\n",
    "    self.n_channel, self.n_length = x.shape[-2], x.shape[-1]\n",
    "    assert (self.n_length % self.n_len_seg == 0), \"Input n_length should divided by n_len_seg\"\n",
    "    self.n_seg = self.n_length // self.n_len_seg\n",
    "\n",
    "    out = x\n",
    "    if self.verbose: print(out.shape) # ([128, 1, 3000])\n",
    "    out = nn.BatchNorm1d(1)(out)\n",
    "    # (n_samples, n_channel, n_length) -> (n_samples, n_length, n_channel)\n",
    "    out = out.permute(0, 2, 1)\n",
    "    if self.verbose: print(out.shape) # ([128, 3000, 1])\n",
    "    # (n_samples, n_length, n_channel) -> (n_samples*n_seg, n_len_seg, n_channel)\n",
    "    out = out.view(-1, self.n_len_seg, self.n_channel)\n",
    "    if self.verbose: print(out.shape) # ([7680, 50, 1])\n",
    "    # (n_samples*n_seg, n_len_seg, n_channel) -> (n_samples*n_seg, n_channel, n_len_seg)\n",
    "    out = out.permute(0, 2, 1)\n",
    "    if self.verbose: print(out.shape) # ([7680, 1, 50])\n",
    "    # cnn\n",
    "    out = self.cnn(out)\n",
    "    if self.verbose: print('cnn', out.shape) # ([7680, 16, 9])\n",
    "    out = nn.BatchNorm1d(self.out_channels)(out)\n",
    "    out = self.cnn2(out)\n",
    "    if self.verbose: print('cnn2', out.shape) # ([7680, 16, 3])\n",
    "    out = nn.BatchNorm1d(self.out_channels)(out)\n",
    "    # global avg, (n_samples*n_seg, out_channels)\n",
    "    out = out.mean(-1)\n",
    "    if self.verbose: print('mean', out.shape) # ([7680, 16])\n",
    "    # global avg, (n_samples, n_seg, out_channels)\n",
    "    out = out.view(-1, self.n_seg, self.out_channels)\n",
    "    if self.verbose: print(out.shape) # ([128, 60, 16])\n",
    "    # rnn\n",
    "    out, (_, _) = self.rnn(out) # output, (h_n, c_n)\n",
    "    if self.verbose: print('rnn', out.shape) # ([128, 60, 16])\n",
    "    # self attention\n",
    "    e = torch.matmul(out, self.W)\n",
    "    if self.verbose: print('w', e.shape) # ([128, 60, 16])\n",
    "    e = torch.matmul(torch.tanh(e), self.V)\n",
    "    if self.verbose: print('v', e.shape) # ([128, 60, 16])\n",
    "    n1 = torch.exp(e)\n",
    "    n2 = torch.sum(torch.exp(e), 1, keepdim=True)\n",
    "    gama = torch.div(n1, n2)\n",
    "    if self.verbose: print('g', gama.shape) # ([128, 60, 1])\n",
    "    out = torch.sum(torch.mul(gama, out), 1)\n",
    "    if self.verbose: print('att_out', out.shape) # ([128, 16])\n",
    "    # dense\n",
    "    out = nn.Dropout(0.2)(out)\n",
    "    out = self.dense(out)\n",
    "    if self.verbose: print(out.shape) # ([128, 2])\n",
    "    \n",
    "    return out\n",
    "\n",
    "  def predict_proba(self, x):\n",
    "    x = np.asarray(x).reshape(-1, 1,2048)\n",
    "    if len(x.shape) < 3 or x.shape[0] == 1:\n",
    "      y = F.softmax(self.forward(torch.FloatTensor(x.reshape(1, 1, -1))), dim=1)\n",
    "      pred = y.cpu().data.numpy()[0]\n",
    "    else:\n",
    "      pred = []\n",
    "      for i in range(x.shape[0]):\n",
    "        y = F.softmax(self.forward(torch.FloatTensor(x.reshape(1, 1, -1))), dim=1)\n",
    "        pred.append(y.cpu().data.numpy()[0])\n",
    "      pred = np.asarray(pred)\n",
    "    if pred.min() < 0. or pred.max() > 1.:\n",
    "      print('warning: Network returning invalid probability values.')\n",
    "      return x[np.where(pred<0)[0]]\n",
    "    return pred\n",
    "\n",
    "  def predict(self, x):\n",
    "    if len(x.shape) < 3:\n",
    "      pred = self.forward(torch.FloatTensor(x.reshape(1, 1, -1)))\n",
    "      pred = pred.cpu().data.numpy()[0].argmax()\n",
    "    else:\n",
    "      pred = []\n",
    "      for i in range(x.shape[0]):\n",
    "        y = self.forward(torch.FloatTensor(x[i].reshape(1, 1, -1)))\n",
    "        pred.append(y.cpu().data.numpy()[0].argmax())\n",
    "      pred = np.asarray(pred)\n",
    "    return pred\n"
   ]
  },
  {
   "cell_type": "code",
   "execution_count": 23,
   "metadata": {
    "colab": {},
    "colab_type": "code",
    "id": "QPpJAw_8jzGh"
   },
   "outputs": [],
   "source": [
    "# Build a genneral function to train model\n",
    "def train(model, dataloader, dataloader_test, is_debug=False, batch_size=128, win_size=2048, n_epoch=200, early_stop=20, summ=False):\n",
    "  \"\"\" Build a genneral function to train model \"\"\"\n",
    "  if summ:\n",
    "    summary(model, torch.zeros(batch_size, 1, win_size))\n",
    "  if is_debug:\n",
    "    return\n",
    "  model.to(device)\n",
    "  model.verbose = False\n",
    "\n",
    "  if not os.path.exists(\"models\"):\n",
    "    %mkdir models\n",
    "  if os.path.exists(\"log\"):\n",
    "    %rm -rf log\n",
    "  writer = SummaryWriter(\"log\")\n",
    "\n",
    "  # train and test\n",
    "  optimizer = optim.Adam(model.parameters(), lr=5e-4, weight_decay=1e-4)\n",
    "  scheduler = optim.lr_scheduler.ReduceLROnPlateau(optimizer, mode='min', factor=0.9, patience=10)\n",
    "  loss_func = nn.CrossEntropyLoss()\n",
    "\n",
    "  step = 0\n",
    "  best_f1 = 0\n",
    "  lowest_loss = np.inf\n",
    "  stop_flag = 0\n",
    "  # train\n",
    "  for weight in model.parameters():\n",
    "    if len(weight.size()) > 1: nn.init.orthogonal_(weight.data)\n",
    "  model.train()\n",
    "  for n_iter in range(n_epoch):\n",
    "    prog_iter = dataloader\n",
    "    for batch_idx, batch in enumerate(prog_iter):\n",
    "      input_x, input_y = tuple(t.to(device) for t in batch)\n",
    "      pred = model(input_x)\n",
    "      loss = loss_func(pred, input_y)\n",
    "      optimizer.zero_grad()\n",
    "      loss.backward()\n",
    "      optimizer.step()\n",
    "      step += 1\n",
    "\n",
    "      writer.add_scalar('Loss/train', loss.item(), step)\n",
    "\n",
    "      if is_debug:\n",
    "        break\n",
    "    \n",
    "    scheduler.step(n_iter)\n",
    "\n",
    "    # test\n",
    "    model.eval()\n",
    "    # prog_iter_test = tqdm(dataloader_test, desc=\"Testing\", leave=False)\n",
    "    prog_iter_test = dataloader_test\n",
    "    all_pred_prob = []\n",
    "    with torch.no_grad():\n",
    "      for batch_idx, batch in enumerate(prog_iter_test):\n",
    "        input_x, input_y = tuple(t.to(device) for t in batch)\n",
    "        pred = model(input_x)\n",
    "        all_pred_prob.append(pred.cpu().data.numpy())\n",
    "    all_pred_prob = np.concatenate(all_pred_prob)\n",
    "    all_pred = np.argmax(all_pred_prob, axis=1)\n",
    "    ## classification report\n",
    "    tmp_report = classification_report(Y_test, all_pred, output_dict=True)\n",
    "    # print(confusion_matrix(Y_test, all_pred))\n",
    "    # print(classification_report(Y_test, all_pred))\n",
    "    f1_score = (tmp_report['0']['f1-score'] + tmp_report['1']['f1-score'])/2\n",
    "\n",
    "    writer.add_scalar('F1/f1_score', f1_score, n_iter)\n",
    "    writer.add_scalar('F1/label_0', tmp_report['0']['f1-score'], n_iter)\n",
    "    writer.add_scalar('F1/label_1', tmp_report['1']['f1-score'], n_iter)\n",
    "\n",
    "    print(\"[{:d}/{:d}]: lr: {:.4f} trn_loss: {:.5f} tst_score: {:.4f}\".format(\n",
    "        n_iter, n_epoch, optimizer.param_groups[0]['lr'], loss.data, f1_score))\n",
    "    # save best\n",
    "    if f1_score >= best_f1:\n",
    "      best_f1 = f1_score\n",
    "      torch.save(model.state_dict(), \"models/{}_{:d}_{:.4f}.pt\".format(\n",
    "          model.__class__.__name__, n_iter, f1_score))\n",
    "      best_model = \"{}_{:d}_{:.4f}.pt\".format(\n",
    "          model.__class__.__name__, n_iter, f1_score)\n",
    "    # early stopping\n",
    "    if loss.data < lowest_loss:\n",
    "      stop_flag = n_iter\n",
    "      lowest_loss = loss.data\n",
    "      # print(\"tst_score not improved {:d}/{:d}\".format(\n",
    "      #     n_iter - stop_flag, early_stop))\n",
    "    if n_iter - stop_flag >= early_stop:\n",
    "      print(\"Early stopping! The best model: {}. Lowest loss at epoch {:d}\".format(best_model, stop_flag))\n",
    "      break\n",
    "\n",
    "  return best_model, best_f1\n"
   ]
  },
  {
   "cell_type": "code",
   "execution_count": 24,
   "metadata": {
    "colab": {},
    "colab_type": "code",
    "id": "jDLLZnonWkPt",
    "outputId": "c06a75bd-3e40-4522-9e9e-8ae2fecb852e",
    "tags": []
   },
   "outputs": [],
   "source": [
    "'''\n",
    "model = CRANN(\n",
    "    in_channels=1,\n",
    "    out_channels=16,\n",
    "    att_channels=16,\n",
    "    n_len_seg=32,\n",
    "    verbose=True,\n",
    "    n_classes=2,\n",
    "    device=device)\n",
    "# less parameters: n_len_seg=32, win_size=2048\n",
    "# Attention implemented by `nn.Parameter` (will not shown in summary layers)\n",
    "# train(model, dataloader, dataloader_test, is_debug=True, summ=True)\n",
    "best_model, best_f1 = train(model, dataloader, dataloader_test)\n",
    "'''\n",
    "pass\n"
   ]
  },
  {
   "cell_type": "code",
   "execution_count": 25,
   "metadata": {
    "colab": {},
    "colab_type": "code",
    "id": "Kj3EGLJcaMlz",
    "outputId": "451a33d1-9fb9-41a1-eaa7-24d481acc132",
    "tags": []
   },
   "outputs": [],
   "source": [
    "# print(best_model, best_f1)\n",
    "# %load_ext tensorboard\n",
    "# %tensorboard --logdir log"
   ]
  },
  {
   "cell_type": "markdown",
   "metadata": {
    "colab_type": "text",
    "id": "58BStLo87OIi"
   },
   "source": [
    "## 3.Analysis"
   ]
  },
  {
   "cell_type": "code",
   "execution_count": 26,
   "metadata": {
    "colab": {},
    "colab_type": "code",
    "id": "-yzfv1VW7Qst",
    "outputId": "f1ad9855-9e60-4d85-99be-f2da1c8ccaee"
   },
   "outputs": [
    {
     "output_type": "execute_result",
     "data": {
      "text/plain": "CRANN(\n  (cnn): Conv1d(1, 16, kernel_size=(16,), stride=(4,))\n  (cnn2): Conv1d(16, 16, kernel_size=(4,), stride=(2,))\n  (rnn): LSTM(16, 16, batch_first=True)\n  (dense): Linear(in_features=16, out_features=2, bias=True)\n)"
     },
     "metadata": {},
     "execution_count": 26
    }
   ],
   "source": [
    "best_model = 'CRANN_56_0.9371.pt'\n",
    "crann_model = CRANN(\n",
    "    in_channels=1,\n",
    "    out_channels=16,\n",
    "    att_channels=16,\n",
    "    n_len_seg=32,\n",
    "    verbose=False,\n",
    "    n_classes=2,\n",
    "    device=device)\n",
    "crann_model.load_state_dict(torch.load('models/'+best_model, map_location=device))\n",
    "crann_model.eval()\n",
    "# Attention implemented by `nn.Parameter` (will not shown in summary layers)"
   ]
  },
  {
   "cell_type": "code",
   "execution_count": 27,
   "metadata": {
    "colab": {},
    "colab_type": "code",
    "id": "tD4VH25WtZlK",
    "outputId": "3cda8d3e-9248-4f0e-eeb7-0fe9a371dd9f",
    "tags": []
   },
   "outputs": [],
   "source": [
    "# classification_report\n",
    "# Counter({1: 9412, 0: 7502})\n",
    "# print(classification_report(Y_test, crann_model.predict(X_test), target_names=['N', 'A']))"
   ]
  },
  {
   "cell_type": "code",
   "execution_count": 28,
   "metadata": {
    "colab": {},
    "colab_type": "code",
    "id": "y91HZUhieWTr",
    "tags": []
   },
   "outputs": [],
   "source": [
    "try:\n",
    "  from lime import explanation\n",
    "  from lime import lime_base\n",
    "except:\n",
    "  !pip install lime\n",
    "  output.clear()\n",
    "  from lime import explanation\n",
    "  from lime import lime_base"
   ]
  },
  {
   "cell_type": "code",
   "execution_count": 29,
   "metadata": {
    "colab": {},
    "colab_type": "code",
    "id": "C0lGo9gmeW6h",
    "tags": []
   },
   "outputs": [],
   "source": [
    "if not os.path.exists('lime_timeseries.py'):\n",
    "  !git clone https://github.com/emanuel-metzenthin/Lime-For-Time.git\n",
    "  !mv Lime-For-Time/lime_timeseries.py .\n",
    "  output.clear()\n",
    "from lime_timeseries import LimeTimeSeriesExplanation"
   ]
  },
  {
   "cell_type": "code",
   "execution_count": 30,
   "metadata": {
    "colab": {},
    "colab_type": "code",
    "id": "ogDRr3ALeXSI",
    "tags": []
   },
   "outputs": [
    {
     "output_type": "execute_result",
     "data": {
      "text/plain": "[(12, 0.0007807834432343312),\n (13, 0.0006167371402033035),\n (2, -0.000567105696487178),\n (0, -0.0005078054129633272),\n (5, 0.00041652678348208896)]"
     },
     "metadata": {},
     "execution_count": 30
    }
   ],
   "source": [
    "# Counter({1: 29864, 0: 29558}) Counter({0: 3348, 1: 3255})\n",
    "X_test = X_test.reshape(-1, 2048)\n",
    "X_train = X_train.reshape(-1, 2048)\n",
    "idx_ecg = 0\n",
    "series_ecg = X_test[idx_ecg, :]\n",
    "num_slices_ecg = 17\n",
    "num_features_ecg = 5\n",
    "explainer = LimeTimeSeriesExplanation(class_names=['0', '1'], feature_selection='auto')\n",
    "\n",
    "exp = explainer.explain_instance(\n",
    "    series_ecg, crann_model.predict_proba, training_set=X_train[:100], \n",
    "    num_slices=num_slices_ecg, num_features=num_features_ecg, \n",
    "    num_samples=100, \n",
    "    replacement_method='noise')\n",
    "exp.as_list()"
   ]
  },
  {
   "cell_type": "code",
   "execution_count": 31,
   "metadata": {
    "colab": {},
    "colab_type": "code",
    "id": "QinrjddMhDZ6"
   },
   "outputs": [
    {
     "output_type": "display_data",
     "data": {
      "text/plain": "<Figure size 1440x216 with 1 Axes>",
      "image/svg+xml": "<?xml version=\"1.0\" encoding=\"utf-8\" standalone=\"no\"?>\n<!DOCTYPE svg PUBLIC \"-//W3C//DTD SVG 1.1//EN\"\n  \"http://www.w3.org/Graphics/SVG/1.1/DTD/svg11.dtd\">\n<!-- Created with matplotlib (https://matplotlib.org/) -->\n<svg height=\"194.158125pt\" version=\"1.1\" viewBox=\"0 0 1158.504688 194.158125\" width=\"1158.504688pt\" xmlns=\"http://www.w3.org/2000/svg\" xmlns:xlink=\"http://www.w3.org/1999/xlink\">\n <metadata>\n  <rdf:RDF xmlns:cc=\"http://creativecommons.org/ns#\" xmlns:dc=\"http://purl.org/dc/elements/1.1/\" xmlns:rdf=\"http://www.w3.org/1999/02/22-rdf-syntax-ns#\">\n   <cc:Work>\n    <dc:type rdf:resource=\"http://purl.org/dc/dcmitype/StillImage\"/>\n    <dc:date>2020-08-17T09:12:37.952589</dc:date>\n    <dc:format>image/svg+xml</dc:format>\n    <dc:creator>\n     <cc:Agent>\n      <dc:title>Matplotlib v3.3.0, https://matplotlib.org/</dc:title>\n     </cc:Agent>\n    </dc:creator>\n   </cc:Work>\n  </rdf:RDF>\n </metadata>\n <defs>\n  <style type=\"text/css\">*{stroke-linecap:butt;stroke-linejoin:round;}</style>\n </defs>\n <g id=\"figure_1\">\n  <g id=\"patch_1\">\n   <path d=\"M 0 194.158125 \nL 1158.504688 194.158125 \nL 1158.504688 0 \nL 0 0 \nz\n\" style=\"fill:none;\"/>\n  </g>\n  <g id=\"axes_1\">\n   <g id=\"patch_2\">\n    <path d=\"M 35.304688 170.28 \nL 1151.304688 170.28 \nL 1151.304688 7.2 \nL 35.304688 7.2 \nz\n\" style=\"fill:#ffffff;\"/>\n   </g>\n   <g id=\"patch_3\">\n    <path clip-path=\"url(#pf3341cac35)\" d=\"M 799.73272 170.28 \nL 799.73272 7.2 \nL 859.207783 7.2 \nL 859.207783 170.28 \nz\n\" style=\"fill:#ff0000;opacity:0.078078;stroke:#ff0000;stroke-linejoin:miter;\"/>\n   </g>\n   <g id=\"patch_4\">\n    <path clip-path=\"url(#pf3341cac35)\" d=\"M 859.207783 170.28 \nL 859.207783 7.2 \nL 918.682846 7.2 \nL 918.682846 170.28 \nz\n\" style=\"fill:#ff0000;opacity:0.061674;stroke:#ff0000;stroke-linejoin:miter;\"/>\n   </g>\n   <g id=\"patch_5\">\n    <path clip-path=\"url(#pf3341cac35)\" d=\"M 204.982087 170.28 \nL 204.982087 7.2 \nL 264.45715 7.2 \nL 264.45715 170.28 \nz\n\" style=\"fill:#ff0000;opacity:0.056711;stroke:#ff0000;stroke-linejoin:miter;\"/>\n   </g>\n   <g id=\"patch_6\">\n    <path clip-path=\"url(#pf3341cac35)\" d=\"M 86.03196 170.28 \nL 86.03196 7.2 \nL 145.507024 7.2 \nL 145.507024 170.28 \nz\n\" style=\"fill:#ff0000;opacity:0.050781;stroke:#ff0000;stroke-linejoin:miter;\"/>\n   </g>\n   <g id=\"patch_7\">\n    <path clip-path=\"url(#pf3341cac35)\" d=\"M 383.407277 170.28 \nL 383.407277 7.2 \nL 442.88234 7.2 \nL 442.88234 170.28 \nz\n\" style=\"fill:#ff0000;opacity:0.041653;stroke:#ff0000;stroke-linejoin:miter;\"/>\n   </g>\n   <g id=\"matplotlib.axis_1\">\n    <g id=\"xtick_1\">\n     <g id=\"line2d_1\">\n      <defs>\n       <path d=\"M 0 0 \nL 0 3.5 \n\" id=\"mff898eb3b5\" style=\"stroke:#000000;stroke-width:0.8;\"/>\n      </defs>\n      <g>\n       <use style=\"stroke:#000000;stroke-width:0.8;\" x=\"86.03196\" xlink:href=\"#mff898eb3b5\" y=\"170.28\"/>\n      </g>\n     </g>\n     <g id=\"text_1\">\n      <!-- 0 -->\n      <g transform=\"translate(82.85071 184.878438)scale(0.1 -0.1)\">\n       <defs>\n        <path d=\"M 31.78125 66.40625 \nQ 24.171875 66.40625 20.328125 58.90625 \nQ 16.5 51.421875 16.5 36.375 \nQ 16.5 21.390625 20.328125 13.890625 \nQ 24.171875 6.390625 31.78125 6.390625 \nQ 39.453125 6.390625 43.28125 13.890625 \nQ 47.125 21.390625 47.125 36.375 \nQ 47.125 51.421875 43.28125 58.90625 \nQ 39.453125 66.40625 31.78125 66.40625 \nz\nM 31.78125 74.21875 \nQ 44.046875 74.21875 50.515625 64.515625 \nQ 56.984375 54.828125 56.984375 36.375 \nQ 56.984375 17.96875 50.515625 8.265625 \nQ 44.046875 -1.421875 31.78125 -1.421875 \nQ 19.53125 -1.421875 13.0625 8.265625 \nQ 6.59375 17.96875 6.59375 36.375 \nQ 6.59375 54.828125 13.0625 64.515625 \nQ 19.53125 74.21875 31.78125 74.21875 \nz\n\" id=\"DejaVuSans-48\"/>\n       </defs>\n       <use xlink:href=\"#DejaVuSans-48\"/>\n      </g>\n     </g>\n    </g>\n    <g id=\"xtick_2\">\n     <g id=\"line2d_2\">\n      <g>\n       <use style=\"stroke:#000000;stroke-width:0.8;\" x=\"333.844724\" xlink:href=\"#mff898eb3b5\" y=\"170.28\"/>\n      </g>\n     </g>\n     <g id=\"text_2\">\n      <!-- 500 -->\n      <g transform=\"translate(324.300974 184.878438)scale(0.1 -0.1)\">\n       <defs>\n        <path d=\"M 10.796875 72.90625 \nL 49.515625 72.90625 \nL 49.515625 64.59375 \nL 19.828125 64.59375 \nL 19.828125 46.734375 \nQ 21.96875 47.46875 24.109375 47.828125 \nQ 26.265625 48.1875 28.421875 48.1875 \nQ 40.625 48.1875 47.75 41.5 \nQ 54.890625 34.8125 54.890625 23.390625 \nQ 54.890625 11.625 47.5625 5.09375 \nQ 40.234375 -1.421875 26.90625 -1.421875 \nQ 22.3125 -1.421875 17.546875 -0.640625 \nQ 12.796875 0.140625 7.71875 1.703125 \nL 7.71875 11.625 \nQ 12.109375 9.234375 16.796875 8.0625 \nQ 21.484375 6.890625 26.703125 6.890625 \nQ 35.15625 6.890625 40.078125 11.328125 \nQ 45.015625 15.765625 45.015625 23.390625 \nQ 45.015625 31 40.078125 35.4375 \nQ 35.15625 39.890625 26.703125 39.890625 \nQ 22.75 39.890625 18.8125 39.015625 \nQ 14.890625 38.140625 10.796875 36.28125 \nz\n\" id=\"DejaVuSans-53\"/>\n       </defs>\n       <use xlink:href=\"#DejaVuSans-53\"/>\n       <use x=\"63.623047\" xlink:href=\"#DejaVuSans-48\"/>\n       <use x=\"127.246094\" xlink:href=\"#DejaVuSans-48\"/>\n      </g>\n     </g>\n    </g>\n    <g id=\"xtick_3\">\n     <g id=\"line2d_3\">\n      <g>\n       <use style=\"stroke:#000000;stroke-width:0.8;\" x=\"581.657488\" xlink:href=\"#mff898eb3b5\" y=\"170.28\"/>\n      </g>\n     </g>\n     <g id=\"text_3\">\n      <!-- 1000 -->\n      <g transform=\"translate(568.932488 184.878438)scale(0.1 -0.1)\">\n       <defs>\n        <path d=\"M 12.40625 8.296875 \nL 28.515625 8.296875 \nL 28.515625 63.921875 \nL 10.984375 60.40625 \nL 10.984375 69.390625 \nL 28.421875 72.90625 \nL 38.28125 72.90625 \nL 38.28125 8.296875 \nL 54.390625 8.296875 \nL 54.390625 0 \nL 12.40625 0 \nz\n\" id=\"DejaVuSans-49\"/>\n       </defs>\n       <use xlink:href=\"#DejaVuSans-49\"/>\n       <use x=\"63.623047\" xlink:href=\"#DejaVuSans-48\"/>\n       <use x=\"127.246094\" xlink:href=\"#DejaVuSans-48\"/>\n       <use x=\"190.869141\" xlink:href=\"#DejaVuSans-48\"/>\n      </g>\n     </g>\n    </g>\n    <g id=\"xtick_4\">\n     <g id=\"line2d_4\">\n      <g>\n       <use style=\"stroke:#000000;stroke-width:0.8;\" x=\"829.470251\" xlink:href=\"#mff898eb3b5\" y=\"170.28\"/>\n      </g>\n     </g>\n     <g id=\"text_4\">\n      <!-- 1500 -->\n      <g transform=\"translate(816.745251 184.878438)scale(0.1 -0.1)\">\n       <use xlink:href=\"#DejaVuSans-49\"/>\n       <use x=\"63.623047\" xlink:href=\"#DejaVuSans-53\"/>\n       <use x=\"127.246094\" xlink:href=\"#DejaVuSans-48\"/>\n       <use x=\"190.869141\" xlink:href=\"#DejaVuSans-48\"/>\n      </g>\n     </g>\n    </g>\n    <g id=\"xtick_5\">\n     <g id=\"line2d_5\">\n      <g>\n       <use style=\"stroke:#000000;stroke-width:0.8;\" x=\"1077.283015\" xlink:href=\"#mff898eb3b5\" y=\"170.28\"/>\n      </g>\n     </g>\n     <g id=\"text_5\">\n      <!-- 2000 -->\n      <g transform=\"translate(1064.558015 184.878438)scale(0.1 -0.1)\">\n       <defs>\n        <path d=\"M 19.1875 8.296875 \nL 53.609375 8.296875 \nL 53.609375 0 \nL 7.328125 0 \nL 7.328125 8.296875 \nQ 12.9375 14.109375 22.625 23.890625 \nQ 32.328125 33.6875 34.8125 36.53125 \nQ 39.546875 41.84375 41.421875 45.53125 \nQ 43.3125 49.21875 43.3125 52.78125 \nQ 43.3125 58.59375 39.234375 62.25 \nQ 35.15625 65.921875 28.609375 65.921875 \nQ 23.96875 65.921875 18.8125 64.3125 \nQ 13.671875 62.703125 7.8125 59.421875 \nL 7.8125 69.390625 \nQ 13.765625 71.78125 18.9375 73 \nQ 24.125 74.21875 28.421875 74.21875 \nQ 39.75 74.21875 46.484375 68.546875 \nQ 53.21875 62.890625 53.21875 53.421875 \nQ 53.21875 48.921875 51.53125 44.890625 \nQ 49.859375 40.875 45.40625 35.40625 \nQ 44.1875 33.984375 37.640625 27.21875 \nQ 31.109375 20.453125 19.1875 8.296875 \nz\n\" id=\"DejaVuSans-50\"/>\n       </defs>\n       <use xlink:href=\"#DejaVuSans-50\"/>\n       <use x=\"63.623047\" xlink:href=\"#DejaVuSans-48\"/>\n       <use x=\"127.246094\" xlink:href=\"#DejaVuSans-48\"/>\n       <use x=\"190.869141\" xlink:href=\"#DejaVuSans-48\"/>\n      </g>\n     </g>\n    </g>\n   </g>\n   <g id=\"matplotlib.axis_2\">\n    <g id=\"ytick_1\">\n     <g id=\"line2d_6\">\n      <defs>\n       <path d=\"M 0 0 \nL -3.5 0 \n\" id=\"me40cfa5e9a\" style=\"stroke:#000000;stroke-width:0.8;\"/>\n      </defs>\n      <g>\n       <use style=\"stroke:#000000;stroke-width:0.8;\" x=\"35.304688\" xlink:href=\"#me40cfa5e9a\" y=\"162.867273\"/>\n      </g>\n     </g>\n     <g id=\"text_6\">\n      <!-- −30 -->\n      <g transform=\"translate(7.2 166.666492)scale(0.1 -0.1)\">\n       <defs>\n        <path d=\"M 10.59375 35.5 \nL 73.1875 35.5 \nL 73.1875 27.203125 \nL 10.59375 27.203125 \nz\n\" id=\"DejaVuSans-8722\"/>\n        <path d=\"M 40.578125 39.3125 \nQ 47.65625 37.796875 51.625 33 \nQ 55.609375 28.21875 55.609375 21.1875 \nQ 55.609375 10.40625 48.1875 4.484375 \nQ 40.765625 -1.421875 27.09375 -1.421875 \nQ 22.515625 -1.421875 17.65625 -0.515625 \nQ 12.796875 0.390625 7.625 2.203125 \nL 7.625 11.71875 \nQ 11.71875 9.328125 16.59375 8.109375 \nQ 21.484375 6.890625 26.8125 6.890625 \nQ 36.078125 6.890625 40.9375 10.546875 \nQ 45.796875 14.203125 45.796875 21.1875 \nQ 45.796875 27.640625 41.28125 31.265625 \nQ 36.765625 34.90625 28.71875 34.90625 \nL 20.21875 34.90625 \nL 20.21875 43.015625 \nL 29.109375 43.015625 \nQ 36.375 43.015625 40.234375 45.921875 \nQ 44.09375 48.828125 44.09375 54.296875 \nQ 44.09375 59.90625 40.109375 62.90625 \nQ 36.140625 65.921875 28.71875 65.921875 \nQ 24.65625 65.921875 20.015625 65.03125 \nQ 15.375 64.15625 9.8125 62.3125 \nL 9.8125 71.09375 \nQ 15.4375 72.65625 20.34375 73.4375 \nQ 25.25 74.21875 29.59375 74.21875 \nQ 40.828125 74.21875 47.359375 69.109375 \nQ 53.90625 64.015625 53.90625 55.328125 \nQ 53.90625 49.265625 50.4375 45.09375 \nQ 46.96875 40.921875 40.578125 39.3125 \nz\n\" id=\"DejaVuSans-51\"/>\n       </defs>\n       <use xlink:href=\"#DejaVuSans-8722\"/>\n       <use x=\"83.789062\" xlink:href=\"#DejaVuSans-51\"/>\n       <use x=\"147.412109\" xlink:href=\"#DejaVuSans-48\"/>\n      </g>\n     </g>\n    </g>\n    <g id=\"ytick_2\">\n     <g id=\"line2d_7\">\n      <g>\n       <use style=\"stroke:#000000;stroke-width:0.8;\" x=\"35.304688\" xlink:href=\"#me40cfa5e9a\" y=\"138.157861\"/>\n      </g>\n     </g>\n     <g id=\"text_7\">\n      <!-- −20 -->\n      <g transform=\"translate(7.2 141.95708)scale(0.1 -0.1)\">\n       <use xlink:href=\"#DejaVuSans-8722\"/>\n       <use x=\"83.789062\" xlink:href=\"#DejaVuSans-50\"/>\n       <use x=\"147.412109\" xlink:href=\"#DejaVuSans-48\"/>\n      </g>\n     </g>\n    </g>\n    <g id=\"ytick_3\">\n     <g id=\"line2d_8\">\n      <g>\n       <use style=\"stroke:#000000;stroke-width:0.8;\" x=\"35.304688\" xlink:href=\"#me40cfa5e9a\" y=\"113.448449\"/>\n      </g>\n     </g>\n     <g id=\"text_8\">\n      <!-- −10 -->\n      <g transform=\"translate(7.2 117.247668)scale(0.1 -0.1)\">\n       <use xlink:href=\"#DejaVuSans-8722\"/>\n       <use x=\"83.789062\" xlink:href=\"#DejaVuSans-49\"/>\n       <use x=\"147.412109\" xlink:href=\"#DejaVuSans-48\"/>\n      </g>\n     </g>\n    </g>\n    <g id=\"ytick_4\">\n     <g id=\"line2d_9\">\n      <g>\n       <use style=\"stroke:#000000;stroke-width:0.8;\" x=\"35.304688\" xlink:href=\"#me40cfa5e9a\" y=\"88.739038\"/>\n      </g>\n     </g>\n     <g id=\"text_9\">\n      <!-- 0 -->\n      <g transform=\"translate(21.942187 92.538256)scale(0.1 -0.1)\">\n       <use xlink:href=\"#DejaVuSans-48\"/>\n      </g>\n     </g>\n    </g>\n    <g id=\"ytick_5\">\n     <g id=\"line2d_10\">\n      <g>\n       <use style=\"stroke:#000000;stroke-width:0.8;\" x=\"35.304688\" xlink:href=\"#me40cfa5e9a\" y=\"64.029626\"/>\n      </g>\n     </g>\n     <g id=\"text_10\">\n      <!-- 10 -->\n      <g transform=\"translate(15.579687 67.828845)scale(0.1 -0.1)\">\n       <use xlink:href=\"#DejaVuSans-49\"/>\n       <use x=\"63.623047\" xlink:href=\"#DejaVuSans-48\"/>\n      </g>\n     </g>\n    </g>\n    <g id=\"ytick_6\">\n     <g id=\"line2d_11\">\n      <g>\n       <use style=\"stroke:#000000;stroke-width:0.8;\" x=\"35.304688\" xlink:href=\"#me40cfa5e9a\" y=\"39.320214\"/>\n      </g>\n     </g>\n     <g id=\"text_11\">\n      <!-- 20 -->\n      <g transform=\"translate(15.579687 43.119433)scale(0.1 -0.1)\">\n       <use xlink:href=\"#DejaVuSans-50\"/>\n       <use x=\"63.623047\" xlink:href=\"#DejaVuSans-48\"/>\n      </g>\n     </g>\n    </g>\n    <g id=\"ytick_7\">\n     <g id=\"line2d_12\">\n      <g>\n       <use style=\"stroke:#000000;stroke-width:0.8;\" x=\"35.304688\" xlink:href=\"#me40cfa5e9a\" y=\"14.610802\"/>\n      </g>\n     </g>\n     <g id=\"text_12\">\n      <!-- 30 -->\n      <g transform=\"translate(15.579687 18.410021)scale(0.1 -0.1)\">\n       <use xlink:href=\"#DejaVuSans-51\"/>\n       <use x=\"63.623047\" xlink:href=\"#DejaVuSans-48\"/>\n      </g>\n     </g>\n    </g>\n   </g>\n   <g id=\"line2d_13\">\n    <path clip-path=\"url(#pf3341cac35)\" d=\"M 86.03196 88.739038 \nL 98.918224 88.739038 \nL 99.413849 86.268096 \nL 103.378854 86.268096 \nL 103.874479 88.739038 \nL 105.856981 88.739038 \nL 106.352607 86.268096 \nL 117.256368 86.268096 \nL 117.751994 88.739038 \nL 126.673253 88.739038 \nL 127.168879 86.268096 \nL 132.125134 86.268096 \nL 132.62076 83.797155 \nL 140.550768 83.797155 \nL 141.046394 86.268096 \nL 151.45453 86.268096 \nL 151.950155 83.797155 \nL 152.445781 83.797155 \nL 152.941406 81.326214 \nL 153.932657 81.326214 \nL 154.923909 86.268096 \nL 155.419534 91.209979 \nL 155.91516 98.622802 \nL 156.906411 118.390332 \nL 157.402036 123.332214 \nL 157.897662 125.803155 \nL 158.393287 125.803155 \nL 158.888913 120.861273 \nL 160.375789 98.622802 \nL 160.871415 93.68092 \nL 161.862666 88.739038 \nL 162.853917 88.739038 \nL 163.349542 86.268096 \nL 165.82767 86.268096 \nL 166.323296 88.739038 \nL 167.314547 88.739038 \nL 167.810172 86.268096 \nL 181.192061 86.268096 \nL 181.687687 88.739038 \nL 192.591449 88.739038 \nL 193.087074 91.209979 \nL 193.5827 91.209979 \nL 194.078325 93.68092 \nL 197.052078 93.68092 \nL 197.547704 96.151861 \nL 200.521457 96.151861 \nL 201.017083 93.68092 \nL 203.990836 93.68092 \nL 204.486461 91.209979 \nL 207.460214 91.209979 \nL 207.95584 88.739038 \nL 212.912095 88.739038 \nL 213.407721 86.268096 \nL 215.390223 86.268096 \nL 215.885848 88.739038 \nL 295.681558 88.739038 \nL 296.177184 86.268096 \nL 301.629065 86.268096 \nL 302.12469 88.739038 \nL 309.559073 88.739038 \nL 310.054699 86.268096 \nL 310.550324 86.268096 \nL 311.04595 83.797155 \nL 312.532826 83.797155 \nL 313.524077 88.739038 \nL 314.515328 103.564685 \nL 315.010954 113.448449 \nL 316.002205 128.274096 \nL 316.49783 128.274096 \nL 316.993456 125.803155 \nL 317.489082 120.861273 \nL 317.984707 113.448449 \nL 318.480333 103.564685 \nL 318.975958 96.151861 \nL 319.967209 91.209979 \nL 321.454086 91.209979 \nL 321.949711 88.739038 \nL 322.940962 88.739038 \nL 323.436588 86.268096 \nL 339.296605 86.268096 \nL 339.79223 83.153262 \nL 340.287856 83.153262 \nL 340.783481 89.513882 \nL 360.112877 89.513882 \nL 360.608502 126.749028 \nL 361.104128 89.513882 \nL 361.599753 126.749028 \nL 362.095379 87.133012 \nL 363.08663 87.133012 \nL 363.582256 85.113218 \nL 364.077881 90.280257 \nL 365.564758 90.280257 \nL 366.060383 53.371499 \nL 368.538511 53.371499 \nL 369.034136 126.749028 \nL 369.529762 87.810085 \nL 372.00789 87.810085 \nL 372.503515 53.371499 \nL 372.999141 89.513882 \nL 373.990392 89.513882 \nL 374.486017 126.749028 \nL 374.981643 89.513882 \nL 375.972894 89.513882 \nL 376.468519 87.888834 \nL 376.964145 89.513882 \nL 377.955396 86.327939 \nL 378.451021 53.371499 \nL 378.946647 94.243247 \nL 379.937898 94.243247 \nL 380.433523 126.749028 \nL 380.929149 89.513882 \nL 395.797915 89.513882 \nL 396.29354 83.153262 \nL 396.789166 126.749028 \nL 397.284791 89.513882 \nL 457.25548 89.513882 \nL 457.751106 126.749028 \nL 458.246731 126.749028 \nL 458.742357 89.513882 \nL 488.479888 89.513882 \nL 488.975514 83.153262 \nL 489.47114 83.153262 \nL 489.966765 89.513882 \nL 490.462391 83.153262 \nL 490.958016 89.513882 \nL 516.730544 89.513882 \nL 517.226169 126.749028 \nL 517.721795 89.513882 \nL 518.21742 126.749028 \nL 518.713046 87.133012 \nL 520.695548 87.133012 \nL 521.191173 90.280257 \nL 521.686799 90.280257 \nL 522.182424 53.371499 \nL 525.156177 53.371499 \nL 525.651803 126.749028 \nL 526.147429 87.810085 \nL 528.129931 87.810085 \nL 528.625556 87.133012 \nL 529.121182 53.371499 \nL 529.616807 83.153262 \nL 530.112433 89.513882 \nL 532.59056 89.513882 \nL 533.086186 87.888834 \nL 533.581811 89.513882 \nL 534.077437 87.888834 \nL 534.573063 53.371499 \nL 535.068688 46.733038 \nL 535.564314 53.371499 \nL 536.059939 94.243247 \nL 536.555565 53.371499 \nL 537.05119 126.749028 \nL 537.546816 89.513882 \nL 538.538067 89.513882 \nL 539.033692 87.133012 \nL 539.529318 89.513882 \nL 550.928705 89.513882 \nL 551.42433 89.628136 \nL 551.919956 83.153262 \nL 552.911207 83.153262 \nL 553.406833 89.513882 \nL 553.902458 81.00822 \nL 554.398084 89.513882 \nL 555.389335 89.513882 \nL 555.88496 126.749028 \nL 556.380586 89.513882 \nL 566.293096 89.513882 \nL 566.788722 126.749028 \nL 567.284347 87.133012 \nL 567.779973 87.133012 \nL 568.275598 89.513882 \nL 582.648739 89.513882 \nL 583.144364 53.371499 \nL 583.63999 53.371499 \nL 584.135615 83.153262 \nL 584.631241 89.513882 \nL 593.056875 89.513882 \nL 593.5525 74.784851 \nL 594.048126 87.636072 \nL 654.51444 87.636072 \nL 655.010066 162.867273 \nL 656.001317 162.867273 \nL 656.496942 87.636072 \nL 686.234474 87.636072 \nL 686.730099 74.784851 \nL 687.225725 87.636072 \nL 710.024499 87.636072 \nL 710.520125 162.867273 \nL 711.01575 162.867273 \nL 711.511376 82.825678 \nL 712.502627 82.825678 \nL 712.998252 14.612727 \nL 713.989503 162.867273 \nL 714.485129 14.612727 \nL 716.467631 14.612727 \nL 716.963257 87.636072 \nL 717.954508 87.636072 \nL 718.450133 162.867273 \nL 720.928261 162.867273 \nL 721.423886 87.636072 \nL 725.884516 87.636072 \nL 726.380142 84.352766 \nL 727.371393 84.352766 \nL 727.867018 162.867273 \nL 728.858269 162.867273 \nL 729.353895 87.636072 \nL 757.108924 87.636072 \nL 757.60455 162.867273 \nL 758.100175 14.612727 \nL 758.595801 14.612727 \nL 759.091426 87.636072 \nL 846.817145 87.636072 \nL 847.31277 88.722741 \nL 873.085298 88.722741 \nL 873.580923 86.948993 \nL 875.0678 86.948993 \nL 875.563425 88.722741 \nL 876.059051 86.948993 \nL 876.554676 88.722741 \nL 881.510932 88.722741 \nL 882.006557 99.10628 \nL 882.502183 88.722741 \nL 906.787834 88.722741 \nL 907.283459 99.10628 \nL 908.27471 99.10628 \nL 908.770336 88.936455 \nL 909.761587 88.936455 \nL 910.257212 88.058802 \nL 910.752838 87.495554 \nL 911.248463 88.936455 \nL 912.239714 88.936455 \nL 912.73534 78.643934 \nL 915.213468 78.643934 \nL 915.709093 99.10628 \nL 916.204719 88.247613 \nL 917.691595 88.247613 \nL 918.187221 78.643934 \nL 919.178472 78.643934 \nL 919.674097 88.058802 \nL 920.169723 86.948993 \nL 920.665348 88.722741 \nL 922.64785 88.722741 \nL 923.639101 87.834296 \nL 924.134727 88.269573 \nL 924.630353 78.643934 \nL 925.125978 88.269573 \nL 925.621604 90.04159 \nL 926.117229 78.643934 \nL 927.10848 99.10628 \nL 927.604106 88.058802 \nL 928.099731 88.722741 \nL 928.595357 88.058802 \nL 929.586608 88.058802 \nL 930.082233 88.722741 \nL 939.994744 88.722741 \nL 940.490369 86.948993 \nL 940.985995 49.203979 \nL 941.48162 88.754602 \nL 941.977246 88.754602 \nL 942.472872 86.948993 \nL 942.968497 86.948993 \nL 943.464123 88.722741 \nL 943.959748 86.350818 \nL 944.455374 88.722741 \nL 944.950999 88.058802 \nL 946.437876 88.058802 \nL 946.933501 88.722741 \nL 955.854761 88.722741 \nL 956.350386 88.058802 \nL 958.332888 88.058802 \nL 958.828514 88.722741 \nL 972.210403 88.722741 \nL 972.706029 88.269573 \nL 973.201654 78.643934 \nL 973.69728 78.643934 \nL 974.192905 88.722741 \nL 974.688531 88.269573 \nL 975.184156 88.269573 \nL 975.679782 99.10628 \nL 977.166658 99.10628 \nL 977.662284 88.722741 \nL 980.636037 88.722741 \nL 981.131663 99.10628 \nL 982.618539 99.10628 \nL 983.114165 88.722741 \nL 1002.939186 88.722741 \nL 1003.434811 99.10628 \nL 1006.408565 99.10628 \nL 1006.90419 88.722741 \nL 1035.154845 88.722741 \nL 1035.650471 86.948993 \nL 1036.641722 86.948993 \nL 1037.137347 78.643934 \nL 1037.632973 88.722741 \nL 1038.128598 86.948993 \nL 1038.624224 99.10628 \nL 1039.119849 88.722741 \nL 1043.580479 88.722741 \nL 1044.076105 99.10628 \nL 1044.57173 99.10628 \nL 1045.067356 88.722741 \nL 1052.501739 88.722741 \nL 1052.997364 99.10628 \nL 1053.49299 88.058802 \nL 1053.988615 88.936455 \nL 1054.484241 88.058802 \nL 1054.979866 88.058802 \nL 1055.475492 87.495554 \nL 1055.971117 88.936455 \nL 1057.953619 88.936455 \nL 1058.449245 78.643934 \nL 1060.431747 78.643934 \nL 1060.927373 99.10628 \nL 1061.422998 88.247613 \nL 1063.901126 88.247613 \nL 1064.396751 78.643934 \nL 1064.892377 78.643934 \nL 1065.883628 99.10628 \nL 1066.379253 99.10628 \nL 1066.874879 88.722741 \nL 1067.370504 99.10628 \nL 1067.86613 88.722741 \nL 1068.361755 88.722741 \nL 1069.353007 87.834296 \nL 1069.848632 78.643934 \nL 1070.344258 90.04159 \nL 1071.831134 90.04159 \nL 1072.32676 99.10628 \nL 1072.822385 88.058802 \nL 1073.318011 88.722741 \nL 1073.813636 88.722741 \nL 1074.309262 88.058802 \nL 1074.804887 88.722741 \nL 1085.213023 88.722741 \nL 1085.708649 86.948993 \nL 1088.186777 86.948993 \nL 1088.682402 88.722741 \nL 1089.178028 88.058802 \nL 1089.673653 88.722741 \nL 1090.664904 88.722741 \nL 1091.16053 99.10628 \nL 1091.656155 88.058802 \nL 1092.151781 88.722741 \nL 1100.577415 88.722741 \nL 1100.577415 88.722741 \n\" style=\"fill:none;stroke:#0000ff;stroke-linecap:square;stroke-width:1.5;\"/>\n   </g>\n   <g id=\"line2d_14\">\n    <path clip-path=\"url(#pf3341cac35)\" d=\"M 86.03196 88.695533 \nL 87.023211 88.664597 \nL 87.518837 88.49145 \nL 88.510088 88.621557 \nL 89.005713 88.500344 \nL 91.979467 88.817232 \nL 92.970718 88.832435 \nL 94.95322 88.672006 \nL 95.944471 88.739725 \nL 98.422598 88.670017 \nL 98.918224 88.537725 \nL 99.413849 88.754049 \nL 100.405101 88.61094 \nL 100.900726 88.691088 \nL 101.891977 88.705598 \nL 104.86573 88.918439 \nL 105.856981 89.083997 \nL 106.352607 88.802161 \nL 106.848232 88.745542 \nL 107.343858 88.865496 \nL 108.335109 88.744399 \nL 108.830734 88.817471 \nL 110.317611 88.667822 \nL 112.300113 88.863041 \nL 112.795739 88.782444 \nL 113.291364 88.864405 \nL 113.78699 88.654318 \nL 115.273866 88.732397 \nL 116.760743 88.567653 \nL 117.256368 88.545213 \nL 117.751994 88.406862 \nL 119.238871 88.406346 \nL 119.734496 88.620878 \nL 120.725747 88.715006 \nL 121.221373 88.898893 \nL 122.212624 88.790114 \nL 122.708249 88.709971 \nL 123.203875 88.818987 \nL 123.6995 88.704822 \nL 124.195126 88.872142 \nL 124.690751 88.875515 \nL 125.186377 88.7098 \nL 125.682002 88.778642 \nL 128.16013 88.503439 \nL 128.655756 88.771305 \nL 129.151381 88.643572 \nL 129.647007 88.39802 \nL 130.142632 88.61236 \nL 130.638258 88.532652 \nL 132.125134 88.583239 \nL 132.62076 88.358322 \nL 133.116385 88.545107 \nL 134.107636 88.523594 \nL 134.603262 88.405756 \nL 135.098887 88.538046 \nL 136.090138 88.460395 \nL 137.577015 88.635079 \nL 138.568266 88.540848 \nL 139.559517 88.782621 \nL 140.550768 88.744414 \nL 141.542019 88.760717 \nL 142.037645 88.555959 \nL 143.028896 88.517039 \nL 143.524521 88.295802 \nL 144.515772 88.526783 \nL 145.507024 88.576109 \nL 146.002649 88.471799 \nL 146.498275 88.529611 \nL 147.489526 88.455177 \nL 147.985151 88.569241 \nL 148.976402 88.484697 \nL 149.472028 88.280625 \nL 150.958904 88.37455 \nL 151.45453 88.392946 \nL 152.445781 88.601827 \nL 153.437032 88.609494 \nL 154.428283 88.620933 \nL 154.923909 88.506182 \nL 155.91516 88.628982 \nL 156.906411 88.695113 \nL 157.897662 88.537155 \nL 159.384538 88.654947 \nL 161.862666 88.538079 \nL 162.358291 88.462541 \nL 163.349542 88.62259 \nL 164.836419 88.529025 \nL 165.82767 88.611092 \nL 166.818921 88.517675 \nL 168.305798 88.418186 \nL 168.801423 88.483262 \nL 169.792674 88.350515 \nL 171.279551 88.478716 \nL 171.775176 88.358429 \nL 173.262053 88.53946 \nL 173.757679 88.347665 \nL 174.74893 88.412205 \nL 178.713934 88.332671 \nL 179.705185 88.119464 \nL 180.20081 88.13467 \nL 180.696436 88.313171 \nL 181.687687 88.289412 \nL 184.66144 88.379474 \nL 185.157066 88.597263 \nL 186.148317 88.563516 \nL 186.643942 88.601788 \nL 187.635193 88.480665 \nL 188.626444 88.45594 \nL 189.617695 88.468714 \nL 190.113321 88.3389 \nL 190.608947 88.417 \nL 191.104572 88.265974 \nL 192.095823 88.306488 \nL 194.078325 88.296457 \nL 195.565202 88.321546 \nL 196.556453 88.58888 \nL 198.043329 88.439947 \nL 198.538955 88.631408 \nL 200.521457 88.438656 \nL 201.017083 88.265894 \nL 201.512708 88.434232 \nL 202.503959 88.410536 \nL 203.49521 88.279057 \nL 203.990836 88.368481 \nL 204.486461 88.194274 \nL 205.477712 88.365624 \nL 205.973338 88.278534 \nL 206.964589 88.458179 \nL 207.460214 88.341469 \nL 210.929593 88.392084 \nL 211.920844 88.266855 \nL 212.41647 88.218215 \nL 213.407721 88.332459 \nL 216.381474 88.151368 \nL 216.877099 88.227008 \nL 217.372725 88.128902 \nL 219.850853 88.301132 \nL 220.346478 88.276485 \nL 220.842104 88.402847 \nL 221.833355 88.295677 \nL 223.320231 88.414671 \nL 226.293984 88.321114 \nL 227.780861 88.7086 \nL 228.772112 88.652141 \nL 229.267738 88.608305 \nL 229.763363 88.398941 \nL 230.754614 88.555273 \nL 231.25024 88.544 \nL 231.745865 88.251333 \nL 232.241491 88.541163 \nL 232.737116 88.603997 \nL 233.232742 88.426015 \nL 233.728367 88.608829 \nL 234.223993 88.552157 \nL 235.215244 88.705918 \nL 237.197746 88.469961 \nL 239.180248 88.478525 \nL 240.171499 88.662761 \nL 240.667125 88.565725 \nL 241.658376 88.651635 \nL 242.649627 88.405374 \nL 243.640878 88.271888 \nL 244.136503 88.475619 \nL 244.632129 88.455627 \nL 245.127755 88.568489 \nL 247.605882 88.381441 \nL 248.101508 88.475141 \nL 248.597133 88.383929 \nL 249.588384 88.58927 \nL 250.579635 88.460289 \nL 252.066512 88.43579 \nL 252.562137 88.651134 \nL 253.553388 88.381315 \nL 254.54464 88.424271 \nL 255.040265 88.305096 \nL 256.031516 88.450145 \nL 257.518393 88.682327 \nL 258.014018 88.794131 \nL 258.509644 88.752952 \nL 259.005269 88.597685 \nL 260.987771 88.837617 \nL 261.483397 88.666116 \nL 263.465899 88.654122 \nL 264.45715 88.674885 \nL 264.952776 88.521642 \nL 265.448401 88.510998 \nL 266.439652 88.72067 \nL 266.935278 88.660714 \nL 267.430903 88.718726 \nL 267.926529 88.619869 \nL 268.422154 88.727355 \nL 270.900282 88.629871 \nL 272.387159 88.6245 \nL 272.882784 88.526162 \nL 274.369661 88.54184 \nL 274.865286 88.393162 \nL 275.360912 88.569074 \nL 277.343414 88.621498 \nL 277.839039 88.537535 \nL 278.83029 88.792464 \nL 279.325916 88.653588 \nL 280.317167 88.767238 \nL 280.812792 88.641592 \nL 281.308418 88.731628 \nL 282.795295 88.374932 \nL 283.29092 88.275043 \nL 284.777797 88.433493 \nL 285.273422 88.309601 \nL 286.264673 88.436503 \nL 288.742801 88.491935 \nL 289.238426 88.362206 \nL 290.725303 88.572834 \nL 292.21218 88.472466 \nL 292.707805 88.661081 \nL 293.699056 88.583236 \nL 296.672809 88.5016 \nL 300.637814 88.805839 \nL 302.12469 88.564319 \nL 302.620316 88.651855 \nL 304.107192 88.468863 \nL 304.602818 88.585316 \nL 306.58532 88.580049 \nL 307.080945 88.635526 \nL 307.576571 88.574377 \nL 308.567822 88.727255 \nL 309.063448 88.59101 \nL 310.054699 88.52538 \nL 310.550324 88.712627 \nL 311.04595 88.589299 \nL 312.037201 88.661757 \nL 312.532826 88.462763 \nL 315.010954 88.52716 \nL 315.506579 88.447565 \nL 316.002205 88.602426 \nL 317.489082 88.333988 \nL 321.949711 88.597646 \nL 322.445337 88.81755 \nL 323.436588 88.761376 \nL 323.932213 88.75938 \nL 324.427839 88.639432 \nL 324.923464 88.690963 \nL 326.410341 88.48357 \nL 328.888469 88.507329 \nL 329.87972 88.426779 \nL 330.375345 88.413593 \nL 330.870971 88.594755 \nL 331.366596 88.329181 \nL 332.853473 88.319195 \nL 333.349098 88.242862 \nL 333.844724 88.363841 \nL 334.340349 88.600501 \nL 335.3316 88.501542 \nL 337.314103 88.59482 \nL 342.270358 88.491093 \nL 342.765983 88.697834 \nL 343.261609 88.570805 \nL 343.757234 88.630822 \nL 344.25286 88.560805 \nL 345.244111 88.561708 \nL 347.722239 88.314909 \nL 348.71349 88.22312 \nL 349.209115 88.006528 \nL 350.695992 88.452199 \nL 351.687243 88.3473 \nL 352.678494 88.447368 \nL 353.174119 88.428385 \nL 353.669745 88.554183 \nL 354.660996 88.478417 \nL 355.156622 88.353984 \nL 357.634749 88.571734 \nL 358.130375 88.528495 \nL 358.626 88.633359 \nL 359.121626 88.468049 \nL 360.608502 88.782925 \nL 363.08663 88.678862 \nL 365.069132 88.479055 \nL 365.564758 88.669921 \nL 366.556009 88.46735 \nL 367.051634 88.626844 \nL 368.538511 88.421817 \nL 370.521013 88.725447 \nL 371.512264 88.503826 \nL 373.990392 88.478158 \nL 374.981643 88.344004 \nL 375.477268 88.37882 \nL 375.972894 88.260405 \nL 376.468519 88.342362 \nL 376.964145 88.251009 \nL 377.45977 88.416324 \nL 378.451021 88.393503 \nL 378.946647 88.593379 \nL 379.937898 88.502096 \nL 380.433523 88.70997 \nL 381.424775 88.63312 \nL 381.9204 88.591355 \nL 382.416026 88.428999 \nL 383.407277 88.57065 \nL 385.389779 88.585441 \nL 387.372281 88.629111 \nL 387.867906 88.500273 \nL 388.363532 88.585712 \nL 389.850409 88.441247 \nL 392.328536 88.665935 \nL 392.824162 88.487417 \nL 393.319787 88.824443 \nL 393.815413 88.703863 \nL 395.302289 88.726643 \nL 395.797915 88.571783 \nL 397.284791 88.646792 \nL 397.780417 88.514078 \nL 399.762919 88.521997 \nL 400.258545 88.571729 \nL 400.75417 88.741588 \nL 404.223549 88.685638 \nL 405.2148 88.628061 \nL 406.206051 88.665216 \nL 406.701676 88.823418 \nL 407.197302 88.734514 \nL 407.692927 88.847881 \nL 408.684179 88.661655 \nL 409.67543 88.779756 \nL 410.666681 88.736276 \nL 411.162306 88.843538 \nL 411.657932 88.711689 \nL 412.649183 88.76703 \nL 413.144808 88.589217 \nL 415.12731 88.649763 \nL 417.605438 88.570788 \nL 418.101064 88.884635 \nL 419.58794 88.909812 \nL 420.083566 88.727177 \nL 421.570442 88.626789 \nL 422.066068 88.506553 \nL 423.552944 88.738609 \nL 424.04857 88.654985 \nL 424.544195 88.755992 \nL 425.039821 88.613641 \nL 426.526698 89.051823 \nL 427.022323 88.942378 \nL 429.004825 88.930981 \nL 429.500451 88.718339 \nL 429.996076 88.820136 \nL 430.491702 88.715881 \nL 430.987327 88.80199 \nL 431.482953 88.653341 \nL 431.978578 88.816188 \nL 432.969829 88.753112 \nL 433.465455 88.823701 \nL 434.456706 88.532406 \nL 436.439208 88.667652 \nL 436.934834 88.681882 \nL 437.430459 88.573145 \nL 438.42171 88.611713 \nL 438.917336 88.510205 \nL 439.412961 88.624822 \nL 439.908587 88.527513 \nL 441.395463 88.559703 \nL 441.891089 88.359521 \nL 442.386714 88.528389 \nL 443.873591 88.438133 \nL 444.369217 88.639169 \nL 445.360468 88.535625 \nL 448.829846 88.542583 \nL 449.325472 88.662564 \nL 450.316723 88.529187 \nL 451.307974 88.615498 \nL 451.803599 88.424289 \nL 453.786102 88.622215 \nL 455.272978 88.649699 \nL 455.768604 88.482318 \nL 456.264229 88.616574 \nL 457.25548 88.421383 \nL 458.246731 88.478458 \nL 459.733608 88.548086 \nL 460.229233 88.461214 \nL 461.220484 88.44339 \nL 462.211736 88.332128 \nL 463.202987 88.481058 \nL 464.194238 88.35014 \nL 464.689863 88.519241 \nL 467.663616 88.298953 \nL 468.159242 88.439174 \nL 469.150493 88.421601 \nL 470.637369 88.603626 \nL 471.132995 88.49486 \nL 473.611123 88.443645 \nL 475.593625 88.341145 \nL 476.584876 88.611241 \nL 477.576127 88.517174 \nL 478.071752 88.619116 \nL 479.063003 88.491329 \nL 480.054254 88.493581 \nL 481.541131 88.209958 \nL 482.532382 88.31428 \nL 484.514884 88.641191 \nL 485.506135 88.526868 \nL 486.001761 88.385337 \nL 486.497386 88.396836 \nL 486.993012 88.547695 \nL 488.975514 88.364433 \nL 489.966765 88.347078 \nL 491.949267 88.491041 \nL 493.931769 88.856964 \nL 494.427395 88.923232 \nL 495.418646 88.727714 \nL 495.914271 88.81548 \nL 496.409897 88.621066 \nL 496.905522 88.664385 \nL 497.401148 88.504195 \nL 498.392399 88.635122 \nL 498.888025 88.394249 \nL 500.374901 88.418413 \nL 500.870527 88.494606 \nL 501.861778 88.239378 \nL 502.357403 88.387226 \nL 503.348654 88.239806 \nL 503.84428 88.382609 \nL 504.835531 88.403731 \nL 505.331156 88.562927 \nL 509.791786 88.554371 \nL 510.287412 88.596362 \nL 510.783037 88.452991 \nL 512.765539 88.43609 \nL 513.261165 88.307824 \nL 514.748041 88.221513 \nL 515.243667 88.109501 \nL 517.721795 88.427078 \nL 518.21742 88.425706 \nL 519.208671 88.707715 \nL 519.704297 88.607554 \nL 520.199922 88.718105 \nL 521.686799 88.566044 \nL 522.67805 88.60572 \nL 523.173675 88.533018 \nL 523.669301 88.631433 \nL 524.164926 88.567964 \nL 525.156177 88.599303 \nL 526.147429 88.647356 \nL 527.13868 88.506052 \nL 527.634305 88.615163 \nL 529.121182 88.576418 \nL 529.616807 88.624553 \nL 530.112433 88.523366 \nL 530.608058 88.691572 \nL 533.086186 88.686269 \nL 534.077437 88.777129 \nL 534.573063 88.830211 \nL 535.068688 88.692874 \nL 535.564314 88.829974 \nL 536.059939 88.686249 \nL 537.05119 88.636379 \nL 537.546816 88.556512 \nL 538.538067 88.621255 \nL 541.016194 88.598217 \nL 541.51182 88.499504 \nL 542.007445 88.674678 \nL 544.485573 88.844528 \nL 544.981199 88.643625 \nL 545.476824 88.754498 \nL 547.954952 88.622922 \nL 548.450577 88.686265 \nL 548.946203 88.63076 \nL 550.433079 88.710952 \nL 551.42433 88.748497 \nL 552.415581 88.686648 \nL 553.406833 88.811869 \nL 554.893709 88.962564 \nL 555.88496 88.727452 \nL 556.380586 88.720217 \nL 556.876211 88.595243 \nL 558.363088 88.700022 \nL 558.858713 88.444185 \nL 559.354339 88.396301 \nL 559.849964 88.530294 \nL 560.841215 88.422365 \nL 562.823718 88.406363 \nL 563.319343 88.554948 \nL 563.814969 88.543358 \nL 564.310594 88.65088 \nL 565.797471 88.599072 \nL 567.779973 88.929069 \nL 568.275598 88.786293 \nL 569.266849 88.871692 \nL 569.762475 88.613928 \nL 570.2581 88.708381 \nL 570.753726 88.487971 \nL 573.231854 88.404513 \nL 573.727479 88.537185 \nL 574.223105 88.447531 \nL 579.674985 88.669178 \nL 581.161862 88.56677 \nL 581.657488 88.693753 \nL 582.648739 88.579493 \nL 583.63999 88.592364 \nL 584.631241 88.634219 \nL 587.604994 88.506224 \nL 588.596245 88.552599 \nL 591.074373 88.684253 \nL 592.065624 88.563092 \nL 593.056875 88.417004 \nL 593.5525 88.478384 \nL 594.543751 88.353319 \nL 596.526253 88.284619 \nL 597.517504 88.314029 \nL 598.508756 88.468714 \nL 599.004381 88.373378 \nL 601.978134 88.664349 \nL 602.47376 88.619822 \nL 603.465011 88.762013 \nL 603.960636 88.634884 \nL 604.951887 88.638046 \nL 605.447513 88.50746 \nL 605.943138 88.514578 \nL 606.438764 88.659845 \nL 609.412517 88.348149 \nL 609.908143 88.451113 \nL 610.403768 88.373769 \nL 610.899394 88.421918 \nL 611.395019 88.318647 \nL 611.890645 88.397988 \nL 612.881896 88.314397 \nL 613.377521 88.493244 \nL 614.864398 88.612114 \nL 615.360023 88.451037 \nL 616.351275 88.401065 \nL 616.8469 88.352885 \nL 617.342526 88.466971 \nL 617.838151 88.433287 \nL 618.333777 88.255883 \nL 618.829402 88.37053 \nL 619.325028 88.301609 \nL 619.820653 88.466915 \nL 620.811904 88.338231 \nL 624.281283 88.367903 \nL 624.776908 88.50904 \nL 625.272534 88.453524 \nL 626.263785 88.531372 \nL 626.759411 88.394191 \nL 627.255036 88.526808 \nL 627.750662 88.390518 \nL 628.741913 88.501303 \nL 630.724415 88.489581 \nL 631.22004 88.298075 \nL 633.698168 88.235148 \nL 634.193794 88.4258 \nL 637.663172 88.423979 \nL 638.654423 88.470917 \nL 639.645674 88.341035 \nL 640.636925 88.451218 \nL 641.132551 88.617947 \nL 641.628176 88.591996 \nL 642.123802 88.402821 \nL 643.115053 88.538812 \nL 643.610679 88.392285 \nL 644.60193 88.558224 \nL 645.593181 88.60514 \nL 647.575683 88.574007 \nL 648.071308 88.447313 \nL 649.062559 88.593605 \nL 649.558185 88.510075 \nL 650.549436 88.62771 \nL 651.045061 88.533619 \nL 651.540687 88.616569 \nL 652.036312 88.540247 \nL 653.027564 88.679685 \nL 653.523189 88.615824 \nL 654.018815 88.684034 \nL 654.51444 88.564645 \nL 655.010066 88.69273 \nL 656.496942 88.533522 \nL 658.97507 88.511521 \nL 659.470695 88.434732 \nL 660.957572 88.59421 \nL 661.453198 88.472242 \nL 666.409453 88.767578 \nL 669.383206 88.345215 \nL 671.365708 88.457101 \nL 672.852585 88.659412 \nL 674.835087 88.330599 \nL 675.330712 88.430694 \nL 676.321963 88.363924 \nL 679.295717 88.284337 \nL 679.791342 88.38397 \nL 680.286968 88.303243 \nL 681.278219 88.533872 \nL 682.26947 88.466596 \nL 682.765095 88.381753 \nL 684.747597 88.481335 \nL 685.243223 88.377421 \nL 686.234474 88.452592 \nL 686.730099 88.38793 \nL 687.72135 88.654299 \nL 688.712602 88.736041 \nL 689.208227 88.628798 \nL 689.703853 88.771289 \nL 692.677606 88.57804 \nL 694.164482 88.697563 \nL 694.660108 88.554079 \nL 695.155733 88.7243 \nL 696.146984 88.776619 \nL 697.138235 88.741005 \nL 698.129487 88.573318 \nL 699.616363 88.562991 \nL 700.607614 88.376185 \nL 702.094491 88.595156 \nL 702.590116 88.650183 \nL 703.581367 88.601156 \nL 704.076993 88.722032 \nL 705.563869 88.736565 \nL 707.050746 88.802433 \nL 708.041997 88.668483 \nL 709.033248 88.5747 \nL 709.528874 88.429951 \nL 710.024499 88.447754 \nL 710.520125 88.702829 \nL 712.998252 88.68462 \nL 713.493878 88.75721 \nL 714.485129 88.605198 \nL 714.980754 88.730208 \nL 716.963257 88.671175 \nL 717.458882 88.883945 \nL 717.954508 88.76561 \nL 719.441384 89.075192 \nL 719.93701 88.898879 \nL 722.910763 88.967108 \nL 725.388891 88.635904 \nL 726.380142 88.691987 \nL 727.867018 88.785725 \nL 728.362644 88.916756 \nL 730.345146 88.610569 \nL 732.327648 88.636969 \nL 732.823273 88.526318 \nL 733.814525 88.646555 \nL 734.805776 88.489127 \nL 735.301401 88.576526 \nL 735.797027 88.489969 \nL 737.283903 88.735387 \nL 738.77078 88.506933 \nL 740.257656 88.514616 \nL 740.753282 88.677202 \nL 741.248907 88.48864 \nL 743.23141 88.531083 \nL 744.718286 88.814647 \nL 745.213912 88.672474 \nL 747.692039 88.73544 \nL 748.68329 88.675058 \nL 749.178916 88.767906 \nL 750.665792 88.707683 \nL 751.161418 88.826957 \nL 752.152669 88.773734 \nL 753.14392 88.682533 \nL 753.639546 88.873132 \nL 755.126422 88.715273 \nL 755.622048 88.73749 \nL 756.117673 88.5539 \nL 756.613299 88.553672 \nL 757.108924 88.711658 \nL 757.60455 88.716487 \nL 758.100175 88.596685 \nL 758.595801 88.606555 \nL 759.091426 88.476737 \nL 759.587052 88.557867 \nL 760.578303 88.534029 \nL 761.569554 88.497513 \nL 762.06518 88.596397 \nL 763.056431 88.344671 \nL 764.543307 88.700677 \nL 765.038933 88.59047 \nL 765.534558 88.595926 \nL 766.030184 88.730383 \nL 766.525809 88.599701 \nL 768.012686 88.457849 \nL 769.003937 88.326338 \nL 770.490814 88.437036 \nL 770.986439 88.674461 \nL 772.473316 88.682161 \nL 773.464567 88.532708 \nL 773.960192 88.264346 \nL 774.455818 88.412288 \nL 774.951443 88.296746 \nL 775.447069 88.437254 \nL 775.942694 88.36729 \nL 776.933945 88.456454 \nL 780.89895 88.235406 \nL 781.394575 88.471452 \nL 782.385826 88.37131 \nL 783.872703 88.515518 \nL 784.368328 88.366909 \nL 785.359579 88.370452 \nL 786.35083 88.206905 \nL 787.342081 88.47912 \nL 787.837707 88.326158 \nL 788.333333 88.4479 \nL 788.828958 88.440572 \nL 789.324584 88.571537 \nL 791.802711 88.494247 \nL 792.298337 88.568262 \nL 792.793962 88.440673 \nL 795.27209 88.697907 \nL 795.767715 88.554566 \nL 796.263341 88.621481 \nL 796.758966 88.569651 \nL 797.254592 88.385492 \nL 798.741469 88.492259 \nL 800.228345 88.495101 \nL 800.723971 88.610459 \nL 801.219596 88.444187 \nL 803.202098 88.512481 \nL 803.697724 88.296005 \nL 804.193349 88.375374 \nL 804.688975 88.278678 \nL 805.1846 88.343369 \nL 805.680226 88.256403 \nL 806.175852 88.453909 \nL 806.671477 88.400601 \nL 807.167103 88.635086 \nL 808.158354 88.719377 \nL 808.653979 88.481768 \nL 811.132107 88.494924 \nL 811.627732 88.593744 \nL 812.618983 88.382943 \nL 814.601485 88.309961 \nL 815.097111 88.203399 \nL 815.592737 88.405394 \nL 818.56649 88.412223 \nL 819.062115 88.654515 \nL 819.557741 88.521718 \nL 820.548992 88.673724 \nL 821.540243 88.539333 \nL 822.035868 88.610852 \nL 822.531494 88.492332 \nL 823.027119 88.653066 \nL 824.01837 88.416921 \nL 826.496498 88.614214 \nL 826.992124 88.467196 \nL 829.470251 88.624071 \nL 829.965877 88.764642 \nL 832.444004 88.52072 \nL 833.435256 88.480681 \nL 833.930881 88.447145 \nL 834.426507 88.552918 \nL 835.417758 88.496099 \nL 836.409009 88.578567 \nL 837.40026 88.592925 \nL 837.895885 88.713081 \nL 838.391511 88.594532 \nL 838.887136 88.768663 \nL 839.878387 88.727946 \nL 840.869638 88.521979 \nL 842.356515 88.463494 \nL 842.852141 88.580693 \nL 843.347766 88.493839 \nL 843.843392 88.664393 \nL 845.330268 88.751981 \nL 845.825894 88.64612 \nL 846.817145 88.749382 \nL 848.304021 88.692407 \nL 848.799647 88.620778 \nL 849.790898 88.74524 \nL 850.286523 88.635241 \nL 851.7734 88.776113 \nL 852.269026 88.485868 \nL 852.764651 88.494277 \nL 853.755902 88.674942 \nL 854.747153 88.551183 \nL 855.738404 88.456124 \nL 856.729655 88.72022 \nL 858.712157 88.72978 \nL 860.69466 88.423036 \nL 861.685911 88.396913 \nL 862.677162 88.564685 \nL 865.155289 88.661834 \nL 866.14654 88.543403 \nL 867.137791 88.756199 \nL 868.624668 88.769549 \nL 869.615919 88.746313 \nL 870.111545 88.52604 \nL 879.032804 88.467663 \nL 880.024055 88.503253 \nL 882.006557 88.761196 \nL 883.989059 88.776747 \nL 884.484685 88.643377 \nL 885.475936 88.713033 \nL 886.467187 88.511464 \nL 888.945315 88.545391 \nL 889.44094 88.39554 \nL 890.432191 88.485747 \nL 890.927817 88.60785 \nL 893.90157 88.430484 \nL 894.397195 88.662016 \nL 894.892821 88.494621 \nL 896.379697 88.618086 \nL 897.370949 88.478575 \nL 898.857825 88.57271 \nL 899.353451 88.654787 \nL 900.344702 88.496301 \nL 901.335953 88.681018 \nL 901.831578 88.613195 \nL 902.327204 88.841408 \nL 903.318455 88.79909 \nL 904.309706 88.858288 \nL 904.805331 88.58389 \nL 907.283459 88.487038 \nL 907.779085 88.342014 \nL 908.27471 88.489831 \nL 908.770336 88.348539 \nL 910.752838 88.299242 \nL 911.744089 88.558179 \nL 912.239714 88.426786 \nL 913.230965 88.602139 \nL 913.726591 88.691597 \nL 914.222216 88.61845 \nL 915.709093 88.809838 \nL 916.204719 88.612552 \nL 916.700344 88.793343 \nL 920.169723 88.486493 \nL 920.665348 88.601361 \nL 921.160974 88.462335 \nL 921.656599 88.553427 \nL 922.64785 88.458768 \nL 924.134727 88.531929 \nL 924.630353 88.596802 \nL 925.125978 88.538999 \nL 926.117229 88.730471 \nL 927.10848 88.410017 \nL 929.090982 88.631892 \nL 929.586608 88.547531 \nL 930.577859 88.557434 \nL 932.064735 88.474127 \nL 933.055987 88.524625 \nL 933.551612 88.415647 \nL 934.047238 88.535434 \nL 936.02974 88.434852 \nL 937.516616 88.436335 \nL 938.507867 88.643545 \nL 939.003493 88.59424 \nL 939.994744 88.781279 \nL 940.985995 88.720916 \nL 942.472872 88.822183 \nL 943.959748 88.376326 \nL 944.455374 88.623291 \nL 946.437876 88.390764 \nL 946.933501 88.4587 \nL 947.429127 88.377041 \nL 948.916003 88.61478 \nL 949.907254 88.629535 \nL 950.40288 88.503213 \nL 950.898506 88.585185 \nL 952.385382 88.568831 \nL 953.376633 88.623238 \nL 953.872259 88.607446 \nL 954.367884 88.759003 \nL 955.854761 88.633761 \nL 956.350386 88.736717 \nL 957.837263 88.604994 \nL 959.819765 88.53985 \nL 960.315391 88.609921 \nL 961.306642 88.315346 \nL 962.297893 88.37614 \nL 964.77602 88.262683 \nL 966.758522 88.47531 \nL 967.749773 88.382007 \nL 968.245399 88.465593 \nL 968.741024 88.304305 \nL 972.706029 88.555945 \nL 973.201654 88.360639 \nL 978.653535 88.447754 \nL 979.149161 88.271676 \nL 980.636037 88.48772 \nL 982.122914 88.501892 \nL 983.114165 88.668141 \nL 983.60979 88.475364 \nL 984.601041 88.59229 \nL 985.096667 88.370355 \nL 985.592292 88.421213 \nL 986.583543 88.390852 \nL 987.079169 88.482373 \nL 987.574795 88.424264 \nL 989.061671 88.597987 \nL 990.052922 88.449637 \nL 990.548548 88.591494 \nL 991.539799 88.569234 \nL 992.035424 88.437956 \nL 992.53105 88.716173 \nL 993.026675 88.573931 \nL 995.009177 88.499405 \nL 995.504803 88.662201 \nL 996.000428 88.539293 \nL 997.487305 88.575253 \nL 997.982931 88.638849 \nL 998.478556 88.516799 \nL 1000.461058 88.615435 \nL 1000.956684 88.547089 \nL 1001.947935 88.676466 \nL 1002.939186 88.631024 \nL 1003.930437 88.569996 \nL 1004.426062 88.590346 \nL 1005.417314 88.405025 \nL 1007.399816 88.576072 \nL 1008.886692 88.590283 \nL 1009.877943 88.537527 \nL 1011.860445 88.518277 \nL 1012.851696 88.551382 \nL 1013.347322 88.676696 \nL 1015.329824 88.618792 \nL 1015.82545 88.413261 \nL 1017.807952 88.777576 \nL 1018.799203 88.62398 \nL 1019.790454 88.820097 \nL 1022.268581 88.767639 \nL 1022.764207 88.638296 \nL 1023.259833 88.657179 \nL 1024.251084 88.489523 \nL 1025.242335 88.708278 \nL 1025.73796 88.635045 \nL 1026.729211 88.694693 \nL 1028.216088 88.394538 \nL 1028.711713 88.480249 \nL 1029.207339 88.363696 \nL 1029.702964 88.54901 \nL 1030.694215 88.599278 \nL 1031.189841 88.833458 \nL 1032.181092 88.56605 \nL 1032.676718 88.687229 \nL 1033.172343 88.496581 \nL 1034.65922 88.537987 \nL 1036.146096 88.270761 \nL 1037.137347 88.191925 \nL 1037.632973 88.417311 \nL 1038.128598 88.326644 \nL 1039.119849 88.526059 \nL 1040.606726 88.415495 \nL 1041.597977 88.65295 \nL 1042.093603 88.43115 \nL 1042.589228 88.510046 \nL 1043.084854 88.379617 \nL 1048.041109 88.618686 \nL 1049.527985 88.35791 \nL 1052.006113 88.667168 \nL 1052.997364 88.63612 \nL 1053.988615 88.577402 \nL 1054.484241 88.581258 \nL 1055.475492 88.771657 \nL 1055.971117 88.644994 \nL 1058.449245 88.545395 \nL 1059.440496 88.477176 \nL 1062.909875 88.62419 \nL 1063.901126 88.42966 \nL 1064.892377 88.5233 \nL 1065.388002 88.282678 \nL 1066.379253 88.546495 \nL 1066.874879 88.501416 \nL 1068.361755 88.712894 \nL 1069.353007 88.538861 \nL 1069.848632 88.608675 \nL 1070.839883 88.459919 \nL 1075.796138 88.686498 \nL 1076.787389 88.591969 \nL 1077.778641 88.525883 \nL 1079.265517 88.224234 \nL 1079.761143 88.347739 \nL 1080.256768 88.251602 \nL 1081.743645 88.550702 \nL 1082.23927 88.443949 \nL 1082.734896 88.450937 \nL 1083.230521 88.342849 \nL 1083.726147 88.491282 \nL 1084.221772 88.380341 \nL 1085.708649 88.546229 \nL 1086.6999 88.653073 \nL 1087.691151 88.425284 \nL 1091.16053 88.516992 \nL 1092.647406 88.610415 \nL 1093.143032 88.493639 \nL 1093.638657 88.580308 \nL 1094.134283 88.349437 \nL 1095.125534 88.609967 \nL 1095.621159 88.536985 \nL 1096.116785 88.591634 \nL 1097.108036 88.325471 \nL 1098.099287 88.492929 \nL 1099.090538 88.523463 \nL 1100.577415 88.600479 \nL 1100.577415 88.600479 \n\" style=\"fill:none;stroke:#008000;stroke-linecap:square;stroke-width:1.5;\"/>\n   </g>\n   <g id=\"line2d_15\">\n    <path clip-path=\"url(#pf3341cac35)\" d=\"M 86.03196 88.649218 \nL 87.023211 88.638066 \nL 89.501339 88.671453 \nL 90.988216 88.637093 \nL 91.979467 88.650613 \nL 93.466343 88.49193 \nL 97.431347 88.661949 \nL 99.909475 88.567252 \nL 101.891977 88.594073 \nL 108.335109 88.685888 \nL 110.317611 88.759904 \nL 120.725747 88.665959 \nL 128.16013 88.640281 \nL 129.647007 88.4292 \nL 130.638258 88.429228 \nL 132.125134 88.296502 \nL 135.594513 88.289377 \nL 136.090138 88.462158 \nL 137.577015 88.509401 \nL 138.568266 88.489562 \nL 139.559517 88.394677 \nL 141.542019 88.661231 \nL 144.020147 88.538714 \nL 148.480777 88.320234 \nL 149.472028 88.43901 \nL 150.958904 88.429139 \nL 151.45453 88.339171 \nL 152.445781 88.482298 \nL 153.437032 88.530291 \nL 155.91516 88.570444 \nL 157.897662 88.432246 \nL 159.384538 88.42019 \nL 160.871415 88.632071 \nL 165.82767 88.700587 \nL 168.801423 88.456971 \nL 169.792674 88.467654 \nL 170.2883 88.351664 \nL 171.279551 88.299813 \nL 172.766428 88.280096 \nL 173.757679 88.407082 \nL 175.244555 88.316926 \nL 176.235806 88.417576 \nL 176.731432 88.349083 \nL 178.218308 88.654569 \nL 179.209559 88.641872 \nL 180.20081 88.458991 \nL 185.157066 88.574733 \nL 186.643942 88.734707 \nL 188.626444 88.715157 \nL 191.600198 88.478873 \nL 192.591449 88.692505 \nL 193.5827 88.731029 \nL 194.573951 88.757346 \nL 195.565202 88.617747 \nL 198.043329 88.480627 \nL 198.538955 88.42676 \nL 200.025832 88.547194 \nL 207.460214 88.823471 \nL 208.451465 88.756628 \nL 210.929593 88.759468 \nL 211.920844 88.678237 \nL 212.41647 88.778199 \nL 213.407721 88.708492 \nL 213.903346 88.793581 \nL 216.877099 88.598237 \nL 217.372725 88.631668 \nL 219.355227 88.35105 \nL 220.842104 88.49894 \nL 223.320231 88.617588 \nL 224.311482 88.495696 \nL 225.302733 88.437196 \nL 226.293984 88.50376 \nL 227.285236 88.463869 \nL 227.780861 88.570611 \nL 230.754614 88.441934 \nL 232.241491 88.625828 \nL 237.693372 88.641168 \nL 238.188997 88.491364 \nL 240.171499 88.546786 \nL 241.658376 88.491157 \nL 242.154001 88.588991 \nL 243.145252 88.506491 \nL 244.632129 88.565947 \nL 245.127755 88.469435 \nL 245.62338 88.547686 \nL 247.110257 88.433366 \nL 248.101508 88.597924 \nL 249.092759 88.602446 \nL 251.075261 88.713989 \nL 255.535891 88.61469 \nL 256.527142 88.570315 \nL 258.014018 88.54982 \nL 259.500895 88.566092 \nL 259.99652 88.679946 \nL 262.970274 88.721109 \nL 263.961525 88.646876 \nL 265.944027 88.654662 \nL 267.926529 88.672913 \nL 269.413405 88.569216 \nL 272.387159 88.807955 \nL 272.882784 88.700779 \nL 273.874035 88.739996 \nL 277.343414 88.57558 \nL 278.83029 88.637065 \nL 279.821541 88.55306 \nL 282.795295 88.378457 \nL 285.273422 88.277914 \nL 286.760299 88.319957 \nL 288.247175 88.468624 \nL 289.238426 88.591441 \nL 290.229678 88.583618 \nL 292.21218 88.822985 \nL 293.203431 88.718709 \nL 294.194682 88.685191 \nL 295.185933 88.551589 \nL 299.150937 88.686085 \nL 300.142188 88.562571 \nL 302.12469 88.682769 \nL 303.611567 88.551219 \nL 305.098443 88.542178 \nL 305.594069 88.674398 \nL 309.063448 88.465057 \nL 311.04595 88.546979 \nL 312.037201 88.538116 \nL 315.010954 88.456018 \nL 319.967209 88.510632 \nL 321.454086 88.626171 \nL 322.940962 88.457452 \nL 327.401592 88.711197 \nL 328.888469 88.899977 \nL 329.87972 88.874048 \nL 331.862222 88.877141 \nL 333.844724 88.890382 \nL 334.835975 88.762758 \nL 337.314103 88.839381 \nL 337.809728 88.7804 \nL 338.800979 88.787926 \nL 342.270358 88.648254 \nL 342.765983 88.705543 \nL 343.757234 88.597391 \nL 344.748486 88.774481 \nL 346.235362 88.650847 \nL 347.226613 88.610424 \nL 348.217864 88.71319 \nL 351.687243 88.490438 \nL 352.678494 88.356889 \nL 357.634749 88.735865 \nL 361.104128 88.476042 \nL 363.08663 88.643247 \nL 370.025387 88.457892 \nL 371.016638 88.560387 \nL 375.477268 88.781239 \nL 375.972894 88.718258 \nL 376.964145 88.874689 \nL 377.955396 88.784111 \nL 380.929149 88.813477 \nL 381.424775 88.776345 \nL 382.416026 88.904474 \nL 384.894153 88.633223 \nL 385.885404 88.669032 \nL 386.876655 88.601148 \nL 388.859157 88.787368 \nL 391.832911 88.748226 \nL 392.328536 88.683775 \nL 393.319787 88.709122 \nL 394.806664 88.737849 \nL 396.789166 88.507588 \nL 397.780417 88.624669 \nL 400.258545 88.442552 \nL 400.75417 88.56641 \nL 401.745421 88.479205 \nL 402.241047 88.507467 \nL 402.736672 88.392972 \nL 403.727923 88.519833 \nL 404.719174 88.541849 \nL 405.2148 88.527921 \nL 405.710425 88.637212 \nL 406.701676 88.550835 \nL 407.692927 88.612395 \nL 408.684179 88.649198 \nL 409.67543 88.643542 \nL 410.171055 88.525612 \nL 411.657932 88.590044 \nL 417.109813 88.783768 \nL 418.101064 88.85911 \nL 419.092315 88.764038 \nL 419.58794 88.56671 \nL 423.552944 88.646851 \nL 424.544195 88.53523 \nL 425.535446 88.635364 \nL 426.526698 88.50578 \nL 427.022323 88.577619 \nL 427.517949 88.484417 \nL 428.013574 88.583186 \nL 429.004825 88.615819 \nL 429.996076 88.582364 \nL 431.482953 88.585511 \nL 436.934834 88.583706 \nL 437.926085 88.610908 \nL 441.395463 88.555851 \nL 442.386714 88.689661 \nL 443.873591 88.656495 \nL 446.847344 88.547093 \nL 447.838595 88.509702 \nL 449.821097 88.424158 \nL 450.812348 88.487633 \nL 455.272978 88.452153 \nL 456.759855 88.49684 \nL 459.733608 88.546298 \nL 468.159242 88.734215 \nL 469.150493 88.615817 \nL 470.141744 88.661807 \nL 471.132995 88.628678 \nL 472.619872 88.621853 \nL 474.106748 88.67957 \nL 474.602374 88.636687 \nL 475.593625 88.772701 \nL 476.08925 88.800431 \nL 477.576127 88.547743 \nL 478.071752 88.599565 \nL 479.558629 88.423676 \nL 481.045506 88.408091 \nL 482.036757 88.474982 \nL 483.028008 88.569436 \nL 484.019259 88.563825 \nL 485.01051 88.579279 \nL 486.497386 88.465292 \nL 487.488637 88.536103 \nL 492.444893 88.457087 \nL 492.940518 88.562638 \nL 494.427395 88.425774 \nL 497.401148 88.530031 \nL 502.853029 88.633991 \nL 504.339905 88.541325 \nL 506.322407 88.670072 \nL 508.30491 88.605405 \nL 509.296161 88.620578 \nL 509.791786 88.534124 \nL 511.774288 88.574457 \nL 515.739292 88.517904 \nL 517.226169 88.632432 \nL 520.695548 88.732345 \nL 523.669301 88.626334 \nL 525.156177 88.615386 \nL 526.147429 88.757275 \nL 527.634305 88.787838 \nL 529.121182 88.708162 \nL 530.112433 88.574288 \nL 531.599309 88.621783 \nL 533.086186 88.519164 \nL 537.05119 88.552013 \nL 538.042441 88.641548 \nL 543.989948 88.724651 \nL 545.476824 88.919393 \nL 548.946203 88.680313 \nL 550.433079 88.513945 \nL 552.911207 88.63685 \nL 555.389335 88.226358 \nL 556.876211 88.465649 \nL 559.849964 88.697054 \nL 560.34559 88.61045 \nL 560.841215 88.644448 \nL 561.336841 88.547439 \nL 562.328092 88.571758 \nL 563.814969 88.604966 \nL 570.753726 88.570814 \nL 572.736228 88.344625 \nL 575.214356 88.568568 \nL 576.205607 88.576139 \nL 576.701232 88.675352 \nL 578.683734 88.600247 \nL 581.657488 88.697583 \nL 583.144364 88.599124 \nL 584.135615 88.708062 \nL 587.604994 88.7243 \nL 589.091871 88.629922 \nL 590.083122 88.531042 \nL 592.065624 88.669991 \nL 596.030628 88.71788 \nL 599.500007 88.63741 \nL 600.491258 88.63715 \nL 601.482509 88.616857 \nL 602.47376 88.622323 \nL 605.447513 88.477699 \nL 605.943138 88.401255 \nL 610.899394 88.790267 \nL 612.38627 88.688997 \nL 613.873147 88.602817 \nL 614.864398 88.599471 \nL 618.333777 88.540705 \nL 621.803155 88.712363 \nL 622.794406 88.761012 \nL 624.281283 88.675081 \nL 624.776908 88.515352 \nL 626.759411 88.481709 \nL 627.255036 88.394457 \nL 628.741913 88.496433 \nL 629.237538 88.448696 \nL 630.228789 88.490892 \nL 631.22004 88.452396 \nL 631.715666 88.365294 \nL 632.706917 88.577768 \nL 633.698168 88.653766 \nL 634.689419 88.655925 \nL 637.167547 88.530113 \nL 639.645674 88.459747 \nL 641.628176 88.461717 \nL 643.610679 88.609836 \nL 647.575683 88.546908 \nL 648.566934 88.518744 \nL 650.05381 88.484369 \nL 654.018815 88.576533 \nL 659.966321 88.504846 \nL 662.940074 88.600578 \nL 663.931325 88.58796 \nL 666.905078 88.529138 \nL 667.400704 88.451406 \nL 669.878831 88.674932 \nL 670.870083 88.607581 \nL 671.365708 88.547581 \nL 672.356959 88.616609 \nL 674.339461 88.531533 \nL 674.835087 88.556419 \nL 675.826338 88.372172 \nL 677.313214 88.394225 \nL 677.80884 88.33143 \nL 680.286968 88.593947 \nL 685.738848 88.596712 \nL 686.234474 88.627934 \nL 687.225725 88.492353 \nL 688.216976 88.498426 \nL 688.712602 88.481255 \nL 689.208227 88.627445 \nL 689.703853 88.521027 \nL 690.695104 88.583279 \nL 693.173231 88.570402 \nL 696.64261 88.663264 \nL 697.633861 88.538308 \nL 699.616363 88.63459 \nL 701.598865 88.685804 \nL 702.590116 88.587815 \nL 704.076993 88.46905 \nL 705.563869 88.428654 \nL 706.555121 88.422753 \nL 708.041997 88.43384 \nL 709.528874 88.538043 \nL 710.024499 88.43786 \nL 711.01575 88.518735 \nL 716.963257 88.763392 \nL 718.945759 88.766115 \nL 720.432635 88.702993 \nL 725.388891 88.359743 \nL 726.380142 88.557047 \nL 729.353895 88.564134 \nL 730.345146 88.656693 \nL 731.832022 88.536341 \nL 733.318899 88.666278 \nL 735.301401 88.688888 \nL 735.797027 88.731453 \nL 736.788278 88.58937 \nL 738.275154 88.529607 \nL 739.266405 88.435132 \nL 741.248907 88.529212 \nL 743.727035 88.587335 \nL 745.213912 88.622839 \nL 745.709537 88.657136 \nL 746.700788 88.587288 \nL 755.126422 88.487513 \nL 756.117673 88.55904 \nL 757.60455 88.637176 \nL 758.100175 88.729585 \nL 759.091426 88.658551 \nL 760.578303 88.820446 \nL 762.06518 88.734441 \nL 762.560805 88.776736 \nL 764.047682 88.645939 \nL 767.51706 88.488842 \nL 768.508311 88.606184 \nL 769.499562 88.570833 \nL 769.995188 88.547736 \nL 770.490814 88.636197 \nL 771.97769 88.560255 \nL 775.942694 88.715689 \nL 776.933945 88.578082 \nL 782.385826 88.717922 \nL 783.872703 88.583812 \nL 784.368328 88.7161 \nL 784.863954 88.697694 \nL 785.855205 88.783115 \nL 789.820209 88.543824 \nL 793.289588 88.598908 \nL 794.280839 88.508532 \nL 795.767715 88.634933 \nL 796.263341 88.619718 \nL 796.758966 88.772968 \nL 806.671477 88.678985 \nL 809.149605 88.736973 \nL 812.618983 88.564957 \nL 813.610234 88.503815 \nL 814.10586 88.419762 \nL 816.583988 88.581218 \nL 820.548992 88.511598 \nL 824.01837 88.524081 \nL 826.000873 88.604165 \nL 827.487749 88.715801 \nL 829.470251 88.652749 \nL 829.965877 88.578446 \nL 830.957128 88.706111 \nL 831.948379 88.647395 \nL 837.40026 88.919235 \nL 839.878387 88.7057 \nL 841.860889 88.586736 \nL 842.356515 88.498862 \nL 844.339017 88.607039 \nL 845.330268 88.587025 \nL 846.321519 88.680978 \nL 866.14654 88.515971 \nL 867.633417 88.561823 \nL 871.598421 88.439199 \nL 874.572174 88.583124 \nL 875.0678 88.528308 \nL 876.554676 88.603332 \nL 892.414693 88.459036 \nL 893.405944 88.370279 \nL 894.397195 88.401068 \nL 896.379697 88.454532 \nL 897.866574 88.538659 \nL 899.849076 88.593551 \nL 900.840327 88.696739 \nL 901.335953 88.715944 \nL 902.327204 88.50998 \nL 907.779085 88.542912 \nL 908.770336 88.538378 \nL 910.752838 88.505293 \nL 911.744089 88.586765 \nL 912.239714 88.651799 \nL 913.230965 88.602978 \nL 917.691595 88.788897 \nL 918.682846 88.863869 \nL 919.674097 88.771098 \nL 920.665348 88.648216 \nL 921.656599 88.772674 \nL 923.143476 88.592478 \nL 924.134727 88.580071 \nL 925.125978 88.471761 \nL 926.117229 88.473281 \nL 928.595357 88.611168 \nL 929.586608 88.650508 \nL 931.56911 88.705295 \nL 932.560361 88.707831 \nL 934.047238 88.640085 \nL 935.038489 88.602457 \nL 945.94225 88.784021 \nL 946.437876 88.681891 \nL 947.429127 88.666931 \nL 948.916003 88.679252 \nL 950.898506 88.717451 \nL 951.889757 88.619139 \nL 952.385382 88.506622 \nL 952.881008 88.562197 \nL 953.872259 88.498954 \nL 959.324139 88.490152 \nL 959.819765 88.621471 \nL 961.306642 88.685688 \nL 962.793518 88.782399 \nL 963.784769 88.699614 \nL 964.77602 88.619747 \nL 966.262897 88.493764 \nL 972.706029 88.765489 \nL 976.175407 88.550844 \nL 977.166658 88.657938 \nL 978.653535 88.650636 \nL 979.644786 88.685693 \nL 980.636037 88.665601 \nL 981.131663 88.727042 \nL 981.627288 88.619378 \nL 984.105416 88.633614 \nL 986.583543 88.427798 \nL 988.07042 88.553036 \nL 988.566046 88.49407 \nL 989.557297 88.603081 \nL 990.052922 88.555928 \nL 990.548548 88.620598 \nL 991.044173 88.505681 \nL 994.017926 88.548419 \nL 995.009177 88.449622 \nL 997.982931 88.578574 \nL 1003.434811 88.478181 \nL 1004.921688 88.47073 \nL 1005.912939 88.569017 \nL 1006.90419 88.434884 \nL 1008.886692 88.547921 \nL 1010.373569 88.42745 \nL 1012.851696 88.446616 \nL 1015.82545 88.678322 \nL 1016.816701 88.605008 \nL 1018.303577 88.51524 \nL 1019.294828 88.568138 \nL 1020.286079 88.490814 \nL 1022.268581 88.715585 \nL 1024.746709 88.783769 \nL 1025.242335 88.626406 \nL 1028.216088 88.511328 \nL 1029.207339 88.556845 \nL 1030.19859 88.593603 \nL 1030.694215 88.669368 \nL 1031.685466 88.685668 \nL 1038.624224 88.476347 \nL 1040.1111 88.555693 \nL 1042.093603 88.571989 \nL 1043.084854 88.636124 \nL 1044.57173 88.516494 \nL 1045.067356 88.509067 \nL 1045.562981 88.386976 \nL 1050.519237 88.641025 \nL 1051.014862 88.56076 \nL 1053.49299 88.750596 \nL 1058.94487 88.447926 \nL 1059.936122 88.568307 \nL 1063.4055 88.396739 \nL 1064.892377 88.557077 \nL 1065.883628 88.628723 \nL 1071.335509 88.689153 \nL 1074.309262 88.460764 \nL 1078.274266 88.448393 \nL 1080.752394 88.395922 \nL 1082.734896 88.484083 \nL 1083.726147 88.487538 \nL 1085.213023 88.53304 \nL 1085.708649 88.498994 \nL 1086.204274 88.587729 \nL 1087.195526 88.538448 \nL 1089.178028 88.561665 \nL 1092.647406 88.730646 \nL 1094.629908 88.685807 \nL 1095.621159 88.685773 \nL 1098.594913 88.657432 \nL 1099.586164 88.735695 \nL 1100.577415 88.801389 \nL 1100.577415 88.801389 \n\" style=\"fill:none;stroke:#ff0000;stroke-linecap:square;stroke-width:1.5;\"/>\n   </g>\n   <g id=\"patch_8\">\n    <path d=\"M 35.304688 170.28 \nL 35.304688 7.2 \n\" style=\"fill:none;stroke:#000000;stroke-linecap:square;stroke-linejoin:miter;stroke-width:0.8;\"/>\n   </g>\n   <g id=\"patch_9\">\n    <path d=\"M 1151.304688 170.28 \nL 1151.304688 7.2 \n\" style=\"fill:none;stroke:#000000;stroke-linecap:square;stroke-linejoin:miter;stroke-width:0.8;\"/>\n   </g>\n   <g id=\"patch_10\">\n    <path d=\"M 35.304688 170.28 \nL 1151.304688 170.28 \n\" style=\"fill:none;stroke:#000000;stroke-linecap:square;stroke-linejoin:miter;stroke-width:0.8;\"/>\n   </g>\n   <g id=\"patch_11\">\n    <path d=\"M 35.304688 7.2 \nL 1151.304688 7.2 \n\" style=\"fill:none;stroke:#000000;stroke-linecap:square;stroke-linejoin:miter;stroke-width:0.8;\"/>\n   </g>\n   <g id=\"legend_1\">\n    <g id=\"patch_12\">\n     <path d=\"M 42.304688 165.28 \nL 168.954688 165.28 \nQ 170.954688 165.28 170.954688 163.28 \nL 170.954688 120.245625 \nQ 170.954688 118.245625 168.954688 118.245625 \nL 42.304688 118.245625 \nQ 40.304688 118.245625 40.304688 120.245625 \nL 40.304688 163.28 \nQ 40.304688 165.28 42.304688 165.28 \nz\n\" style=\"fill:#ffffff;opacity:0.8;stroke:#cccccc;stroke-linejoin:miter;\"/>\n    </g>\n    <g id=\"line2d_16\">\n     <path d=\"M 44.304688 126.344063 \nL 64.304688 126.344063 \n\" style=\"fill:none;stroke:#0000ff;stroke-linecap:square;stroke-width:1.5;\"/>\n    </g>\n    <g id=\"line2d_17\"/>\n    <g id=\"text_13\">\n     <!-- Explained instance -->\n     <g transform=\"translate(72.304688 129.844063)scale(0.1 -0.1)\">\n      <defs>\n       <path d=\"M 9.8125 72.90625 \nL 55.90625 72.90625 \nL 55.90625 64.59375 \nL 19.671875 64.59375 \nL 19.671875 43.015625 \nL 54.390625 43.015625 \nL 54.390625 34.71875 \nL 19.671875 34.71875 \nL 19.671875 8.296875 \nL 56.78125 8.296875 \nL 56.78125 0 \nL 9.8125 0 \nz\n\" id=\"DejaVuSans-69\"/>\n       <path d=\"M 54.890625 54.6875 \nL 35.109375 28.078125 \nL 55.90625 0 \nL 45.3125 0 \nL 29.390625 21.484375 \nL 13.484375 0 \nL 2.875 0 \nL 24.125 28.609375 \nL 4.6875 54.6875 \nL 15.28125 54.6875 \nL 29.78125 35.203125 \nL 44.28125 54.6875 \nz\n\" id=\"DejaVuSans-120\"/>\n       <path d=\"M 18.109375 8.203125 \nL 18.109375 -20.796875 \nL 9.078125 -20.796875 \nL 9.078125 54.6875 \nL 18.109375 54.6875 \nL 18.109375 46.390625 \nQ 20.953125 51.265625 25.265625 53.625 \nQ 29.59375 56 35.59375 56 \nQ 45.5625 56 51.78125 48.09375 \nQ 58.015625 40.1875 58.015625 27.296875 \nQ 58.015625 14.40625 51.78125 6.484375 \nQ 45.5625 -1.421875 35.59375 -1.421875 \nQ 29.59375 -1.421875 25.265625 0.953125 \nQ 20.953125 3.328125 18.109375 8.203125 \nz\nM 48.6875 27.296875 \nQ 48.6875 37.203125 44.609375 42.84375 \nQ 40.53125 48.484375 33.40625 48.484375 \nQ 26.265625 48.484375 22.1875 42.84375 \nQ 18.109375 37.203125 18.109375 27.296875 \nQ 18.109375 17.390625 22.1875 11.75 \nQ 26.265625 6.109375 33.40625 6.109375 \nQ 40.53125 6.109375 44.609375 11.75 \nQ 48.6875 17.390625 48.6875 27.296875 \nz\n\" id=\"DejaVuSans-112\"/>\n       <path d=\"M 9.421875 75.984375 \nL 18.40625 75.984375 \nL 18.40625 0 \nL 9.421875 0 \nz\n\" id=\"DejaVuSans-108\"/>\n       <path d=\"M 34.28125 27.484375 \nQ 23.390625 27.484375 19.1875 25 \nQ 14.984375 22.515625 14.984375 16.5 \nQ 14.984375 11.71875 18.140625 8.90625 \nQ 21.296875 6.109375 26.703125 6.109375 \nQ 34.1875 6.109375 38.703125 11.40625 \nQ 43.21875 16.703125 43.21875 25.484375 \nL 43.21875 27.484375 \nz\nM 52.203125 31.203125 \nL 52.203125 0 \nL 43.21875 0 \nL 43.21875 8.296875 \nQ 40.140625 3.328125 35.546875 0.953125 \nQ 30.953125 -1.421875 24.3125 -1.421875 \nQ 15.921875 -1.421875 10.953125 3.296875 \nQ 6 8.015625 6 15.921875 \nQ 6 25.140625 12.171875 29.828125 \nQ 18.359375 34.515625 30.609375 34.515625 \nL 43.21875 34.515625 \nL 43.21875 35.40625 \nQ 43.21875 41.609375 39.140625 45 \nQ 35.0625 48.390625 27.6875 48.390625 \nQ 23 48.390625 18.546875 47.265625 \nQ 14.109375 46.140625 10.015625 43.890625 \nL 10.015625 52.203125 \nQ 14.9375 54.109375 19.578125 55.046875 \nQ 24.21875 56 28.609375 56 \nQ 40.484375 56 46.34375 49.84375 \nQ 52.203125 43.703125 52.203125 31.203125 \nz\n\" id=\"DejaVuSans-97\"/>\n       <path d=\"M 9.421875 54.6875 \nL 18.40625 54.6875 \nL 18.40625 0 \nL 9.421875 0 \nz\nM 9.421875 75.984375 \nL 18.40625 75.984375 \nL 18.40625 64.59375 \nL 9.421875 64.59375 \nz\n\" id=\"DejaVuSans-105\"/>\n       <path d=\"M 54.890625 33.015625 \nL 54.890625 0 \nL 45.90625 0 \nL 45.90625 32.71875 \nQ 45.90625 40.484375 42.875 44.328125 \nQ 39.84375 48.1875 33.796875 48.1875 \nQ 26.515625 48.1875 22.3125 43.546875 \nQ 18.109375 38.921875 18.109375 30.90625 \nL 18.109375 0 \nL 9.078125 0 \nL 9.078125 54.6875 \nL 18.109375 54.6875 \nL 18.109375 46.1875 \nQ 21.34375 51.125 25.703125 53.5625 \nQ 30.078125 56 35.796875 56 \nQ 45.21875 56 50.046875 50.171875 \nQ 54.890625 44.34375 54.890625 33.015625 \nz\n\" id=\"DejaVuSans-110\"/>\n       <path d=\"M 56.203125 29.59375 \nL 56.203125 25.203125 \nL 14.890625 25.203125 \nQ 15.484375 15.921875 20.484375 11.0625 \nQ 25.484375 6.203125 34.421875 6.203125 \nQ 39.59375 6.203125 44.453125 7.46875 \nQ 49.3125 8.734375 54.109375 11.28125 \nL 54.109375 2.78125 \nQ 49.265625 0.734375 44.1875 -0.34375 \nQ 39.109375 -1.421875 33.890625 -1.421875 \nQ 20.796875 -1.421875 13.15625 6.1875 \nQ 5.515625 13.8125 5.515625 26.8125 \nQ 5.515625 40.234375 12.765625 48.109375 \nQ 20.015625 56 32.328125 56 \nQ 43.359375 56 49.78125 48.890625 \nQ 56.203125 41.796875 56.203125 29.59375 \nz\nM 47.21875 32.234375 \nQ 47.125 39.59375 43.09375 43.984375 \nQ 39.0625 48.390625 32.421875 48.390625 \nQ 24.90625 48.390625 20.390625 44.140625 \nQ 15.875 39.890625 15.1875 32.171875 \nz\n\" id=\"DejaVuSans-101\"/>\n       <path d=\"M 45.40625 46.390625 \nL 45.40625 75.984375 \nL 54.390625 75.984375 \nL 54.390625 0 \nL 45.40625 0 \nL 45.40625 8.203125 \nQ 42.578125 3.328125 38.25 0.953125 \nQ 33.9375 -1.421875 27.875 -1.421875 \nQ 17.96875 -1.421875 11.734375 6.484375 \nQ 5.515625 14.40625 5.515625 27.296875 \nQ 5.515625 40.1875 11.734375 48.09375 \nQ 17.96875 56 27.875 56 \nQ 33.9375 56 38.25 53.625 \nQ 42.578125 51.265625 45.40625 46.390625 \nz\nM 14.796875 27.296875 \nQ 14.796875 17.390625 18.875 11.75 \nQ 22.953125 6.109375 30.078125 6.109375 \nQ 37.203125 6.109375 41.296875 11.75 \nQ 45.40625 17.390625 45.40625 27.296875 \nQ 45.40625 37.203125 41.296875 42.84375 \nQ 37.203125 48.484375 30.078125 48.484375 \nQ 22.953125 48.484375 18.875 42.84375 \nQ 14.796875 37.203125 14.796875 27.296875 \nz\n\" id=\"DejaVuSans-100\"/>\n       <path id=\"DejaVuSans-32\"/>\n       <path d=\"M 44.28125 53.078125 \nL 44.28125 44.578125 \nQ 40.484375 46.53125 36.375 47.5 \nQ 32.28125 48.484375 27.875 48.484375 \nQ 21.1875 48.484375 17.84375 46.4375 \nQ 14.5 44.390625 14.5 40.28125 \nQ 14.5 37.15625 16.890625 35.375 \nQ 19.28125 33.59375 26.515625 31.984375 \nL 29.59375 31.296875 \nQ 39.15625 29.25 43.1875 25.515625 \nQ 47.21875 21.78125 47.21875 15.09375 \nQ 47.21875 7.46875 41.1875 3.015625 \nQ 35.15625 -1.421875 24.609375 -1.421875 \nQ 20.21875 -1.421875 15.453125 -0.5625 \nQ 10.6875 0.296875 5.421875 2 \nL 5.421875 11.28125 \nQ 10.40625 8.6875 15.234375 7.390625 \nQ 20.0625 6.109375 24.8125 6.109375 \nQ 31.15625 6.109375 34.5625 8.28125 \nQ 37.984375 10.453125 37.984375 14.40625 \nQ 37.984375 18.0625 35.515625 20.015625 \nQ 33.0625 21.96875 24.703125 23.78125 \nL 21.578125 24.515625 \nQ 13.234375 26.265625 9.515625 29.90625 \nQ 5.8125 33.546875 5.8125 39.890625 \nQ 5.8125 47.609375 11.28125 51.796875 \nQ 16.75 56 26.8125 56 \nQ 31.78125 56 36.171875 55.265625 \nQ 40.578125 54.546875 44.28125 53.078125 \nz\n\" id=\"DejaVuSans-115\"/>\n       <path d=\"M 18.3125 70.21875 \nL 18.3125 54.6875 \nL 36.8125 54.6875 \nL 36.8125 47.703125 \nL 18.3125 47.703125 \nL 18.3125 18.015625 \nQ 18.3125 11.328125 20.140625 9.421875 \nQ 21.96875 7.515625 27.59375 7.515625 \nL 36.8125 7.515625 \nL 36.8125 0 \nL 27.59375 0 \nQ 17.1875 0 13.234375 3.875 \nQ 9.28125 7.765625 9.28125 18.015625 \nL 9.28125 47.703125 \nL 2.6875 47.703125 \nL 2.6875 54.6875 \nL 9.28125 54.6875 \nL 9.28125 70.21875 \nz\n\" id=\"DejaVuSans-116\"/>\n       <path d=\"M 48.78125 52.59375 \nL 48.78125 44.1875 \nQ 44.96875 46.296875 41.140625 47.34375 \nQ 37.3125 48.390625 33.40625 48.390625 \nQ 24.65625 48.390625 19.8125 42.84375 \nQ 14.984375 37.3125 14.984375 27.296875 \nQ 14.984375 17.28125 19.8125 11.734375 \nQ 24.65625 6.203125 33.40625 6.203125 \nQ 37.3125 6.203125 41.140625 7.25 \nQ 44.96875 8.296875 48.78125 10.40625 \nL 48.78125 2.09375 \nQ 45.015625 0.34375 40.984375 -0.53125 \nQ 36.96875 -1.421875 32.421875 -1.421875 \nQ 20.0625 -1.421875 12.78125 6.34375 \nQ 5.515625 14.109375 5.515625 27.296875 \nQ 5.515625 40.671875 12.859375 48.328125 \nQ 20.21875 56 33.015625 56 \nQ 37.15625 56 41.109375 55.140625 \nQ 45.0625 54.296875 48.78125 52.59375 \nz\n\" id=\"DejaVuSans-99\"/>\n      </defs>\n      <use xlink:href=\"#DejaVuSans-69\"/>\n      <use x=\"63.183594\" xlink:href=\"#DejaVuSans-120\"/>\n      <use x=\"122.363281\" xlink:href=\"#DejaVuSans-112\"/>\n      <use x=\"185.839844\" xlink:href=\"#DejaVuSans-108\"/>\n      <use x=\"213.623047\" xlink:href=\"#DejaVuSans-97\"/>\n      <use x=\"274.902344\" xlink:href=\"#DejaVuSans-105\"/>\n      <use x=\"302.685547\" xlink:href=\"#DejaVuSans-110\"/>\n      <use x=\"366.064453\" xlink:href=\"#DejaVuSans-101\"/>\n      <use x=\"427.587891\" xlink:href=\"#DejaVuSans-100\"/>\n      <use x=\"491.064453\" xlink:href=\"#DejaVuSans-32\"/>\n      <use x=\"522.851562\" xlink:href=\"#DejaVuSans-105\"/>\n      <use x=\"550.634766\" xlink:href=\"#DejaVuSans-110\"/>\n      <use x=\"614.013672\" xlink:href=\"#DejaVuSans-115\"/>\n      <use x=\"666.113281\" xlink:href=\"#DejaVuSans-116\"/>\n      <use x=\"705.322266\" xlink:href=\"#DejaVuSans-97\"/>\n      <use x=\"766.601562\" xlink:href=\"#DejaVuSans-110\"/>\n      <use x=\"829.980469\" xlink:href=\"#DejaVuSans-99\"/>\n      <use x=\"884.960938\" xlink:href=\"#DejaVuSans-101\"/>\n     </g>\n    </g>\n    <g id=\"line2d_18\">\n     <path d=\"M 44.304688 141.022188 \nL 64.304688 141.022188 \n\" style=\"fill:none;stroke:#008000;stroke-linecap:square;stroke-width:1.5;\"/>\n    </g>\n    <g id=\"line2d_19\"/>\n    <g id=\"text_14\">\n     <!-- Mean of class 0 -->\n     <g transform=\"translate(72.304688 144.522188)scale(0.1 -0.1)\">\n      <defs>\n       <path d=\"M 9.8125 72.90625 \nL 24.515625 72.90625 \nL 43.109375 23.296875 \nL 61.8125 72.90625 \nL 76.515625 72.90625 \nL 76.515625 0 \nL 66.890625 0 \nL 66.890625 64.015625 \nL 48.09375 14.015625 \nL 38.1875 14.015625 \nL 19.390625 64.015625 \nL 19.390625 0 \nL 9.8125 0 \nz\n\" id=\"DejaVuSans-77\"/>\n       <path d=\"M 30.609375 48.390625 \nQ 23.390625 48.390625 19.1875 42.75 \nQ 14.984375 37.109375 14.984375 27.296875 \nQ 14.984375 17.484375 19.15625 11.84375 \nQ 23.34375 6.203125 30.609375 6.203125 \nQ 37.796875 6.203125 41.984375 11.859375 \nQ 46.1875 17.53125 46.1875 27.296875 \nQ 46.1875 37.015625 41.984375 42.703125 \nQ 37.796875 48.390625 30.609375 48.390625 \nz\nM 30.609375 56 \nQ 42.328125 56 49.015625 48.375 \nQ 55.71875 40.765625 55.71875 27.296875 \nQ 55.71875 13.875 49.015625 6.21875 \nQ 42.328125 -1.421875 30.609375 -1.421875 \nQ 18.84375 -1.421875 12.171875 6.21875 \nQ 5.515625 13.875 5.515625 27.296875 \nQ 5.515625 40.765625 12.171875 48.375 \nQ 18.84375 56 30.609375 56 \nz\n\" id=\"DejaVuSans-111\"/>\n       <path d=\"M 37.109375 75.984375 \nL 37.109375 68.5 \nL 28.515625 68.5 \nQ 23.6875 68.5 21.796875 66.546875 \nQ 19.921875 64.59375 19.921875 59.515625 \nL 19.921875 54.6875 \nL 34.71875 54.6875 \nL 34.71875 47.703125 \nL 19.921875 47.703125 \nL 19.921875 0 \nL 10.890625 0 \nL 10.890625 47.703125 \nL 2.296875 47.703125 \nL 2.296875 54.6875 \nL 10.890625 54.6875 \nL 10.890625 58.5 \nQ 10.890625 67.625 15.140625 71.796875 \nQ 19.390625 75.984375 28.609375 75.984375 \nz\n\" id=\"DejaVuSans-102\"/>\n      </defs>\n      <use xlink:href=\"#DejaVuSans-77\"/>\n      <use x=\"86.279297\" xlink:href=\"#DejaVuSans-101\"/>\n      <use x=\"147.802734\" xlink:href=\"#DejaVuSans-97\"/>\n      <use x=\"209.082031\" xlink:href=\"#DejaVuSans-110\"/>\n      <use x=\"272.460938\" xlink:href=\"#DejaVuSans-32\"/>\n      <use x=\"304.248047\" xlink:href=\"#DejaVuSans-111\"/>\n      <use x=\"365.429688\" xlink:href=\"#DejaVuSans-102\"/>\n      <use x=\"400.634766\" xlink:href=\"#DejaVuSans-32\"/>\n      <use x=\"432.421875\" xlink:href=\"#DejaVuSans-99\"/>\n      <use x=\"487.402344\" xlink:href=\"#DejaVuSans-108\"/>\n      <use x=\"515.185547\" xlink:href=\"#DejaVuSans-97\"/>\n      <use x=\"576.464844\" xlink:href=\"#DejaVuSans-115\"/>\n      <use x=\"628.564453\" xlink:href=\"#DejaVuSans-115\"/>\n      <use x=\"680.664062\" xlink:href=\"#DejaVuSans-32\"/>\n      <use x=\"712.451172\" xlink:href=\"#DejaVuSans-48\"/>\n     </g>\n    </g>\n    <g id=\"line2d_20\">\n     <path d=\"M 44.304688 155.700312 \nL 64.304688 155.700312 \n\" style=\"fill:none;stroke:#ff0000;stroke-linecap:square;stroke-width:1.5;\"/>\n    </g>\n    <g id=\"line2d_21\"/>\n    <g id=\"text_15\">\n     <!-- Mean of class 1 -->\n     <g transform=\"translate(72.304688 159.200312)scale(0.1 -0.1)\">\n      <use xlink:href=\"#DejaVuSans-77\"/>\n      <use x=\"86.279297\" xlink:href=\"#DejaVuSans-101\"/>\n      <use x=\"147.802734\" xlink:href=\"#DejaVuSans-97\"/>\n      <use x=\"209.082031\" xlink:href=\"#DejaVuSans-110\"/>\n      <use x=\"272.460938\" xlink:href=\"#DejaVuSans-32\"/>\n      <use x=\"304.248047\" xlink:href=\"#DejaVuSans-111\"/>\n      <use x=\"365.429688\" xlink:href=\"#DejaVuSans-102\"/>\n      <use x=\"400.634766\" xlink:href=\"#DejaVuSans-32\"/>\n      <use x=\"432.421875\" xlink:href=\"#DejaVuSans-99\"/>\n      <use x=\"487.402344\" xlink:href=\"#DejaVuSans-108\"/>\n      <use x=\"515.185547\" xlink:href=\"#DejaVuSans-97\"/>\n      <use x=\"576.464844\" xlink:href=\"#DejaVuSans-115\"/>\n      <use x=\"628.564453\" xlink:href=\"#DejaVuSans-115\"/>\n      <use x=\"680.664062\" xlink:href=\"#DejaVuSans-32\"/>\n      <use x=\"712.451172\" xlink:href=\"#DejaVuSans-49\"/>\n     </g>\n    </g>\n   </g>\n  </g>\n </g>\n <defs>\n  <clipPath id=\"pf3341cac35\">\n   <rect height=\"163.08\" width=\"1116\" x=\"35.304688\" y=\"7.2\"/>\n  </clipPath>\n </defs>\n</svg>\n",
      "image/png": "[encoded data removed]"
     },
     "metadata": {
      "needs_background": "light"
     }
    }
   ],
   "source": [
    "values_per_slice_ecg = len(series_ecg) // num_slices_ecg\n",
    "plt.rcParams[\"figure.figsize\"] = (20,3)\n",
    "plt.plot(series_ecg, 'b', label='Explained instance')\n",
    "plt.plot(X_test[np.where(Y_test==0)[0]].mean(axis=0), color='green',\n",
    "        label='Mean of class 0')\n",
    "plt.plot(X_test[np.where(Y_test==1)[0]].mean(axis=0), color='red',\n",
    "        label='Mean of class 1')\n",
    "for i in range(num_features_ecg):\n",
    "    feature, weight = exp.as_list()[i]\n",
    "    start = feature * values_per_slice_ecg\n",
    "    end = start + values_per_slice_ecg\n",
    "    plt.axvspan(start , end, color='red', alpha=abs(weight*100))\n",
    "plt.legend(loc='lower left')\n",
    "plt.show()"
   ]
  },
  {
   "cell_type": "code",
   "execution_count": 32,
   "metadata": {
    "colab": {},
    "colab_type": "code",
    "id": "at_snLlOhDro",
    "tags": []
   },
   "outputs": [
    {
     "output_type": "stream",
     "name": "stdout",
     "text": "before: \nCounter({0: 4580, 1: 670}) Counter({0: 496, 1: 88})\nafter: \nCounter({1: 70593, 0: 70065}) Counter({1: 9412, 0: 7502})\n"
    }
   ],
   "source": [
    "# how about original data with slide and cut\n",
    "X_train2, X_test2, Y_train2, Y_test2, _ = read_data(\n",
    "    DATA_PATH, window_size=win_size, stride=stride, cut=True, bit=True)"
   ]
  },
  {
   "cell_type": "code",
   "execution_count": 33,
   "metadata": {},
   "outputs": [],
   "source": [
    "class CRANN_original(nn.Module):\n",
    "  \"\"\"\n",
    "  Input:\n",
    "      X: (n_samples, n_channel, n_length)\n",
    "      Y: (n_samples)\n",
    "  Output:\n",
    "      out: (n_samples)\n",
    "  Pararmetes:\n",
    "      n_classes: number of classes\n",
    "  \"\"\"\n",
    "\n",
    "  def __init__(self, in_channels, out_channels, att_channels, n_len_seg, n_classes, device, verbose=False):\n",
    "    super(CRANN_original, self).__init__()\n",
    "    \n",
    "    self.n_len_seg = n_len_seg\n",
    "    self.n_classes = n_classes\n",
    "    self.in_channels = in_channels\n",
    "    self.out_channels = out_channels\n",
    "    self.att_channels = att_channels\n",
    "\n",
    "    self.device = device\n",
    "    self.verbose = verbose\n",
    "\n",
    "    # (batch, channels, length)\n",
    "    self.cnn = nn.Conv1d(in_channels=self.in_channels, \n",
    "                         out_channels=self.out_channels, \n",
    "                         kernel_size=16, \n",
    "                         stride=4)\n",
    "    self.cnn2 = nn.Conv1d(in_channels=self.out_channels, \n",
    "                         out_channels=self.out_channels, \n",
    "                         kernel_size=2,\n",
    "                         stride=1)\n",
    "    # (batch, seq, feature)\n",
    "    self.rnn = nn.LSTM(input_size=(self.out_channels), \n",
    "                       hidden_size=self.out_channels, \n",
    "                       num_layers=1, \n",
    "                       batch_first=True, \n",
    "                       bidirectional=False)\n",
    "    # attention\n",
    "    self.W = nn.Parameter(torch.randn(self.out_channels, self.att_channels))\n",
    "    self.V = nn.Parameter(torch.randn(self.att_channels, 1))\n",
    "    self.dense = nn.Linear(out_channels, n_classes)\n",
    "\n",
    "  def forward(self, x):\n",
    "\n",
    "    self.n_channel, self.n_length = x.shape[-2], x.shape[-1]\n",
    "    assert (self.n_length % self.n_len_seg == 0), \"Input n_length should divided by n_len_seg\"\n",
    "    self.n_seg = self.n_length // self.n_len_seg\n",
    "\n",
    "    out = x\n",
    "    if self.verbose: print(out.shape) # ([128, 1, 3000])\n",
    "    # out = nn.BatchNorm1d(1)(out)\n",
    "    # (n_samples, n_channel, n_length) -> (n_samples, n_length, n_channel)\n",
    "    out = out.permute(0, 2, 1)\n",
    "    if self.verbose: print(out.shape) # ([128, 3000, 1])\n",
    "    # (n_samples, n_length, n_channel) -> (n_samples*n_seg, n_len_seg, n_channel)\n",
    "    out = out.view(-1, self.n_len_seg, self.n_channel)\n",
    "    if self.verbose: print(out.shape) # ([7680, 50, 1])\n",
    "    # (n_samples*n_seg, n_len_seg, n_channel) -> (n_samples*n_seg, n_channel, n_len_seg)\n",
    "    out = out.permute(0, 2, 1)\n",
    "    if self.verbose: print(out.shape) # ([7680, 1, 50])\n",
    "    # cnn\n",
    "    out = self.cnn(out)\n",
    "    if self.verbose: print('cnn', out.shape) # ([7680, 16, 9])\n",
    "    # out = nn.BatchNorm1d(self.out_channels)(out)\n",
    "    out = self.cnn2(out)\n",
    "    if self.verbose: print('cnn2', out.shape) # ([7680, 16, 3])\n",
    "    # out = nn.BatchNorm1d(self.out_channels)(out)\n",
    "    # global avg, (n_samples*n_seg, out_channels)\n",
    "    out = out.mean(-1)\n",
    "    if self.verbose: print('mean', out.shape) # ([7680, 16])\n",
    "    # global avg, (n_samples, n_seg, out_channels)\n",
    "    out = out.view(-1, self.n_seg, self.out_channels)\n",
    "    if self.verbose: print(out.shape) # ([128, 60, 16])\n",
    "    # rnn\n",
    "    out, (_, _) = self.rnn(out) # output, (h_n, c_n)\n",
    "    if self.verbose: print('rnn', out.shape) # ([128, 60, 16])\n",
    "    # self attention\n",
    "    e = torch.matmul(out, self.W)\n",
    "    if self.verbose: print('w', e.shape) # ([128, 60, 16])\n",
    "    e = torch.matmul(torch.tanh(e), self.V)\n",
    "    if self.verbose: print('v', e.shape) # ([128, 60, 16])\n",
    "    n1 = torch.exp(e)\n",
    "    n2 = torch.sum(torch.exp(e), 1, keepdim=True)\n",
    "    gama = torch.div(n1, n2)\n",
    "    if self.verbose: print('g', gama.shape) # ([128, 60, 1])\n",
    "    out = torch.sum(torch.mul(gama, out), 1)\n",
    "    if self.verbose: print('att_out', out.shape) # ([128, 16])\n",
    "    # dense\n",
    "    out = nn.Dropout(0.2)(out)\n",
    "    out = self.dense(out)\n",
    "    if self.verbose: print(out.shape) # ([128, 2])\n",
    "    \n",
    "    return out\n",
    "\n",
    "  def predict_proba(self, x):\n",
    "    x = np.asarray(x).reshape(-1, 1,2048)\n",
    "    if len(x.shape) < 3 or x.shape[0] == 1:\n",
    "      y = F.softmax(self.forward(torch.FloatTensor(x.reshape(1, 1, -1))), dim=1)\n",
    "      pred = y.cpu().data.numpy()[0]\n",
    "    else:\n",
    "      pred = []\n",
    "      for i in range(x.shape[0]):\n",
    "        y = F.softmax(self.forward(torch.FloatTensor(x.reshape(1, 1, -1))), dim=1)\n",
    "        pred.append(y.cpu().data.numpy()[0])\n",
    "      pred = np.asarray(pred)\n",
    "    if pred.min() < 0. or pred.max() > 1.:\n",
    "      print('warning: Network returning invalid probability values.')\n",
    "      return x[np.where(pred<0)[0]]\n",
    "    return pred\n",
    "\n",
    "  def predict(self, x):\n",
    "    if len(x.shape) < 3:\n",
    "      pred = self.forward(torch.FloatTensor(x.reshape(1, 1, -1)))\n",
    "      pred = pred.cpu().data.numpy()[0].argmax()\n",
    "    else:\n",
    "      pred = []\n",
    "      for i in range(x.shape[0]):\n",
    "        y = self.forward(torch.FloatTensor(x[i].reshape(1, 1, -1)))\n",
    "        pred.append(y.cpu().data.numpy()[0].argmax())\n",
    "      pred = np.asarray(pred)\n",
    "    return pred\n"
   ]
  },
  {
   "cell_type": "code",
   "execution_count": 34,
   "metadata": {
    "tags": []
   },
   "outputs": [
    {
     "output_type": "execute_result",
     "data": {
      "text/plain": "CRANN_original(\n  (cnn): Conv1d(1, 16, kernel_size=(16,), stride=(4,))\n  (cnn2): Conv1d(16, 16, kernel_size=(2,), stride=(1,))\n  (rnn): LSTM(16, 16, batch_first=True)\n  (dense): Linear(in_features=16, out_features=2, bias=True)\n)"
     },
     "metadata": {},
     "execution_count": 34
    }
   ],
   "source": [
    "best_model2 = 'origin_CRANN_44_0.9277.pt'\n",
    "crann_model2 = CRANN_original(\n",
    "    in_channels=1,\n",
    "    out_channels=16,\n",
    "    att_channels=16,\n",
    "    n_len_seg=32,\n",
    "    verbose=False,\n",
    "    n_classes=2,\n",
    "    device=device)\n",
    "crann_model2.load_state_dict(torch.load('models/'+best_model2, map_location=device))\n",
    "crann_model2.eval()\n",
    "# train(crann_model2, dataloader, dataloader_test, is_debug=True, summ=True)\n"
   ]
  },
  {
   "cell_type": "code",
   "execution_count": 35,
   "metadata": {
    "tags": []
   },
   "outputs": [
    {
     "output_type": "execute_result",
     "data": {
      "text/plain": "[(9, -0.035548711693330064),\n (13, 0.021053327222422133),\n (16, 0.01840390696107919),\n (3, 0.016024118258677732),\n (0, -0.015142790986165297)]"
     },
     "metadata": {},
     "execution_count": 35
    }
   ],
   "source": [
    "# Counter({1: 29864, 0: 29558}) Counter({0: 3348, 1: 3255})\n",
    "X_test2 = X_test2.reshape(-1, 2048)\n",
    "X_train2 = X_train2.reshape(-1, 2048)\n",
    "idx_ecg = 0\n",
    "series_ecg2 = X_test2[idx_ecg, :]\n",
    "num_slices_ecg = 17\n",
    "num_features_ecg = 5\n",
    "explainer2 = LimeTimeSeriesExplanation(class_names=['0', '1'], feature_selection='auto')\n",
    "\n",
    "exp2 = explainer2.explain_instance(\n",
    "    series_ecg2, crann_model2.predict_proba, training_set=X_train[:100], \n",
    "    num_slices=num_slices_ecg, num_features=num_features_ecg, \n",
    "    num_samples=100, \n",
    "    replacement_method='noise')\n",
    "exp2.as_list()\n"
   ]
  },
  {
   "cell_type": "code",
   "execution_count": 36,
   "metadata": {},
   "outputs": [
    {
     "output_type": "display_data",
     "data": {
      "text/plain": "<Figure size 1440x216 with 1 Axes>",
      "image/svg+xml": "<?xml version=\"1.0\" encoding=\"utf-8\" standalone=\"no\"?>\n<!DOCTYPE svg PUBLIC \"-//W3C//DTD SVG 1.1//EN\"\n  \"http://www.w3.org/Graphics/SVG/1.1/DTD/svg11.dtd\">\n<!-- Created with matplotlib (https://matplotlib.org/) -->\n<svg height=\"194.158125pt\" version=\"1.1\" viewBox=\"0 0 1158.504688 194.158125\" width=\"1158.504688pt\" xmlns=\"http://www.w3.org/2000/svg\" xmlns:xlink=\"http://www.w3.org/1999/xlink\">\n <metadata>\n  <rdf:RDF xmlns:cc=\"http://creativecommons.org/ns#\" xmlns:dc=\"http://purl.org/dc/elements/1.1/\" xmlns:rdf=\"http://www.w3.org/1999/02/22-rdf-syntax-ns#\">\n   <cc:Work>\n    <dc:type rdf:resource=\"http://purl.org/dc/dcmitype/StillImage\"/>\n    <dc:date>2020-08-17T09:13:30.242601</dc:date>\n    <dc:format>image/svg+xml</dc:format>\n    <dc:creator>\n     <cc:Agent>\n      <dc:title>Matplotlib v3.3.0, https://matplotlib.org/</dc:title>\n     </cc:Agent>\n    </dc:creator>\n   </cc:Work>\n  </rdf:RDF>\n </metadata>\n <defs>\n  <style type=\"text/css\">*{stroke-linecap:butt;stroke-linejoin:round;}</style>\n </defs>\n <g id=\"figure_1\">\n  <g id=\"patch_1\">\n   <path d=\"M 0 194.158125 \nL 1158.504688 194.158125 \nL 1158.504688 0 \nL 0 0 \nz\n\" style=\"fill:none;\"/>\n  </g>\n  <g id=\"axes_1\">\n   <g id=\"patch_2\">\n    <path d=\"M 35.304688 170.28 \nL 1151.304688 170.28 \nL 1151.304688 7.2 \nL 35.304688 7.2 \nz\n\" style=\"fill:#ffffff;\"/>\n   </g>\n   <g id=\"patch_3\">\n    <path clip-path=\"url(#p34c4d6d9e5)\" d=\"M 621.30753 170.28 \nL 621.30753 7.2 \nL 680.782593 7.2 \nL 680.782593 170.28 \nz\n\" style=\"fill:#ff0000;opacity:0.355487;stroke:#ff0000;stroke-linejoin:miter;\"/>\n   </g>\n   <g id=\"patch_4\">\n    <path clip-path=\"url(#p34c4d6d9e5)\" d=\"M 859.207783 170.28 \nL 859.207783 7.2 \nL 918.682846 7.2 \nL 918.682846 170.28 \nz\n\" style=\"fill:#ff0000;opacity:0.210533;stroke:#ff0000;stroke-linejoin:miter;\"/>\n   </g>\n   <g id=\"patch_5\">\n    <path clip-path=\"url(#p34c4d6d9e5)\" d=\"M 1037.632973 170.28 \nL 1037.632973 7.2 \nL 1097.108036 7.2 \nL 1097.108036 170.28 \nz\n\" style=\"fill:#ff0000;opacity:0.184039;stroke:#ff0000;stroke-linejoin:miter;\"/>\n   </g>\n   <g id=\"patch_6\">\n    <path clip-path=\"url(#p34c4d6d9e5)\" d=\"M 264.45715 170.28 \nL 264.45715 7.2 \nL 323.932213 7.2 \nL 323.932213 170.28 \nz\n\" style=\"fill:#ff0000;opacity:0.160241;stroke:#ff0000;stroke-linejoin:miter;\"/>\n   </g>\n   <g id=\"patch_7\">\n    <path clip-path=\"url(#p34c4d6d9e5)\" d=\"M 86.03196 170.28 \nL 86.03196 7.2 \nL 145.507024 7.2 \nL 145.507024 170.28 \nz\n\" style=\"fill:#ff0000;opacity:0.151428;stroke:#ff0000;stroke-linejoin:miter;\"/>\n   </g>\n   <g id=\"matplotlib.axis_1\">\n    <g id=\"xtick_1\">\n     <g id=\"line2d_1\">\n      <defs>\n       <path d=\"M 0 0 \nL 0 3.5 \n\" id=\"m226186ef12\" style=\"stroke:#000000;stroke-width:0.8;\"/>\n      </defs>\n      <g>\n       <use style=\"stroke:#000000;stroke-width:0.8;\" x=\"86.03196\" xlink:href=\"#m226186ef12\" y=\"170.28\"/>\n      </g>\n     </g>\n     <g id=\"text_1\">\n      <!-- 0 -->\n      <g transform=\"translate(82.85071 184.878438)scale(0.1 -0.1)\">\n       <defs>\n        <path d=\"M 31.78125 66.40625 \nQ 24.171875 66.40625 20.328125 58.90625 \nQ 16.5 51.421875 16.5 36.375 \nQ 16.5 21.390625 20.328125 13.890625 \nQ 24.171875 6.390625 31.78125 6.390625 \nQ 39.453125 6.390625 43.28125 13.890625 \nQ 47.125 21.390625 47.125 36.375 \nQ 47.125 51.421875 43.28125 58.90625 \nQ 39.453125 66.40625 31.78125 66.40625 \nz\nM 31.78125 74.21875 \nQ 44.046875 74.21875 50.515625 64.515625 \nQ 56.984375 54.828125 56.984375 36.375 \nQ 56.984375 17.96875 50.515625 8.265625 \nQ 44.046875 -1.421875 31.78125 -1.421875 \nQ 19.53125 -1.421875 13.0625 8.265625 \nQ 6.59375 17.96875 6.59375 36.375 \nQ 6.59375 54.828125 13.0625 64.515625 \nQ 19.53125 74.21875 31.78125 74.21875 \nz\n\" id=\"DejaVuSans-48\"/>\n       </defs>\n       <use xlink:href=\"#DejaVuSans-48\"/>\n      </g>\n     </g>\n    </g>\n    <g id=\"xtick_2\">\n     <g id=\"line2d_2\">\n      <g>\n       <use style=\"stroke:#000000;stroke-width:0.8;\" x=\"333.844724\" xlink:href=\"#m226186ef12\" y=\"170.28\"/>\n      </g>\n     </g>\n     <g id=\"text_2\">\n      <!-- 500 -->\n      <g transform=\"translate(324.300974 184.878438)scale(0.1 -0.1)\">\n       <defs>\n        <path d=\"M 10.796875 72.90625 \nL 49.515625 72.90625 \nL 49.515625 64.59375 \nL 19.828125 64.59375 \nL 19.828125 46.734375 \nQ 21.96875 47.46875 24.109375 47.828125 \nQ 26.265625 48.1875 28.421875 48.1875 \nQ 40.625 48.1875 47.75 41.5 \nQ 54.890625 34.8125 54.890625 23.390625 \nQ 54.890625 11.625 47.5625 5.09375 \nQ 40.234375 -1.421875 26.90625 -1.421875 \nQ 22.3125 -1.421875 17.546875 -0.640625 \nQ 12.796875 0.140625 7.71875 1.703125 \nL 7.71875 11.625 \nQ 12.109375 9.234375 16.796875 8.0625 \nQ 21.484375 6.890625 26.703125 6.890625 \nQ 35.15625 6.890625 40.078125 11.328125 \nQ 45.015625 15.765625 45.015625 23.390625 \nQ 45.015625 31 40.078125 35.4375 \nQ 35.15625 39.890625 26.703125 39.890625 \nQ 22.75 39.890625 18.8125 39.015625 \nQ 14.890625 38.140625 10.796875 36.28125 \nz\n\" id=\"DejaVuSans-53\"/>\n       </defs>\n       <use xlink:href=\"#DejaVuSans-53\"/>\n       <use x=\"63.623047\" xlink:href=\"#DejaVuSans-48\"/>\n       <use x=\"127.246094\" xlink:href=\"#DejaVuSans-48\"/>\n      </g>\n     </g>\n    </g>\n    <g id=\"xtick_3\">\n     <g id=\"line2d_3\">\n      <g>\n       <use style=\"stroke:#000000;stroke-width:0.8;\" x=\"581.657488\" xlink:href=\"#m226186ef12\" y=\"170.28\"/>\n      </g>\n     </g>\n     <g id=\"text_3\">\n      <!-- 1000 -->\n      <g transform=\"translate(568.932488 184.878438)scale(0.1 -0.1)\">\n       <defs>\n        <path d=\"M 12.40625 8.296875 \nL 28.515625 8.296875 \nL 28.515625 63.921875 \nL 10.984375 60.40625 \nL 10.984375 69.390625 \nL 28.421875 72.90625 \nL 38.28125 72.90625 \nL 38.28125 8.296875 \nL 54.390625 8.296875 \nL 54.390625 0 \nL 12.40625 0 \nz\n\" id=\"DejaVuSans-49\"/>\n       </defs>\n       <use xlink:href=\"#DejaVuSans-49\"/>\n       <use x=\"63.623047\" xlink:href=\"#DejaVuSans-48\"/>\n       <use x=\"127.246094\" xlink:href=\"#DejaVuSans-48\"/>\n       <use x=\"190.869141\" xlink:href=\"#DejaVuSans-48\"/>\n      </g>\n     </g>\n    </g>\n    <g id=\"xtick_4\">\n     <g id=\"line2d_4\">\n      <g>\n       <use style=\"stroke:#000000;stroke-width:0.8;\" x=\"829.470251\" xlink:href=\"#m226186ef12\" y=\"170.28\"/>\n      </g>\n     </g>\n     <g id=\"text_4\">\n      <!-- 1500 -->\n      <g transform=\"translate(816.745251 184.878438)scale(0.1 -0.1)\">\n       <use xlink:href=\"#DejaVuSans-49\"/>\n       <use x=\"63.623047\" xlink:href=\"#DejaVuSans-53\"/>\n       <use x=\"127.246094\" xlink:href=\"#DejaVuSans-48\"/>\n       <use x=\"190.869141\" xlink:href=\"#DejaVuSans-48\"/>\n      </g>\n     </g>\n    </g>\n    <g id=\"xtick_5\">\n     <g id=\"line2d_5\">\n      <g>\n       <use style=\"stroke:#000000;stroke-width:0.8;\" x=\"1077.283015\" xlink:href=\"#m226186ef12\" y=\"170.28\"/>\n      </g>\n     </g>\n     <g id=\"text_5\">\n      <!-- 2000 -->\n      <g transform=\"translate(1064.558015 184.878438)scale(0.1 -0.1)\">\n       <defs>\n        <path d=\"M 19.1875 8.296875 \nL 53.609375 8.296875 \nL 53.609375 0 \nL 7.328125 0 \nL 7.328125 8.296875 \nQ 12.9375 14.109375 22.625 23.890625 \nQ 32.328125 33.6875 34.8125 36.53125 \nQ 39.546875 41.84375 41.421875 45.53125 \nQ 43.3125 49.21875 43.3125 52.78125 \nQ 43.3125 58.59375 39.234375 62.25 \nQ 35.15625 65.921875 28.609375 65.921875 \nQ 23.96875 65.921875 18.8125 64.3125 \nQ 13.671875 62.703125 7.8125 59.421875 \nL 7.8125 69.390625 \nQ 13.765625 71.78125 18.9375 73 \nQ 24.125 74.21875 28.421875 74.21875 \nQ 39.75 74.21875 46.484375 68.546875 \nQ 53.21875 62.890625 53.21875 53.421875 \nQ 53.21875 48.921875 51.53125 44.890625 \nQ 49.859375 40.875 45.40625 35.40625 \nQ 44.1875 33.984375 37.640625 27.21875 \nQ 31.109375 20.453125 19.1875 8.296875 \nz\n\" id=\"DejaVuSans-50\"/>\n       </defs>\n       <use xlink:href=\"#DejaVuSans-50\"/>\n       <use x=\"63.623047\" xlink:href=\"#DejaVuSans-48\"/>\n       <use x=\"127.246094\" xlink:href=\"#DejaVuSans-48\"/>\n       <use x=\"190.869141\" xlink:href=\"#DejaVuSans-48\"/>\n      </g>\n     </g>\n    </g>\n   </g>\n   <g id=\"matplotlib.axis_2\">\n    <g id=\"ytick_1\">\n     <g id=\"line2d_6\">\n      <defs>\n       <path d=\"M 0 0 \nL -3.5 0 \n\" id=\"m2320e4fd1d\" style=\"stroke:#000000;stroke-width:0.8;\"/>\n      </defs>\n      <g>\n       <use style=\"stroke:#000000;stroke-width:0.8;\" x=\"35.304688\" xlink:href=\"#m2320e4fd1d\" y=\"162.867273\"/>\n      </g>\n     </g>\n     <g id=\"text_6\">\n      <!-- −30 -->\n      <g transform=\"translate(7.2 166.666491)scale(0.1 -0.1)\">\n       <defs>\n        <path d=\"M 10.59375 35.5 \nL 73.1875 35.5 \nL 73.1875 27.203125 \nL 10.59375 27.203125 \nz\n\" id=\"DejaVuSans-8722\"/>\n        <path d=\"M 40.578125 39.3125 \nQ 47.65625 37.796875 51.625 33 \nQ 55.609375 28.21875 55.609375 21.1875 \nQ 55.609375 10.40625 48.1875 4.484375 \nQ 40.765625 -1.421875 27.09375 -1.421875 \nQ 22.515625 -1.421875 17.65625 -0.515625 \nQ 12.796875 0.390625 7.625 2.203125 \nL 7.625 11.71875 \nQ 11.71875 9.328125 16.59375 8.109375 \nQ 21.484375 6.890625 26.8125 6.890625 \nQ 36.078125 6.890625 40.9375 10.546875 \nQ 45.796875 14.203125 45.796875 21.1875 \nQ 45.796875 27.640625 41.28125 31.265625 \nQ 36.765625 34.90625 28.71875 34.90625 \nL 20.21875 34.90625 \nL 20.21875 43.015625 \nL 29.109375 43.015625 \nQ 36.375 43.015625 40.234375 45.921875 \nQ 44.09375 48.828125 44.09375 54.296875 \nQ 44.09375 59.90625 40.109375 62.90625 \nQ 36.140625 65.921875 28.71875 65.921875 \nQ 24.65625 65.921875 20.015625 65.03125 \nQ 15.375 64.15625 9.8125 62.3125 \nL 9.8125 71.09375 \nQ 15.4375 72.65625 20.34375 73.4375 \nQ 25.25 74.21875 29.59375 74.21875 \nQ 40.828125 74.21875 47.359375 69.109375 \nQ 53.90625 64.015625 53.90625 55.328125 \nQ 53.90625 49.265625 50.4375 45.09375 \nQ 46.96875 40.921875 40.578125 39.3125 \nz\n\" id=\"DejaVuSans-51\"/>\n       </defs>\n       <use xlink:href=\"#DejaVuSans-8722\"/>\n       <use x=\"83.789062\" xlink:href=\"#DejaVuSans-51\"/>\n       <use x=\"147.412109\" xlink:href=\"#DejaVuSans-48\"/>\n      </g>\n     </g>\n    </g>\n    <g id=\"ytick_2\">\n     <g id=\"line2d_7\">\n      <g>\n       <use style=\"stroke:#000000;stroke-width:0.8;\" x=\"35.304688\" xlink:href=\"#m2320e4fd1d\" y=\"129.921818\"/>\n      </g>\n     </g>\n     <g id=\"text_7\">\n      <!-- −20 -->\n      <g transform=\"translate(7.2 133.721037)scale(0.1 -0.1)\">\n       <use xlink:href=\"#DejaVuSans-8722\"/>\n       <use x=\"83.789062\" xlink:href=\"#DejaVuSans-50\"/>\n       <use x=\"147.412109\" xlink:href=\"#DejaVuSans-48\"/>\n      </g>\n     </g>\n    </g>\n    <g id=\"ytick_3\">\n     <g id=\"line2d_8\">\n      <g>\n       <use style=\"stroke:#000000;stroke-width:0.8;\" x=\"35.304688\" xlink:href=\"#m2320e4fd1d\" y=\"96.976364\"/>\n      </g>\n     </g>\n     <g id=\"text_8\">\n      <!-- −10 -->\n      <g transform=\"translate(7.2 100.775582)scale(0.1 -0.1)\">\n       <use xlink:href=\"#DejaVuSans-8722\"/>\n       <use x=\"83.789062\" xlink:href=\"#DejaVuSans-49\"/>\n       <use x=\"147.412109\" xlink:href=\"#DejaVuSans-48\"/>\n      </g>\n     </g>\n    </g>\n    <g id=\"ytick_4\">\n     <g id=\"line2d_9\">\n      <g>\n       <use style=\"stroke:#000000;stroke-width:0.8;\" x=\"35.304688\" xlink:href=\"#m2320e4fd1d\" y=\"64.030909\"/>\n      </g>\n     </g>\n     <g id=\"text_9\">\n      <!-- 0 -->\n      <g transform=\"translate(21.942187 67.830128)scale(0.1 -0.1)\">\n       <use xlink:href=\"#DejaVuSans-48\"/>\n      </g>\n     </g>\n    </g>\n    <g id=\"ytick_5\">\n     <g id=\"line2d_10\">\n      <g>\n       <use style=\"stroke:#000000;stroke-width:0.8;\" x=\"35.304688\" xlink:href=\"#m2320e4fd1d\" y=\"31.085455\"/>\n      </g>\n     </g>\n     <g id=\"text_10\">\n      <!-- 10 -->\n      <g transform=\"translate(15.579687 34.884673)scale(0.1 -0.1)\">\n       <use xlink:href=\"#DejaVuSans-49\"/>\n       <use x=\"63.623047\" xlink:href=\"#DejaVuSans-48\"/>\n      </g>\n     </g>\n    </g>\n   </g>\n   <g id=\"line2d_11\">\n    <path clip-path=\"url(#p34c4d6d9e5)\" d=\"M 86.03196 64.030909 \nL 86.527586 60.736364 \nL 89.996964 60.736364 \nL 90.49259 64.030909 \nL 95.944471 64.030909 \nL 96.440096 67.325455 \nL 109.32636 67.325455 \nL 109.821986 64.030909 \nL 114.282615 64.030909 \nL 114.778241 60.736364 \nL 115.769492 60.736364 \nL 116.265117 57.441818 \nL 117.256368 57.441818 \nL 117.751994 54.147273 \nL 120.230122 54.147273 \nL 120.725747 50.852727 \nL 123.6995 50.852727 \nL 124.195126 47.558182 \nL 127.664505 47.558182 \nL 128.16013 44.263636 \nL 135.594513 44.263636 \nL 136.585764 50.852727 \nL 137.08139 50.852727 \nL 138.568266 60.736364 \nL 140.055143 60.736364 \nL 142.53327 44.263636 \nL 143.028896 44.263636 \nL 143.524521 40.969091 \nL 144.020147 40.969091 \nL 146.498275 24.496364 \nL 147.985151 24.496364 \nL 149.472028 34.38 \nL 149.967653 40.969091 \nL 150.463279 50.852727 \nL 151.950155 70.62 \nL 152.941406 90.387273 \nL 153.437032 96.976364 \nL 155.419534 136.510909 \nL 156.410785 149.689091 \nL 156.906411 152.983636 \nL 157.402036 159.572727 \nL 157.897662 159.572727 \nL 158.393287 162.867273 \nL 159.384538 162.867273 \nL 159.880164 159.572727 \nL 160.375789 159.572727 \nL 160.871415 156.278182 \nL 161.36704 156.278182 \nL 164.340794 136.510909 \nL 164.836419 136.510909 \nL 165.332045 129.921818 \nL 165.82767 126.627273 \nL 166.818921 126.627273 \nL 167.314547 129.921818 \nL 168.305798 143.1 \nL 169.297049 143.1 \nL 169.792674 139.805455 \nL 170.783925 120.038182 \nL 171.279551 106.86 \nL 173.757679 27.790909 \nL 174.74893 14.612727 \nL 176.235806 14.612727 \nL 176.731432 17.907273 \nL 177.227057 17.907273 \nL 177.722683 21.201818 \nL 180.696436 60.736364 \nL 181.687687 67.325455 \nL 182.183313 73.914545 \nL 182.678938 77.209091 \nL 183.174564 77.209091 \nL 183.670189 80.503636 \nL 186.148317 80.503636 \nL 186.643942 77.209091 \nL 187.139568 77.209091 \nL 187.635193 73.914545 \nL 188.130819 73.914545 \nL 189.617695 64.030909 \nL 190.608947 64.030909 \nL 192.095823 54.147273 \nL 192.591449 54.147273 \nL 193.087074 50.852727 \nL 197.547704 50.852727 \nL 198.043329 54.147273 \nL 199.03458 54.147273 \nL 200.521457 64.030909 \nL 201.017083 64.030909 \nL 202.503959 73.914545 \nL 202.999585 80.503636 \nL 204.486461 90.387273 \nL 206.468963 90.387273 \nL 208.947091 73.914545 \nL 209.442717 73.914545 \nL 209.938342 70.62 \nL 210.433968 70.62 \nL 210.929593 67.325455 \nL 212.41647 67.325455 \nL 212.912095 70.62 \nL 214.894597 70.62 \nL 215.390223 73.914545 \nL 216.877099 73.914545 \nL 217.372725 77.209091 \nL 220.842104 77.209091 \nL 221.337729 73.914545 \nL 223.815857 73.914545 \nL 224.311482 70.62 \nL 225.798359 70.62 \nL 226.293984 67.325455 \nL 227.285236 67.325455 \nL 227.780861 64.030909 \nL 233.232742 64.030909 \nL 233.728367 60.736364 \nL 247.110257 60.736364 \nL 247.605882 57.441818 \nL 248.101508 57.441818 \nL 248.597133 54.147273 \nL 249.092759 54.147273 \nL 249.588384 50.852727 \nL 250.08401 50.852727 \nL 250.579635 47.558182 \nL 252.066512 47.558182 \nL 252.562137 44.263636 \nL 253.057763 44.263636 \nL 253.553388 47.558182 \nL 256.527142 47.558182 \nL 257.022767 50.852727 \nL 260.987771 50.852727 \nL 262.970274 64.030909 \nL 266.935278 64.030909 \nL 268.422154 54.147273 \nL 284.282171 54.147273 \nL 284.777797 57.441818 \nL 292.21218 57.441818 \nL 292.707805 60.736364 \nL 300.142188 60.736364 \nL 300.637814 64.030909 \nL 310.550324 64.030909 \nL 311.04595 60.736364 \nL 319.471584 60.736364 \nL 319.967209 64.030909 \nL 382.416026 64.030909 \nL 382.911651 60.736364 \nL 383.902902 60.736364 \nL 384.398528 57.441818 \nL 385.885404 57.441818 \nL 386.876655 64.030909 \nL 387.867906 64.030909 \nL 388.859157 70.62 \nL 389.354783 70.62 \nL 389.850409 73.914545 \nL 390.346034 70.62 \nL 390.84166 70.62 \nL 391.832911 64.030909 \nL 392.824162 64.030909 \nL 393.319787 60.736364 \nL 396.29354 60.736364 \nL 396.789166 64.030909 \nL 412.649183 64.030909 \nL 413.144808 67.325455 \nL 423.552944 67.325455 \nL 424.04857 70.62 \nL 429.996076 70.62 \nL 430.491702 67.325455 \nL 434.952332 67.325455 \nL 435.447957 64.030909 \nL 461.71611 64.030909 \nL 462.211736 60.736364 \nL 490.462391 60.736364 \nL 490.958016 57.441818 \nL 494.92302 57.441818 \nL 495.418646 54.147273 \nL 499.38365 54.147273 \nL 499.879276 57.441818 \nL 508.800535 57.441818 \nL 509.296161 60.736364 \nL 509.791786 60.736364 \nL 512.269914 77.209091 \nL 513.261165 77.209091 \nL 513.75679 70.62 \nL 515.739292 57.441818 \nL 528.129931 57.441818 \nL 528.625556 60.736364 \nL 542.007445 60.736364 \nL 542.503071 64.030909 \nL 549.441828 64.030909 \nL 549.937454 67.325455 \nL 555.88496 67.325455 \nL 556.380586 64.030909 \nL 583.144364 64.030909 \nL 583.63999 67.325455 \nL 593.056875 67.325455 \nL 593.5525 70.62 \nL 626.759411 70.62 \nL 627.255036 67.325455 \nL 629.237538 67.325455 \nL 629.733164 70.62 \nL 630.228789 70.62 \nL 633.698168 93.681818 \nL 634.193794 93.681818 \nL 635.185045 87.092727 \nL 636.176296 73.914545 \nL 637.167547 67.325455 \nL 663.931325 67.325455 \nL 664.426951 64.030909 \nL 666.905078 64.030909 \nL 667.400704 67.325455 \nL 676.321963 67.325455 \nL 676.817589 64.030909 \nL 684.251972 64.030909 \nL 684.747597 60.736364 \nL 716.467631 60.736364 \nL 716.963257 64.030909 \nL 752.648295 64.030909 \nL 754.135171 73.914545 \nL 754.630797 80.503636 \nL 755.126422 83.798182 \nL 756.613299 83.798182 \nL 757.108924 77.209091 \nL 757.60455 73.914545 \nL 758.100175 67.325455 \nL 758.595801 64.030909 \nL 802.706473 64.030909 \nL 803.202098 60.736364 \nL 839.878387 60.736364 \nL 840.374013 64.030909 \nL 859.703408 64.030909 \nL 860.199034 60.736364 \nL 866.14654 60.736364 \nL 866.642166 64.030909 \nL 871.102796 64.030909 \nL 871.598421 60.736364 \nL 872.589672 60.736364 \nL 873.085298 64.030909 \nL 874.572174 64.030909 \nL 877.545927 83.798182 \nL 879.032804 73.914545 \nL 879.52843 67.325455 \nL 880.024055 64.030909 \nL 880.519681 64.030909 \nL 881.015306 60.736364 \nL 884.484685 60.736364 \nL 884.98031 64.030909 \nL 914.222216 64.030909 \nL 914.717842 67.325455 \nL 920.169723 67.325455 \nL 920.665348 64.030909 \nL 996.99168 64.030909 \nL 998.478556 73.914545 \nL 998.974182 80.503636 \nL 999.469807 83.798182 \nL 1000.956684 83.798182 \nL 1001.947935 70.62 \nL 1002.939186 64.030909 \nL 1031.685466 64.030909 \nL 1032.181092 67.325455 \nL 1043.084854 67.325455 \nL 1043.580479 64.030909 \nL 1070.839883 64.030909 \nL 1071.335509 60.736364 \nL 1079.265517 60.736364 \nL 1079.761143 57.441818 \nL 1093.638657 57.441818 \nL 1094.134283 60.736364 \nL 1099.586164 60.736364 \nL 1100.081789 57.441818 \nL 1100.577415 57.441818 \nL 1100.577415 57.441818 \n\" style=\"fill:none;stroke:#0000ff;stroke-linecap:square;stroke-width:1.5;\"/>\n   </g>\n   <g id=\"line2d_12\">\n    <path clip-path=\"url(#p34c4d6d9e5)\" d=\"M 86.03196 63.803426 \nL 88.510088 63.785421 \nL 89.996964 63.805183 \nL 94.95322 63.686172 \nL 97.926973 63.784104 \nL 100.900726 63.667288 \nL 102.883228 63.598341 \nL 104.86573 63.683976 \nL 111.308862 63.590436 \nL 116.760743 63.893453 \nL 123.6995 63.650161 \nL 127.168879 63.815723 \nL 144.020147 63.754241 \nL 146.002649 63.823628 \nL 151.950155 63.726574 \nL 153.932657 63.787178 \nL 166.323296 63.907506 \nL 167.810172 63.918485 \nL 170.2883 63.778834 \nL 185.157066 63.776199 \nL 187.139568 63.700664 \nL 190.113321 63.775321 \nL 192.591449 63.742823 \nL 195.069576 63.984359 \nL 197.547704 63.924633 \nL 201.017083 63.859638 \nL 205.973338 64.047158 \nL 207.460214 64.033983 \nL 209.442717 63.946591 \nL 213.407721 63.954935 \nL 218.363976 63.765659 \nL 220.346478 63.836802 \nL 224.311482 64.007195 \nL 226.78961 63.816601 \nL 228.772112 63.851734 \nL 230.754614 63.959327 \nL 232.241491 63.90048 \nL 236.206495 63.833728 \nL 238.684623 63.940882 \nL 243.640878 63.698907 \nL 247.605882 63.680024 \nL 250.08401 63.845585 \nL 259.005269 63.81177 \nL 260.492146 63.827141 \nL 267.926529 63.654992 \nL 272.387159 63.741506 \nL 275.856537 63.673436 \nL 278.83029 63.698029 \nL 284.282171 63.98348 \nL 292.21218 63.769611 \nL 296.177184 63.849099 \nL 298.655311 63.672997 \nL 300.637814 63.764342 \nL 303.115941 63.863591 \nL 306.58532 63.751606 \nL 309.063448 63.722183 \nL 311.541575 63.818797 \nL 315.506579 63.745458 \nL 325.41909 63.91102 \nL 327.401592 63.914533 \nL 329.384094 63.911459 \nL 340.287856 63.720865 \nL 341.774732 63.698029 \nL 343.757234 63.759511 \nL 347.722239 63.720426 \nL 352.182868 63.784543 \nL 354.165371 63.710765 \nL 356.643498 63.603611 \nL 358.626 63.701542 \nL 365.069132 63.629082 \nL 371.016638 63.864908 \nL 375.972894 63.638304 \nL 377.955396 63.710325 \nL 380.929149 63.817919 \nL 387.867906 63.699347 \nL 394.311038 63.782347 \nL 395.797915 63.692759 \nL 397.780417 63.778395 \nL 399.762919 63.796839 \nL 405.2148 63.698907 \nL 408.188553 63.737114 \nL 410.171055 63.764781 \nL 415.12731 63.751167 \nL 417.605438 63.705495 \nL 422.066068 63.810014 \nL 427.022323 63.758633 \nL 429.500451 63.763463 \nL 432.969829 63.77049 \nL 435.943583 63.784104 \nL 439.412961 63.638304 \nL 440.899838 63.636987 \nL 443.377965 63.743701 \nL 446.847344 63.755998 \nL 448.829846 63.934295 \nL 453.290476 63.847342 \nL 455.768604 63.871935 \nL 462.211736 63.932977 \nL 464.194238 63.908824 \nL 471.628621 63.725696 \nL 474.106748 63.746775 \nL 478.071752 63.903554 \nL 480.054254 63.747654 \nL 486.497386 63.749849 \nL 488.975514 63.657627 \nL 492.940518 63.823628 \nL 498.392399 63.630399 \nL 514.748041 63.741945 \nL 517.721795 63.679145 \nL 520.695548 63.654114 \nL 523.173675 63.608881 \nL 533.086186 63.670801 \nL 539.529318 63.882035 \nL 542.503071 63.778395 \nL 544.981199 63.734479 \nL 546.963701 63.78103 \nL 548.946203 63.845585 \nL 550.433079 63.735797 \nL 551.919956 63.644891 \nL 558.858713 63.783664 \nL 563.319343 63.74414 \nL 565.797471 63.842072 \nL 571.249352 63.732283 \nL 576.205607 63.844707 \nL 596.030628 63.770929 \nL 597.517504 63.797278 \nL 601.482509 63.704616 \nL 603.960636 63.724818 \nL 605.943138 63.725696 \nL 608.421266 63.715156 \nL 610.899394 63.730527 \nL 614.864398 63.786299 \nL 617.342526 63.755559 \nL 621.803155 63.89521 \nL 623.785657 63.976015 \nL 626.263785 63.858321 \nL 629.237538 63.683098 \nL 632.211291 63.74941 \nL 634.193794 63.847781 \nL 640.1413 63.717791 \nL 641.628176 63.651479 \nL 653.523189 63.773125 \nL 657.983819 63.591753 \nL 662.940074 63.759511 \nL 670.374457 63.742384 \nL 672.356959 63.718669 \nL 674.835087 63.825384 \nL 680.286968 63.742823 \nL 684.747597 63.753363 \nL 692.677606 63.683537 \nL 694.660108 63.651039 \nL 697.633861 63.775321 \nL 701.10324 63.820554 \nL 703.085742 63.902236 \nL 712.998252 63.890818 \nL 715.47638 63.934295 \nL 724.397639 63.733162 \nL 727.371393 63.698468 \nL 731.832022 63.891258 \nL 734.31015 63.735357 \nL 736.788278 63.830215 \nL 738.77078 63.871056 \nL 741.744533 63.723939 \nL 744.222661 63.756437 \nL 745.709537 63.835485 \nL 752.648295 63.6506 \nL 756.117673 63.71823 \nL 758.595801 63.784543 \nL 764.543307 63.747654 \nL 766.030184 63.7964 \nL 770.490814 63.618103 \nL 773.464567 63.673436 \nL 778.420822 63.628643 \nL 781.394575 63.647965 \nL 787.342081 63.630399 \nL 792.793962 63.944835 \nL 799.73272 63.755559 \nL 804.193349 63.743701 \nL 805.680226 63.662018 \nL 810.636481 63.788934 \nL 814.601485 63.712521 \nL 816.088362 63.644013 \nL 821.540243 63.857443 \nL 827.487749 63.777077 \nL 837.40026 63.844268 \nL 842.356515 63.759511 \nL 874.572174 63.78586 \nL 877.545927 63.892575 \nL 880.024055 63.767416 \nL 882.997808 63.58297 \nL 887.458438 63.7134 \nL 891.423442 63.779712 \nL 894.397195 63.637865 \nL 897.370949 63.684415 \nL 899.849076 63.806061 \nL 912.73534 63.649722 \nL 916.204719 63.745897 \nL 919.674097 63.828898 \nL 921.656599 63.785421 \nL 924.134727 63.646648 \nL 925.621604 63.624251 \nL 930.577859 63.680463 \nL 933.055987 63.686611 \nL 943.464123 63.778834 \nL 945.94225 63.62996 \nL 948.916003 63.709886 \nL 951.394131 63.831093 \nL 954.86351 63.831093 \nL 957.837263 63.914094 \nL 963.784769 63.936051 \nL 974.688531 63.823188 \nL 976.175407 63.765659 \nL 978.15791 63.691442 \nL 980.636037 63.681341 \nL 985.592292 63.919803 \nL 988.07042 63.752045 \nL 993.522301 63.841633 \nL 996.496054 63.770929 \nL 1000.461058 63.87457 \nL 1004.426062 63.687929 \nL 1013.842947 63.719109 \nL 1016.816701 63.68705 \nL 1019.294828 63.849538 \nL 1022.268581 63.743262 \nL 1024.746709 63.62469 \nL 1029.207339 63.7134 \nL 1039.615475 63.529393 \nL 1047.545483 63.844268 \nL 1050.519237 63.765659 \nL 1052.997364 63.742823 \nL 1054.979866 63.807379 \nL 1056.466743 63.860956 \nL 1057.953619 63.766098 \nL 1059.440496 63.680024 \nL 1091.16053 63.799035 \nL 1094.134283 63.698029 \nL 1098.594913 63.74458 \nL 1100.577415 63.634352 \nL 1100.577415 63.634352 \n\" style=\"fill:none;stroke:#008000;stroke-linecap:square;stroke-width:1.5;\"/>\n   </g>\n   <g id=\"line2d_13\">\n    <path clip-path=\"url(#p34c4d6d9e5)\" d=\"M 86.03196 63.837689 \nL 91.979467 63.707125 \nL 94.95322 63.84434 \nL 106.848232 63.710626 \nL 108.335109 63.631167 \nL 114.282615 63.764881 \nL 116.265117 63.759631 \nL 119.734496 63.891244 \nL 122.212624 63.829988 \nL 127.664505 63.673172 \nL 131.133883 63.835939 \nL 142.53327 63.743879 \nL 145.011398 63.643068 \nL 149.967653 63.771882 \nL 153.437032 63.74913 \nL 158.393287 63.832088 \nL 163.845168 63.65812 \nL 167.314547 63.830338 \nL 178.713934 63.767331 \nL 181.192061 63.65987 \nL 185.652691 63.793934 \nL 189.617695 63.759981 \nL 194.573951 63.824037 \nL 199.530206 63.652519 \nL 211.425219 63.855541 \nL 217.868351 63.693824 \nL 220.842104 63.860091 \nL 225.798359 63.780983 \nL 230.754614 63.827538 \nL 236.206495 63.665471 \nL 238.684623 63.795334 \nL 247.605882 63.873743 \nL 254.049014 63.707125 \nL 256.527142 63.841889 \nL 277.839039 63.823337 \nL 286.264673 63.854491 \nL 290.229678 63.710976 \nL 292.707805 63.84714 \nL 299.646563 63.85064 \nL 301.629065 63.885994 \nL 308.072196 63.642718 \nL 319.471584 63.903846 \nL 322.940962 63.832088 \nL 325.41909 63.675972 \nL 338.800979 63.832088 \nL 344.25286 63.621016 \nL 355.156622 63.904196 \nL 362.591005 63.700474 \nL 365.564758 63.838039 \nL 370.025387 63.737928 \nL 374.981643 63.808286 \nL 380.433523 63.622416 \nL 390.346034 63.901746 \nL 394.806664 63.84994 \nL 398.771668 63.700824 \nL 401.745421 63.85029 \nL 406.206051 63.744579 \nL 411.162306 63.802685 \nL 416.118561 63.611915 \nL 417.605438 63.663371 \nL 420.083566 63.792184 \nL 427.517949 63.900695 \nL 435.447957 63.737228 \nL 437.926085 63.84889 \nL 442.386714 63.769082 \nL 446.847344 63.829638 \nL 454.777353 63.699424 \nL 457.25548 63.780283 \nL 459.733608 63.803035 \nL 462.211736 63.906646 \nL 471.628621 63.721477 \nL 474.106748 63.833488 \nL 479.063003 63.75823 \nL 484.019259 63.778533 \nL 489.47114 63.603514 \nL 492.940518 63.793934 \nL 495.914271 63.798485 \nL 498.392399 63.906996 \nL 507.809284 63.722527 \nL 509.791786 63.831038 \nL 512.765539 63.738278 \nL 515.243667 63.763831 \nL 519.704297 63.799185 \nL 524.164926 63.628717 \nL 526.147429 63.627317 \nL 529.121182 63.778533 \nL 532.094935 63.788684 \nL 534.573063 63.899295 \nL 543.494322 63.678772 \nL 545.97245 63.832788 \nL 548.946203 63.746679 \nL 551.42433 63.768732 \nL 555.389335 63.814236 \nL 561.832467 63.615416 \nL 565.301845 63.803035 \nL 568.275598 63.796384 \nL 570.753726 63.905946 \nL 579.674985 63.671421 \nL 582.153113 63.829988 \nL 593.5525 63.727427 \nL 596.030628 63.633617 \nL 600.491258 63.773632 \nL 602.47376 63.763131 \nL 604.951887 63.824387 \nL 607.925641 63.878643 \nL 612.38627 63.786233 \nL 615.360023 63.640268 \nL 619.325028 63.818437 \nL 623.785657 63.742129 \nL 628.246287 63.786934 \nL 631.22004 63.684723 \nL 634.689419 63.649019 \nL 637.167547 63.808986 \nL 645.593181 63.866742 \nL 652.036312 63.676672 \nL 654.51444 63.843289 \nL 661.453198 63.834889 \nL 663.4357 63.85204 \nL 668.391955 63.617166 \nL 672.356959 63.75473 \nL 674.339461 63.782383 \nL 676.321963 63.744929 \nL 680.286968 63.880043 \nL 684.747597 63.808986 \nL 687.72135 63.664071 \nL 691.686355 63.823687 \nL 696.146984 63.748429 \nL 700.607614 63.813886 \nL 703.581367 63.688573 \nL 707.050746 63.668271 \nL 709.528874 63.837339 \nL 722.415137 63.715876 \nL 724.397639 63.702575 \nL 727.371393 63.840839 \nL 732.823273 63.766631 \nL 735.301401 63.898595 \nL 740.753282 63.634668 \nL 745.213912 63.807236 \nL 747.196414 63.770832 \nL 749.178916 63.803035 \nL 751.161418 63.899645 \nL 754.630797 63.870242 \nL 759.091426 63.689973 \nL 761.073929 63.744579 \nL 763.056431 63.84539 \nL 765.534558 63.758581 \nL 767.51706 63.711676 \nL 772.968941 63.809686 \nL 775.942694 63.671071 \nL 779.412073 63.677722 \nL 781.890201 63.824037 \nL 794.776464 63.727427 \nL 796.758966 63.713426 \nL 799.73272 63.842939 \nL 804.688975 63.74983 \nL 809.149605 63.822987 \nL 812.123358 63.675972 \nL 815.592737 63.691724 \nL 818.070864 63.839089 \nL 822.531494 63.862191 \nL 826.000873 63.879343 \nL 829.965877 63.817737 \nL 832.444004 63.689623 \nL 837.895885 63.75753 \nL 839.878387 63.704325 \nL 845.330268 63.803385 \nL 848.304021 63.685073 \nL 852.269026 63.732678 \nL 855.242779 63.794284 \nL 857.225281 63.764531 \nL 862.677162 63.892295 \nL 869.615919 63.728127 \nL 871.598421 63.814586 \nL 889.44094 63.787984 \nL 891.423442 63.785183 \nL 893.405944 63.75613 \nL 898.3622 63.891945 \nL 902.327204 63.807236 \nL 904.309706 63.688923 \nL 906.787834 63.794634 \nL 908.27471 63.812486 \nL 912.73534 63.688223 \nL 917.19597 63.787284 \nL 924.134727 63.676322 \nL 926.612855 63.799885 \nL 931.073484 63.854141 \nL 934.047238 63.904896 \nL 941.977246 63.75718 \nL 943.959748 63.818087 \nL 950.40288 63.75648 \nL 952.881008 63.818087 \nL 957.837263 63.65952 \nL 964.77602 63.75823 \nL 974.688531 63.815286 \nL 976.671033 63.700824 \nL 983.60979 63.673172 \nL 985.592292 63.695574 \nL 990.548548 63.761031 \nL 995.504803 63.671421 \nL 1000.461058 63.763831 \nL 1002.939186 63.84749 \nL 1005.417314 63.892645 \nL 1015.329824 63.818787 \nL 1017.312326 63.810736 \nL 1022.268581 63.683323 \nL 1025.242335 63.792184 \nL 1031.189841 63.695224 \nL 1034.163594 63.793234 \nL 1036.641722 63.747029 \nL 1039.119849 63.824387 \nL 1041.597977 63.866042 \nL 1050.519237 63.769082 \nL 1052.501739 63.822287 \nL 1058.94487 63.710976 \nL 1061.422998 63.789034 \nL 1066.379253 63.700474 \nL 1071.335509 63.784833 \nL 1075.300513 63.815987 \nL 1077.778641 63.863592 \nL 1087.691151 63.781683 \nL 1090.169279 63.747029 \nL 1094.629908 63.65917 \nL 1097.603662 63.824387 \nL 1100.577415 63.699424 \nL 1100.577415 63.699424 \n\" style=\"fill:none;stroke:#ff0000;stroke-linecap:square;stroke-width:1.5;\"/>\n   </g>\n   <g id=\"patch_8\">\n    <path d=\"M 35.304688 170.28 \nL 35.304688 7.2 \n\" style=\"fill:none;stroke:#000000;stroke-linecap:square;stroke-linejoin:miter;stroke-width:0.8;\"/>\n   </g>\n   <g id=\"patch_9\">\n    <path d=\"M 1151.304688 170.28 \nL 1151.304688 7.2 \n\" style=\"fill:none;stroke:#000000;stroke-linecap:square;stroke-linejoin:miter;stroke-width:0.8;\"/>\n   </g>\n   <g id=\"patch_10\">\n    <path d=\"M 35.304688 170.28 \nL 1151.304688 170.28 \n\" style=\"fill:none;stroke:#000000;stroke-linecap:square;stroke-linejoin:miter;stroke-width:0.8;\"/>\n   </g>\n   <g id=\"patch_11\">\n    <path d=\"M 35.304688 7.2 \nL 1151.304688 7.2 \n\" style=\"fill:none;stroke:#000000;stroke-linecap:square;stroke-linejoin:miter;stroke-width:0.8;\"/>\n   </g>\n   <g id=\"legend_1\">\n    <g id=\"patch_12\">\n     <path d=\"M 42.304688 165.28 \nL 168.954688 165.28 \nQ 170.954688 165.28 170.954688 163.28 \nL 170.954688 120.245625 \nQ 170.954688 118.245625 168.954688 118.245625 \nL 42.304688 118.245625 \nQ 40.304688 118.245625 40.304688 120.245625 \nL 40.304688 163.28 \nQ 40.304688 165.28 42.304688 165.28 \nz\n\" style=\"fill:#ffffff;opacity:0.8;stroke:#cccccc;stroke-linejoin:miter;\"/>\n    </g>\n    <g id=\"line2d_14\">\n     <path d=\"M 44.304688 126.344063 \nL 64.304688 126.344063 \n\" style=\"fill:none;stroke:#0000ff;stroke-linecap:square;stroke-width:1.5;\"/>\n    </g>\n    <g id=\"line2d_15\"/>\n    <g id=\"text_11\">\n     <!-- Explained instance -->\n     <g transform=\"translate(72.304688 129.844063)scale(0.1 -0.1)\">\n      <defs>\n       <path d=\"M 9.8125 72.90625 \nL 55.90625 72.90625 \nL 55.90625 64.59375 \nL 19.671875 64.59375 \nL 19.671875 43.015625 \nL 54.390625 43.015625 \nL 54.390625 34.71875 \nL 19.671875 34.71875 \nL 19.671875 8.296875 \nL 56.78125 8.296875 \nL 56.78125 0 \nL 9.8125 0 \nz\n\" id=\"DejaVuSans-69\"/>\n       <path d=\"M 54.890625 54.6875 \nL 35.109375 28.078125 \nL 55.90625 0 \nL 45.3125 0 \nL 29.390625 21.484375 \nL 13.484375 0 \nL 2.875 0 \nL 24.125 28.609375 \nL 4.6875 54.6875 \nL 15.28125 54.6875 \nL 29.78125 35.203125 \nL 44.28125 54.6875 \nz\n\" id=\"DejaVuSans-120\"/>\n       <path d=\"M 18.109375 8.203125 \nL 18.109375 -20.796875 \nL 9.078125 -20.796875 \nL 9.078125 54.6875 \nL 18.109375 54.6875 \nL 18.109375 46.390625 \nQ 20.953125 51.265625 25.265625 53.625 \nQ 29.59375 56 35.59375 56 \nQ 45.5625 56 51.78125 48.09375 \nQ 58.015625 40.1875 58.015625 27.296875 \nQ 58.015625 14.40625 51.78125 6.484375 \nQ 45.5625 -1.421875 35.59375 -1.421875 \nQ 29.59375 -1.421875 25.265625 0.953125 \nQ 20.953125 3.328125 18.109375 8.203125 \nz\nM 48.6875 27.296875 \nQ 48.6875 37.203125 44.609375 42.84375 \nQ 40.53125 48.484375 33.40625 48.484375 \nQ 26.265625 48.484375 22.1875 42.84375 \nQ 18.109375 37.203125 18.109375 27.296875 \nQ 18.109375 17.390625 22.1875 11.75 \nQ 26.265625 6.109375 33.40625 6.109375 \nQ 40.53125 6.109375 44.609375 11.75 \nQ 48.6875 17.390625 48.6875 27.296875 \nz\n\" id=\"DejaVuSans-112\"/>\n       <path d=\"M 9.421875 75.984375 \nL 18.40625 75.984375 \nL 18.40625 0 \nL 9.421875 0 \nz\n\" id=\"DejaVuSans-108\"/>\n       <path d=\"M 34.28125 27.484375 \nQ 23.390625 27.484375 19.1875 25 \nQ 14.984375 22.515625 14.984375 16.5 \nQ 14.984375 11.71875 18.140625 8.90625 \nQ 21.296875 6.109375 26.703125 6.109375 \nQ 34.1875 6.109375 38.703125 11.40625 \nQ 43.21875 16.703125 43.21875 25.484375 \nL 43.21875 27.484375 \nz\nM 52.203125 31.203125 \nL 52.203125 0 \nL 43.21875 0 \nL 43.21875 8.296875 \nQ 40.140625 3.328125 35.546875 0.953125 \nQ 30.953125 -1.421875 24.3125 -1.421875 \nQ 15.921875 -1.421875 10.953125 3.296875 \nQ 6 8.015625 6 15.921875 \nQ 6 25.140625 12.171875 29.828125 \nQ 18.359375 34.515625 30.609375 34.515625 \nL 43.21875 34.515625 \nL 43.21875 35.40625 \nQ 43.21875 41.609375 39.140625 45 \nQ 35.0625 48.390625 27.6875 48.390625 \nQ 23 48.390625 18.546875 47.265625 \nQ 14.109375 46.140625 10.015625 43.890625 \nL 10.015625 52.203125 \nQ 14.9375 54.109375 19.578125 55.046875 \nQ 24.21875 56 28.609375 56 \nQ 40.484375 56 46.34375 49.84375 \nQ 52.203125 43.703125 52.203125 31.203125 \nz\n\" id=\"DejaVuSans-97\"/>\n       <path d=\"M 9.421875 54.6875 \nL 18.40625 54.6875 \nL 18.40625 0 \nL 9.421875 0 \nz\nM 9.421875 75.984375 \nL 18.40625 75.984375 \nL 18.40625 64.59375 \nL 9.421875 64.59375 \nz\n\" id=\"DejaVuSans-105\"/>\n       <path d=\"M 54.890625 33.015625 \nL 54.890625 0 \nL 45.90625 0 \nL 45.90625 32.71875 \nQ 45.90625 40.484375 42.875 44.328125 \nQ 39.84375 48.1875 33.796875 48.1875 \nQ 26.515625 48.1875 22.3125 43.546875 \nQ 18.109375 38.921875 18.109375 30.90625 \nL 18.109375 0 \nL 9.078125 0 \nL 9.078125 54.6875 \nL 18.109375 54.6875 \nL 18.109375 46.1875 \nQ 21.34375 51.125 25.703125 53.5625 \nQ 30.078125 56 35.796875 56 \nQ 45.21875 56 50.046875 50.171875 \nQ 54.890625 44.34375 54.890625 33.015625 \nz\n\" id=\"DejaVuSans-110\"/>\n       <path d=\"M 56.203125 29.59375 \nL 56.203125 25.203125 \nL 14.890625 25.203125 \nQ 15.484375 15.921875 20.484375 11.0625 \nQ 25.484375 6.203125 34.421875 6.203125 \nQ 39.59375 6.203125 44.453125 7.46875 \nQ 49.3125 8.734375 54.109375 11.28125 \nL 54.109375 2.78125 \nQ 49.265625 0.734375 44.1875 -0.34375 \nQ 39.109375 -1.421875 33.890625 -1.421875 \nQ 20.796875 -1.421875 13.15625 6.1875 \nQ 5.515625 13.8125 5.515625 26.8125 \nQ 5.515625 40.234375 12.765625 48.109375 \nQ 20.015625 56 32.328125 56 \nQ 43.359375 56 49.78125 48.890625 \nQ 56.203125 41.796875 56.203125 29.59375 \nz\nM 47.21875 32.234375 \nQ 47.125 39.59375 43.09375 43.984375 \nQ 39.0625 48.390625 32.421875 48.390625 \nQ 24.90625 48.390625 20.390625 44.140625 \nQ 15.875 39.890625 15.1875 32.171875 \nz\n\" id=\"DejaVuSans-101\"/>\n       <path d=\"M 45.40625 46.390625 \nL 45.40625 75.984375 \nL 54.390625 75.984375 \nL 54.390625 0 \nL 45.40625 0 \nL 45.40625 8.203125 \nQ 42.578125 3.328125 38.25 0.953125 \nQ 33.9375 -1.421875 27.875 -1.421875 \nQ 17.96875 -1.421875 11.734375 6.484375 \nQ 5.515625 14.40625 5.515625 27.296875 \nQ 5.515625 40.1875 11.734375 48.09375 \nQ 17.96875 56 27.875 56 \nQ 33.9375 56 38.25 53.625 \nQ 42.578125 51.265625 45.40625 46.390625 \nz\nM 14.796875 27.296875 \nQ 14.796875 17.390625 18.875 11.75 \nQ 22.953125 6.109375 30.078125 6.109375 \nQ 37.203125 6.109375 41.296875 11.75 \nQ 45.40625 17.390625 45.40625 27.296875 \nQ 45.40625 37.203125 41.296875 42.84375 \nQ 37.203125 48.484375 30.078125 48.484375 \nQ 22.953125 48.484375 18.875 42.84375 \nQ 14.796875 37.203125 14.796875 27.296875 \nz\n\" id=\"DejaVuSans-100\"/>\n       <path id=\"DejaVuSans-32\"/>\n       <path d=\"M 44.28125 53.078125 \nL 44.28125 44.578125 \nQ 40.484375 46.53125 36.375 47.5 \nQ 32.28125 48.484375 27.875 48.484375 \nQ 21.1875 48.484375 17.84375 46.4375 \nQ 14.5 44.390625 14.5 40.28125 \nQ 14.5 37.15625 16.890625 35.375 \nQ 19.28125 33.59375 26.515625 31.984375 \nL 29.59375 31.296875 \nQ 39.15625 29.25 43.1875 25.515625 \nQ 47.21875 21.78125 47.21875 15.09375 \nQ 47.21875 7.46875 41.1875 3.015625 \nQ 35.15625 -1.421875 24.609375 -1.421875 \nQ 20.21875 -1.421875 15.453125 -0.5625 \nQ 10.6875 0.296875 5.421875 2 \nL 5.421875 11.28125 \nQ 10.40625 8.6875 15.234375 7.390625 \nQ 20.0625 6.109375 24.8125 6.109375 \nQ 31.15625 6.109375 34.5625 8.28125 \nQ 37.984375 10.453125 37.984375 14.40625 \nQ 37.984375 18.0625 35.515625 20.015625 \nQ 33.0625 21.96875 24.703125 23.78125 \nL 21.578125 24.515625 \nQ 13.234375 26.265625 9.515625 29.90625 \nQ 5.8125 33.546875 5.8125 39.890625 \nQ 5.8125 47.609375 11.28125 51.796875 \nQ 16.75 56 26.8125 56 \nQ 31.78125 56 36.171875 55.265625 \nQ 40.578125 54.546875 44.28125 53.078125 \nz\n\" id=\"DejaVuSans-115\"/>\n       <path d=\"M 18.3125 70.21875 \nL 18.3125 54.6875 \nL 36.8125 54.6875 \nL 36.8125 47.703125 \nL 18.3125 47.703125 \nL 18.3125 18.015625 \nQ 18.3125 11.328125 20.140625 9.421875 \nQ 21.96875 7.515625 27.59375 7.515625 \nL 36.8125 7.515625 \nL 36.8125 0 \nL 27.59375 0 \nQ 17.1875 0 13.234375 3.875 \nQ 9.28125 7.765625 9.28125 18.015625 \nL 9.28125 47.703125 \nL 2.6875 47.703125 \nL 2.6875 54.6875 \nL 9.28125 54.6875 \nL 9.28125 70.21875 \nz\n\" id=\"DejaVuSans-116\"/>\n       <path d=\"M 48.78125 52.59375 \nL 48.78125 44.1875 \nQ 44.96875 46.296875 41.140625 47.34375 \nQ 37.3125 48.390625 33.40625 48.390625 \nQ 24.65625 48.390625 19.8125 42.84375 \nQ 14.984375 37.3125 14.984375 27.296875 \nQ 14.984375 17.28125 19.8125 11.734375 \nQ 24.65625 6.203125 33.40625 6.203125 \nQ 37.3125 6.203125 41.140625 7.25 \nQ 44.96875 8.296875 48.78125 10.40625 \nL 48.78125 2.09375 \nQ 45.015625 0.34375 40.984375 -0.53125 \nQ 36.96875 -1.421875 32.421875 -1.421875 \nQ 20.0625 -1.421875 12.78125 6.34375 \nQ 5.515625 14.109375 5.515625 27.296875 \nQ 5.515625 40.671875 12.859375 48.328125 \nQ 20.21875 56 33.015625 56 \nQ 37.15625 56 41.109375 55.140625 \nQ 45.0625 54.296875 48.78125 52.59375 \nz\n\" id=\"DejaVuSans-99\"/>\n      </defs>\n      <use xlink:href=\"#DejaVuSans-69\"/>\n      <use x=\"63.183594\" xlink:href=\"#DejaVuSans-120\"/>\n      <use x=\"122.363281\" xlink:href=\"#DejaVuSans-112\"/>\n      <use x=\"185.839844\" xlink:href=\"#DejaVuSans-108\"/>\n      <use x=\"213.623047\" xlink:href=\"#DejaVuSans-97\"/>\n      <use x=\"274.902344\" xlink:href=\"#DejaVuSans-105\"/>\n      <use x=\"302.685547\" xlink:href=\"#DejaVuSans-110\"/>\n      <use x=\"366.064453\" xlink:href=\"#DejaVuSans-101\"/>\n      <use x=\"427.587891\" xlink:href=\"#DejaVuSans-100\"/>\n      <use x=\"491.064453\" xlink:href=\"#DejaVuSans-32\"/>\n      <use x=\"522.851562\" xlink:href=\"#DejaVuSans-105\"/>\n      <use x=\"550.634766\" xlink:href=\"#DejaVuSans-110\"/>\n      <use x=\"614.013672\" xlink:href=\"#DejaVuSans-115\"/>\n      <use x=\"666.113281\" xlink:href=\"#DejaVuSans-116\"/>\n      <use x=\"705.322266\" xlink:href=\"#DejaVuSans-97\"/>\n      <use x=\"766.601562\" xlink:href=\"#DejaVuSans-110\"/>\n      <use x=\"829.980469\" xlink:href=\"#DejaVuSans-99\"/>\n      <use x=\"884.960938\" xlink:href=\"#DejaVuSans-101\"/>\n     </g>\n    </g>\n    <g id=\"line2d_16\">\n     <path d=\"M 44.304688 141.022188 \nL 64.304688 141.022188 \n\" style=\"fill:none;stroke:#008000;stroke-linecap:square;stroke-width:1.5;\"/>\n    </g>\n    <g id=\"line2d_17\"/>\n    <g id=\"text_12\">\n     <!-- Mean of class 0 -->\n     <g transform=\"translate(72.304688 144.522188)scale(0.1 -0.1)\">\n      <defs>\n       <path d=\"M 9.8125 72.90625 \nL 24.515625 72.90625 \nL 43.109375 23.296875 \nL 61.8125 72.90625 \nL 76.515625 72.90625 \nL 76.515625 0 \nL 66.890625 0 \nL 66.890625 64.015625 \nL 48.09375 14.015625 \nL 38.1875 14.015625 \nL 19.390625 64.015625 \nL 19.390625 0 \nL 9.8125 0 \nz\n\" id=\"DejaVuSans-77\"/>\n       <path d=\"M 30.609375 48.390625 \nQ 23.390625 48.390625 19.1875 42.75 \nQ 14.984375 37.109375 14.984375 27.296875 \nQ 14.984375 17.484375 19.15625 11.84375 \nQ 23.34375 6.203125 30.609375 6.203125 \nQ 37.796875 6.203125 41.984375 11.859375 \nQ 46.1875 17.53125 46.1875 27.296875 \nQ 46.1875 37.015625 41.984375 42.703125 \nQ 37.796875 48.390625 30.609375 48.390625 \nz\nM 30.609375 56 \nQ 42.328125 56 49.015625 48.375 \nQ 55.71875 40.765625 55.71875 27.296875 \nQ 55.71875 13.875 49.015625 6.21875 \nQ 42.328125 -1.421875 30.609375 -1.421875 \nQ 18.84375 -1.421875 12.171875 6.21875 \nQ 5.515625 13.875 5.515625 27.296875 \nQ 5.515625 40.765625 12.171875 48.375 \nQ 18.84375 56 30.609375 56 \nz\n\" id=\"DejaVuSans-111\"/>\n       <path d=\"M 37.109375 75.984375 \nL 37.109375 68.5 \nL 28.515625 68.5 \nQ 23.6875 68.5 21.796875 66.546875 \nQ 19.921875 64.59375 19.921875 59.515625 \nL 19.921875 54.6875 \nL 34.71875 54.6875 \nL 34.71875 47.703125 \nL 19.921875 47.703125 \nL 19.921875 0 \nL 10.890625 0 \nL 10.890625 47.703125 \nL 2.296875 47.703125 \nL 2.296875 54.6875 \nL 10.890625 54.6875 \nL 10.890625 58.5 \nQ 10.890625 67.625 15.140625 71.796875 \nQ 19.390625 75.984375 28.609375 75.984375 \nz\n\" id=\"DejaVuSans-102\"/>\n      </defs>\n      <use xlink:href=\"#DejaVuSans-77\"/>\n      <use x=\"86.279297\" xlink:href=\"#DejaVuSans-101\"/>\n      <use x=\"147.802734\" xlink:href=\"#DejaVuSans-97\"/>\n      <use x=\"209.082031\" xlink:href=\"#DejaVuSans-110\"/>\n      <use x=\"272.460938\" xlink:href=\"#DejaVuSans-32\"/>\n      <use x=\"304.248047\" xlink:href=\"#DejaVuSans-111\"/>\n      <use x=\"365.429688\" xlink:href=\"#DejaVuSans-102\"/>\n      <use x=\"400.634766\" xlink:href=\"#DejaVuSans-32\"/>\n      <use x=\"432.421875\" xlink:href=\"#DejaVuSans-99\"/>\n      <use x=\"487.402344\" xlink:href=\"#DejaVuSans-108\"/>\n      <use x=\"515.185547\" xlink:href=\"#DejaVuSans-97\"/>\n      <use x=\"576.464844\" xlink:href=\"#DejaVuSans-115\"/>\n      <use x=\"628.564453\" xlink:href=\"#DejaVuSans-115\"/>\n      <use x=\"680.664062\" xlink:href=\"#DejaVuSans-32\"/>\n      <use x=\"712.451172\" xlink:href=\"#DejaVuSans-48\"/>\n     </g>\n    </g>\n    <g id=\"line2d_18\">\n     <path d=\"M 44.304688 155.700313 \nL 64.304688 155.700313 \n\" style=\"fill:none;stroke:#ff0000;stroke-linecap:square;stroke-width:1.5;\"/>\n    </g>\n    <g id=\"line2d_19\"/>\n    <g id=\"text_13\">\n     <!-- Mean of class 1 -->\n     <g transform=\"translate(72.304688 159.200313)scale(0.1 -0.1)\">\n      <use xlink:href=\"#DejaVuSans-77\"/>\n      <use x=\"86.279297\" xlink:href=\"#DejaVuSans-101\"/>\n      <use x=\"147.802734\" xlink:href=\"#DejaVuSans-97\"/>\n      <use x=\"209.082031\" xlink:href=\"#DejaVuSans-110\"/>\n      <use x=\"272.460938\" xlink:href=\"#DejaVuSans-32\"/>\n      <use x=\"304.248047\" xlink:href=\"#DejaVuSans-111\"/>\n      <use x=\"365.429688\" xlink:href=\"#DejaVuSans-102\"/>\n      <use x=\"400.634766\" xlink:href=\"#DejaVuSans-32\"/>\n      <use x=\"432.421875\" xlink:href=\"#DejaVuSans-99\"/>\n      <use x=\"487.402344\" xlink:href=\"#DejaVuSans-108\"/>\n      <use x=\"515.185547\" xlink:href=\"#DejaVuSans-97\"/>\n      <use x=\"576.464844\" xlink:href=\"#DejaVuSans-115\"/>\n      <use x=\"628.564453\" xlink:href=\"#DejaVuSans-115\"/>\n      <use x=\"680.664062\" xlink:href=\"#DejaVuSans-32\"/>\n      <use x=\"712.451172\" xlink:href=\"#DejaVuSans-49\"/>\n     </g>\n    </g>\n   </g>\n  </g>\n </g>\n <defs>\n  <clipPath id=\"p34c4d6d9e5\">\n   <rect height=\"163.08\" width=\"1116\" x=\"35.304688\" y=\"7.2\"/>\n  </clipPath>\n </defs>\n</svg>\n",
      "image/png": "[encoded data removed]"
     },
     "metadata": {
      "needs_background": "light"
     }
    }
   ],
   "source": [
    "values_per_slice_ecg = len(series_ecg2) // num_slices_ecg\n",
    "plt.rcParams[\"figure.figsize\"] = (20,3)\n",
    "plt.plot(series_ecg2, 'b', label='Explained instance')\n",
    "plt.plot(X_test2[np.where(Y_test2==0)[0]].mean(axis=0), color='green',\n",
    "        label='Mean of class 0')\n",
    "plt.plot(X_test2[np.where(Y_test2==1)[0]].mean(axis=0), color='red',\n",
    "        label='Mean of class 1')\n",
    "for i in range(num_features_ecg):\n",
    "    feature, weight = exp2.as_list()[i]\n",
    "    start = feature * values_per_slice_ecg\n",
    "    end = start + values_per_slice_ecg\n",
    "    plt.axvspan(start , end, color='red', alpha=abs(weight*10))\n",
    "plt.legend(loc='lower left')\n",
    "plt.show()"
   ]
  },
  {
   "cell_type": "code",
   "execution_count": null,
   "metadata": {},
   "outputs": [],
   "source": []
  }
 ],
 "metadata": {
  "accelerator": "GPU",
  "colab": {
   "collapsed_sections": [],
   "name": "ECG_Classification.ipynb",
   "provenance": []
  },
  "kernelspec": {
   "display_name": "Python 3",
   "language": "python",
   "name": "python3"
  }
 },
 "nbformat": 4,
 "nbformat_minor": 1
}