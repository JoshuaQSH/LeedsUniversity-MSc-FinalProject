{
  "nbformat": 4,
  "nbformat_minor": 0,
  "metadata": {
    "colab": {
      "name": "ECG_Classification.ipynb",
      "provenance": [],
      "collapsed_sections": []
    },
    "kernelspec": {
      "name": "python3",
      "display_name": "Python 3"
    },
    "accelerator": "GPU"
  },
  "cells": [
    {
      "cell_type": "markdown",
      "metadata": {
        "id": "Pgy7Q6kZC1pA",
        "colab_type": "text"
      },
      "source": [
        "# ECG Classification (PhysioNet/CinC Challenge 2017)\n",
        "\n",
        "0. Download data\n",
        "1. Data augmentation: WaveNet\n",
        "2. Model: Attention-based CRNN (attention in last layer)\n",
        "3. **Explain (important)**: Explainable predictions with the classifier"
      ]
    },
    {
      "cell_type": "code",
      "metadata": {
        "id": "A_JdNSXDAUTf",
        "colab_type": "code",
        "colab": {},
        "tags": []
      },
      "source": [
        "import os\n",
        "import pickle\n",
        "import numpy as np\n",
        "from tqdm.notebook import tqdm\n",
        "from google.colab import output\n",
        "from collections import Counter\n",
        "from matplotlib import pyplot as plt\n",
        "from scipy.signal import butter, filtfilt\n",
        "from sklearn.model_selection import train_test_split\n",
        "from sklearn.metrics import classification_report, confusion_matrix\n",
        "\n",
        "import torch\n",
        "import torch.nn as nn\n",
        "import torch.optim as optim\n",
        "import torch.nn.functional as F\n",
        "from torch.utils.data import Dataset, DataLoader\n",
        "\n",
        "print(\"PyTorch version:\", torch.__version__)\n",
        "print(\"GPU is\", \"available\" if torch.cuda.is_available() else \"NOT available\" + \n",
        "      \"!!!\\n Change Runtime > runtime type and set Hardware accelerator to GPU\")\n",
        "device = torch.device(\"cuda\" if torch.cuda.is_available() else \"cpu\")"
      ],
      "execution_count": 1,
      "outputs": [
        {
          "output_type": "stream",
          "name": "stdout",
          "text": "PyTorch version: 1.5.1\nGPU is NOT available!!!\n Change Runtime > runtime type and set Hardware accelerator to GPU\n"
        }
      ]
    },
    {
      "cell_type": "code",
      "metadata": {
        "id": "nZJBuet8HMOW",
        "colab_type": "code",
        "colab": {}
      },
      "source": [
        "try:\n",
        "  from tensorboardX import SummaryWriter\n",
        "except:\n",
        "  %pip install tensorboardX\n",
        "  from tensorboardX import SummaryWriter\n",
        "try:\n",
        "  from torchsummaryX import summary\n",
        "except:\n",
        "  %pip install torchsummaryX\n",
        "  from torchsummaryX import summary\n",
        "try:\n",
        "  import visdom\n",
        "except:\n",
        "  %pip install visdom\n",
        "  import visdom\n",
        "from audiodata import AudioData, AudioLoader\n",
        "from models import Model, Generator\n",
        "output.clear()"
      ],
      "execution_count": 2,
      "outputs": []
    },
    {
      "cell_type": "code",
      "metadata": {
        "id": "zqB7Rcn7GBHc",
        "colab_type": "code",
        "colab": {},
        "tags": []
      },
      "source": [
        "# Download preprocessed data from <https://drive.google.com/drive/folders/1AuPxvGoyUbKcVaFmeyt3xsqj6ucWZezf>\n",
        "DATA_PATH=\"challenge2017.pkl\"\n",
        "if not os.path.exists(DATA_PATH):\n",
        "  !wget --load-cookies /tmp/cookies.txt \"https://docs.google.com/uc?export=download&confirm=$(wget --quiet --save-cookies /tmp/cookies.txt --keep-session-cookies --no-check-certificate 'https://docs.google.com/uc?export=download&id=1j7Yk0-W9uonQiyyG2B9ZAw5jjZA-UeMS' -O- | sed -rn 's/.*confirm=([0-9A-Za-z_]+).*/\\1\\n/p')&id=1j7Yk0-W9uonQiyyG2B9ZAw5jjZA-UeMS\" -O challenge2017.pkl && rm -rf /tmp/cookies.txt\n",
        "  output.clear()\n",
        "  print(\"Data challenge2017.pkl downloaded!\")\n",
        "!ls\n",
        "# challenge2017.pkl should be 160M\n",
        "!du -h challenge2017.pkl"
      ],
      "execution_count": 3,
      "outputs": [
        {
          "output_type": "stream",
          "name": "stdout",
          "text": "\u001b[31mA_Wavenet_330_0.2112.pt\u001b[m\u001b[m  \u001b[31mN_Wavenet_1000_0.1569.pt\u001b[m\u001b[m \u001b[1m\u001b[32mlog\u001b[m\u001b[m\n\u001b[31mA_Wavenet_980_0.1832.pt\u001b[m\u001b[m  \u001b[1m\u001b[32m__pycache__\u001b[m\u001b[m              \u001b[1m\u001b[32mmodels\u001b[m\u001b[m\n\u001b[31mA_Wavenet_990_0.2105.pt\u001b[m\u001b[m  \u001b[31maudiodata.py\u001b[m\u001b[m             \u001b[31mmodels.py\u001b[m\u001b[m\nCRANN_44_0.9277.pt       challenge2017.pkl        \u001b[31mmuencoder.py\u001b[m\u001b[m\nECG_Classification.ipynb \u001b[31mlime_timeseries.py\u001b[m\u001b[m       \u001b[1m\u001b[32mresnet1d-master\u001b[m\u001b[m\n160M\tchallenge2017.pkl\n"
        }
      ]
    },
    {
      "cell_type": "markdown",
      "metadata": {
        "id": "bSpDRnZSYb1X",
        "colab_type": "text"
      },
      "source": [
        "## 0. Preprocess Data"
      ]
    },
    {
      "cell_type": "code",
      "metadata": {
        "id": "Jrb-142LTQvo",
        "colab_type": "code",
        "colab": {}
      },
      "source": [
        "def slide_and_cut(X, Y, window_size, stride, output_pid=False, datatype=4):\n",
        "  out_X = []\n",
        "  out_Y = []\n",
        "  out_pid = []\n",
        "  n_sample = X.shape[0]\n",
        "  mode = 0\n",
        "  for i in range(n_sample):\n",
        "    tmp_ts = X[i]\n",
        "    tmp_Y = Y[i]\n",
        "    if tmp_Y == 0:\n",
        "      i_stride = stride\n",
        "    elif tmp_Y == 1:\n",
        "      if datatype == 4:\n",
        "        i_stride = stride//6\n",
        "      elif datatype == 2:\n",
        "        i_stride = stride//10\n",
        "      elif datatype == 2.1:\n",
        "        i_stride = stride//7\n",
        "    elif tmp_Y == 2:\n",
        "      i_stride = stride//2\n",
        "    elif tmp_Y == 3:\n",
        "      i_stride = stride//20\n",
        "    for j in range(0, len(tmp_ts)-window_size, i_stride):\n",
        "      out_X.append(tmp_ts[j:j+window_size])\n",
        "      out_Y.append(tmp_Y)\n",
        "      out_pid.append(i)\n",
        "  if output_pid:\n",
        "    return np.array(out_X), np.array(out_Y), np.array(out_pid)\n",
        "  else:\n",
        "    return np.array(out_X), np.array(out_Y)\n",
        "\n",
        "\n",
        "def read_data(DATA_PATH, window_size=2048, stride=512, cut=False, bit=True):\n",
        "  \"\"\"\n",
        "  only N A, no O P\n",
        "  \"\"\"\n",
        "  # Read data\n",
        "  with open(DATA_PATH, 'rb') as fin:\n",
        "    res = pickle.load(fin)\n",
        "  ## only N A, no O P\n",
        "  all_data = []\n",
        "  all_label = []\n",
        "  all_max = 0\n",
        "  for i in range(len(res['label'])):\n",
        "    if np.abs(res['data'][i]).max() > all_max:\n",
        "      all_max = np.abs(res['data'][i]).max()\n",
        "    if res['label'][i] == 'A':\n",
        "      all_label.append(1)\n",
        "      all_data.append(res['data'][i])\n",
        "    elif res['label'][i] == 'N':\n",
        "      all_label.append(0)\n",
        "      all_data.append(res['data'][i])\n",
        "  ## scale data\n",
        "  for i in range(len(all_data)):\n",
        "    tmp_data = all_data[i]\n",
        "    tmp_std = np.std(tmp_data)\n",
        "    tmp_mean = np.mean(tmp_data)\n",
        "    all_data[i] = (tmp_data - tmp_mean) / tmp_std\n",
        "    if bit:\n",
        "      # note: devide first, in case of overflow\n",
        "      all_data[i] = np.asarray(all_data[i] / all_max * np.iinfo(np.int16).max, dtype=np.int16)\n",
        "  \n",
        "  all_data = np.array(all_data)\n",
        "  all_label = np.array(all_label)\n",
        "  if not cut:\n",
        "    return all_data, all_label\n",
        "  else:\n",
        "    # split train test\n",
        "    X_train, X_test, Y_train, Y_test = train_test_split(\n",
        "        all_data, all_label, test_size=0.1, random_state=0)\n",
        "    \n",
        "    # slide and cut\n",
        "    print('before: ')\n",
        "    print(Counter(Y_train), Counter(Y_test))\n",
        "  \n",
        "    X_train, Y_train = slide_and_cut(\n",
        "        X_train, Y_train, window_size=window_size, stride=stride, datatype=2.1)\n",
        "    X_test, Y_test, pid_test = slide_and_cut(\n",
        "        X_test, Y_test, window_size=window_size, stride=stride, datatype=2.1, output_pid=True)\n",
        "    print('after: ')\n",
        "    print(Counter(Y_train), Counter(Y_test))\n",
        "  \n",
        "    # shuffle train\n",
        "    shuffle_pid = np.random.permutation(Y_train.shape[0])\n",
        "    X_train = X_train[shuffle_pid]\n",
        "    Y_train = Y_train[shuffle_pid]\n",
        "\n",
        "    X_train = np.expand_dims(X_train, 1)\n",
        "    X_test = np.expand_dims(X_test, 1)\n",
        "    return X_train, X_test, Y_train, Y_test, pid_test\n",
        "    \n",
        "\n",
        "class MyDataset(Dataset):\n",
        "  def __init__(self, data, label):\n",
        "    self.data = data\n",
        "    self.label = label\n",
        "\n",
        "  def __getitem__(self, index):\n",
        "    return (torch.tensor(self.data[index], dtype=torch.float), \n",
        "            torch.tensor(self.label[index], dtype=torch.long))\n",
        "\n",
        "  def __len__(self):\n",
        "    return len(self.data)\n"
      ],
      "execution_count": 4,
      "outputs": []
    },
    {
      "cell_type": "code",
      "metadata": {
        "id": "Rq_FGNZiYDS9",
        "colab_type": "code",
        "colab": {}
      },
      "source": [
        "batch_size = 128\n",
        "n_epoch = 200\n",
        "win_size = 2048\n",
        "stride = 512\n",
        "\"\"\" Get original data, in np.int16 dtype \"\"\"\n",
        "all_data, all_label = read_data(\n",
        "    DATA_PATH, window_size=win_size, stride=stride, cut=False, bit=True)"
      ],
      "execution_count": 5,
      "outputs": []
    },
    {
      "cell_type": "code",
      "metadata": {
        "id": "l5B4y6NmS4kV",
        "colab_type": "code",
        "colab": {}
      },
      "source": [
        "# DEMO (note: data is preprocessed.)\n",
        "fig, axs = plt.subplots(nrows=2, ncols=1, figsize=(14, 6))\n",
        "# plot 'A' and 'N' sample\n",
        "for i in range(2):\n",
        "  axs[i].plot(all_data[np.where(all_label==i)[0][0]][:2048])\n",
        "  axs[i].set_title('A' if i else 'N')\n",
        "\n",
        "plt.show()"
      ],
      "execution_count": 6,
      "outputs": [
        {
          "output_type": "display_data",
          "data": {
            "text/plain": "<Figure size 1008x432 with 2 Axes>",
            "image/svg+xml": "<?xml version=\"1.0\" encoding=\"utf-8\" standalone=\"no\"?>\n<!DOCTYPE svg PUBLIC \"-//W3C//DTD SVG 1.1//EN\"\n  \"http://www.w3.org/Graphics/SVG/1.1/DTD/svg11.dtd\">\n<!-- Created with matplotlib (https://matplotlib.org/) -->\n<svg height=\"372.35625pt\" version=\"1.1\" viewBox=\"0 0 823.704687 372.35625\" width=\"823.704687pt\" xmlns=\"http://www.w3.org/2000/svg\" xmlns:xlink=\"http://www.w3.org/1999/xlink\">\n <metadata>\n  <rdf:RDF xmlns:cc=\"http://creativecommons.org/ns#\" xmlns:dc=\"http://purl.org/dc/elements/1.1/\" xmlns:rdf=\"http://www.w3.org/1999/02/22-rdf-syntax-ns#\">\n   <cc:Work>\n    <dc:type rdf:resource=\"http://purl.org/dc/dcmitype/StillImage\"/>\n    <dc:date>2020-08-16T10:35:11.740976</dc:date>\n    <dc:format>image/svg+xml</dc:format>\n    <dc:creator>\n     <cc:Agent>\n      <dc:title>Matplotlib v3.3.0, https://matplotlib.org/</dc:title>\n     </cc:Agent>\n    </dc:creator>\n   </cc:Work>\n  </rdf:RDF>\n </metadata>\n <defs>\n  <style type=\"text/css\">*{stroke-linecap:butt;stroke-linejoin:round;}</style>\n </defs>\n <g id=\"figure_1\">\n  <g id=\"patch_1\">\n   <path d=\"M 0 372.35625 \nL 823.704687 372.35625 \nL 823.704687 0 \nL 0 0 \nz\n\" style=\"fill:none;\"/>\n  </g>\n  <g id=\"axes_1\">\n   <g id=\"patch_2\">\n    <path d=\"M 35.304688 170.57267 \nL 816.504688 170.57267 \nL 816.504688 22.318125 \nL 35.304688 22.318125 \nz\n\" style=\"fill:#ffffff;\"/>\n   </g>\n   <g id=\"matplotlib.axis_1\">\n    <g id=\"xtick_1\">\n     <g id=\"line2d_1\">\n      <defs>\n       <path d=\"M 0 0 \nL 0 3.5 \n\" id=\"mf13186171e\" style=\"stroke:#000000;stroke-width:0.8;\"/>\n      </defs>\n      <g>\n       <use style=\"stroke:#000000;stroke-width:0.8;\" x=\"70.813778\" xlink:href=\"#mf13186171e\" y=\"170.57267\"/>\n      </g>\n     </g>\n     <g id=\"text_1\">\n      <!-- 0 -->\n      <g transform=\"translate(67.632528 185.171108)scale(0.1 -0.1)\">\n       <defs>\n        <path d=\"M 31.78125 66.40625 \nQ 24.171875 66.40625 20.328125 58.90625 \nQ 16.5 51.421875 16.5 36.375 \nQ 16.5 21.390625 20.328125 13.890625 \nQ 24.171875 6.390625 31.78125 6.390625 \nQ 39.453125 6.390625 43.28125 13.890625 \nQ 47.125 21.390625 47.125 36.375 \nQ 47.125 51.421875 43.28125 58.90625 \nQ 39.453125 66.40625 31.78125 66.40625 \nz\nM 31.78125 74.21875 \nQ 44.046875 74.21875 50.515625 64.515625 \nQ 56.984375 54.828125 56.984375 36.375 \nQ 56.984375 17.96875 50.515625 8.265625 \nQ 44.046875 -1.421875 31.78125 -1.421875 \nQ 19.53125 -1.421875 13.0625 8.265625 \nQ 6.59375 17.96875 6.59375 36.375 \nQ 6.59375 54.828125 13.0625 64.515625 \nQ 19.53125 74.21875 31.78125 74.21875 \nz\n\" id=\"DejaVuSans-48\"/>\n       </defs>\n       <use xlink:href=\"#DejaVuSans-48\"/>\n      </g>\n     </g>\n    </g>\n    <g id=\"xtick_2\">\n     <g id=\"line2d_2\">\n      <g>\n       <use style=\"stroke:#000000;stroke-width:0.8;\" x=\"244.282713\" xlink:href=\"#mf13186171e\" y=\"170.57267\"/>\n      </g>\n     </g>\n     <g id=\"text_2\">\n      <!-- 500 -->\n      <g transform=\"translate(234.738963 185.171108)scale(0.1 -0.1)\">\n       <defs>\n        <path d=\"M 10.796875 72.90625 \nL 49.515625 72.90625 \nL 49.515625 64.59375 \nL 19.828125 64.59375 \nL 19.828125 46.734375 \nQ 21.96875 47.46875 24.109375 47.828125 \nQ 26.265625 48.1875 28.421875 48.1875 \nQ 40.625 48.1875 47.75 41.5 \nQ 54.890625 34.8125 54.890625 23.390625 \nQ 54.890625 11.625 47.5625 5.09375 \nQ 40.234375 -1.421875 26.90625 -1.421875 \nQ 22.3125 -1.421875 17.546875 -0.640625 \nQ 12.796875 0.140625 7.71875 1.703125 \nL 7.71875 11.625 \nQ 12.109375 9.234375 16.796875 8.0625 \nQ 21.484375 6.890625 26.703125 6.890625 \nQ 35.15625 6.890625 40.078125 11.328125 \nQ 45.015625 15.765625 45.015625 23.390625 \nQ 45.015625 31 40.078125 35.4375 \nQ 35.15625 39.890625 26.703125 39.890625 \nQ 22.75 39.890625 18.8125 39.015625 \nQ 14.890625 38.140625 10.796875 36.28125 \nz\n\" id=\"DejaVuSans-53\"/>\n       </defs>\n       <use xlink:href=\"#DejaVuSans-53\"/>\n       <use x=\"63.623047\" xlink:href=\"#DejaVuSans-48\"/>\n       <use x=\"127.246094\" xlink:href=\"#DejaVuSans-48\"/>\n      </g>\n     </g>\n    </g>\n    <g id=\"xtick_3\">\n     <g id=\"line2d_3\">\n      <g>\n       <use style=\"stroke:#000000;stroke-width:0.8;\" x=\"417.751648\" xlink:href=\"#mf13186171e\" y=\"170.57267\"/>\n      </g>\n     </g>\n     <g id=\"text_3\">\n      <!-- 1000 -->\n      <g transform=\"translate(405.026648 185.171108)scale(0.1 -0.1)\">\n       <defs>\n        <path d=\"M 12.40625 8.296875 \nL 28.515625 8.296875 \nL 28.515625 63.921875 \nL 10.984375 60.40625 \nL 10.984375 69.390625 \nL 28.421875 72.90625 \nL 38.28125 72.90625 \nL 38.28125 8.296875 \nL 54.390625 8.296875 \nL 54.390625 0 \nL 12.40625 0 \nz\n\" id=\"DejaVuSans-49\"/>\n       </defs>\n       <use xlink:href=\"#DejaVuSans-49\"/>\n       <use x=\"63.623047\" xlink:href=\"#DejaVuSans-48\"/>\n       <use x=\"127.246094\" xlink:href=\"#DejaVuSans-48\"/>\n       <use x=\"190.869141\" xlink:href=\"#DejaVuSans-48\"/>\n      </g>\n     </g>\n    </g>\n    <g id=\"xtick_4\">\n     <g id=\"line2d_4\">\n      <g>\n       <use style=\"stroke:#000000;stroke-width:0.8;\" x=\"591.220582\" xlink:href=\"#mf13186171e\" y=\"170.57267\"/>\n      </g>\n     </g>\n     <g id=\"text_4\">\n      <!-- 1500 -->\n      <g transform=\"translate(578.495582 185.171108)scale(0.1 -0.1)\">\n       <use xlink:href=\"#DejaVuSans-49\"/>\n       <use x=\"63.623047\" xlink:href=\"#DejaVuSans-53\"/>\n       <use x=\"127.246094\" xlink:href=\"#DejaVuSans-48\"/>\n       <use x=\"190.869141\" xlink:href=\"#DejaVuSans-48\"/>\n      </g>\n     </g>\n    </g>\n    <g id=\"xtick_5\">\n     <g id=\"line2d_5\">\n      <g>\n       <use style=\"stroke:#000000;stroke-width:0.8;\" x=\"764.689517\" xlink:href=\"#mf13186171e\" y=\"170.57267\"/>\n      </g>\n     </g>\n     <g id=\"text_5\">\n      <!-- 2000 -->\n      <g transform=\"translate(751.964517 185.171108)scale(0.1 -0.1)\">\n       <defs>\n        <path d=\"M 19.1875 8.296875 \nL 53.609375 8.296875 \nL 53.609375 0 \nL 7.328125 0 \nL 7.328125 8.296875 \nQ 12.9375 14.109375 22.625 23.890625 \nQ 32.328125 33.6875 34.8125 36.53125 \nQ 39.546875 41.84375 41.421875 45.53125 \nQ 43.3125 49.21875 43.3125 52.78125 \nQ 43.3125 58.59375 39.234375 62.25 \nQ 35.15625 65.921875 28.609375 65.921875 \nQ 23.96875 65.921875 18.8125 64.3125 \nQ 13.671875 62.703125 7.8125 59.421875 \nL 7.8125 69.390625 \nQ 13.765625 71.78125 18.9375 73 \nQ 24.125 74.21875 28.421875 74.21875 \nQ 39.75 74.21875 46.484375 68.546875 \nQ 53.21875 62.890625 53.21875 53.421875 \nQ 53.21875 48.921875 51.53125 44.890625 \nQ 49.859375 40.875 45.40625 35.40625 \nQ 44.1875 33.984375 37.640625 27.21875 \nQ 31.109375 20.453125 19.1875 8.296875 \nz\n\" id=\"DejaVuSans-50\"/>\n       </defs>\n       <use xlink:href=\"#DejaVuSans-50\"/>\n       <use x=\"63.623047\" xlink:href=\"#DejaVuSans-48\"/>\n       <use x=\"127.246094\" xlink:href=\"#DejaVuSans-48\"/>\n       <use x=\"190.869141\" xlink:href=\"#DejaVuSans-48\"/>\n      </g>\n     </g>\n    </g>\n   </g>\n   <g id=\"matplotlib.axis_2\">\n    <g id=\"ytick_1\">\n     <g id=\"line2d_6\">\n      <defs>\n       <path d=\"M 0 0 \nL -3.5 0 \n\" id=\"m6d7d8ab973\" style=\"stroke:#000000;stroke-width:0.8;\"/>\n      </defs>\n      <g>\n       <use style=\"stroke:#000000;stroke-width:0.8;\" x=\"35.304688\" xlink:href=\"#m6d7d8ab973\" y=\"168.326389\"/>\n      </g>\n     </g>\n     <g id=\"text_6\">\n      <!-- −15 -->\n      <g transform=\"translate(7.2 172.125608)scale(0.1 -0.1)\">\n       <defs>\n        <path d=\"M 10.59375 35.5 \nL 73.1875 35.5 \nL 73.1875 27.203125 \nL 10.59375 27.203125 \nz\n\" id=\"DejaVuSans-8722\"/>\n       </defs>\n       <use xlink:href=\"#DejaVuSans-8722\"/>\n       <use x=\"83.789062\" xlink:href=\"#DejaVuSans-49\"/>\n       <use x=\"147.412109\" xlink:href=\"#DejaVuSans-53\"/>\n      </g>\n     </g>\n    </g>\n    <g id=\"ytick_2\">\n     <g id=\"line2d_7\">\n      <g>\n       <use style=\"stroke:#000000;stroke-width:0.8;\" x=\"35.304688\" xlink:href=\"#m6d7d8ab973\" y=\"145.86358\"/>\n      </g>\n     </g>\n     <g id=\"text_7\">\n      <!-- −10 -->\n      <g transform=\"translate(7.2 149.662798)scale(0.1 -0.1)\">\n       <use xlink:href=\"#DejaVuSans-8722\"/>\n       <use x=\"83.789062\" xlink:href=\"#DejaVuSans-49\"/>\n       <use x=\"147.412109\" xlink:href=\"#DejaVuSans-48\"/>\n      </g>\n     </g>\n    </g>\n    <g id=\"ytick_3\">\n     <g id=\"line2d_8\">\n      <g>\n       <use style=\"stroke:#000000;stroke-width:0.8;\" x=\"35.304688\" xlink:href=\"#m6d7d8ab973\" y=\"123.40077\"/>\n      </g>\n     </g>\n     <g id=\"text_8\">\n      <!-- −5 -->\n      <g transform=\"translate(13.5625 127.199988)scale(0.1 -0.1)\">\n       <use xlink:href=\"#DejaVuSans-8722\"/>\n       <use x=\"83.789062\" xlink:href=\"#DejaVuSans-53\"/>\n      </g>\n     </g>\n    </g>\n    <g id=\"ytick_4\">\n     <g id=\"line2d_9\">\n      <g>\n       <use style=\"stroke:#000000;stroke-width:0.8;\" x=\"35.304688\" xlink:href=\"#m6d7d8ab973\" y=\"100.93796\"/>\n      </g>\n     </g>\n     <g id=\"text_9\">\n      <!-- 0 -->\n      <g transform=\"translate(21.942188 104.737178)scale(0.1 -0.1)\">\n       <use xlink:href=\"#DejaVuSans-48\"/>\n      </g>\n     </g>\n    </g>\n    <g id=\"ytick_5\">\n     <g id=\"line2d_10\">\n      <g>\n       <use style=\"stroke:#000000;stroke-width:0.8;\" x=\"35.304688\" xlink:href=\"#m6d7d8ab973\" y=\"78.47515\"/>\n      </g>\n     </g>\n     <g id=\"text_10\">\n      <!-- 5 -->\n      <g transform=\"translate(21.942188 82.274369)scale(0.1 -0.1)\">\n       <use xlink:href=\"#DejaVuSans-53\"/>\n      </g>\n     </g>\n    </g>\n    <g id=\"ytick_6\">\n     <g id=\"line2d_11\">\n      <g>\n       <use style=\"stroke:#000000;stroke-width:0.8;\" x=\"35.304688\" xlink:href=\"#m6d7d8ab973\" y=\"56.01234\"/>\n      </g>\n     </g>\n     <g id=\"text_11\">\n      <!-- 10 -->\n      <g transform=\"translate(15.579688 59.811559)scale(0.1 -0.1)\">\n       <use xlink:href=\"#DejaVuSans-49\"/>\n       <use x=\"63.623047\" xlink:href=\"#DejaVuSans-48\"/>\n      </g>\n     </g>\n    </g>\n    <g id=\"ytick_7\">\n     <g id=\"line2d_12\">\n      <g>\n       <use style=\"stroke:#000000;stroke-width:0.8;\" x=\"35.304688\" xlink:href=\"#m6d7d8ab973\" y=\"33.54953\"/>\n      </g>\n     </g>\n     <g id=\"text_12\">\n      <!-- 15 -->\n      <g transform=\"translate(15.579688 37.348749)scale(0.1 -0.1)\">\n       <use xlink:href=\"#DejaVuSans-49\"/>\n       <use x=\"63.623047\" xlink:href=\"#DejaVuSans-53\"/>\n      </g>\n     </g>\n    </g>\n   </g>\n   <g id=\"line2d_13\">\n    <path clip-path=\"url(#pc708ac2559)\" d=\"M 70.813778 109.923084 \nL 71.160716 114.415646 \nL 71.507654 114.415646 \nL 71.854592 118.908208 \nL 72.548468 118.908208 \nL 72.895406 123.40077 \nL 75.670909 123.40077 \nL 76.017846 118.908208 \nL 88.160672 118.908208 \nL 88.50761 114.415646 \nL 88.854548 114.415646 \nL 89.201485 118.908208 \nL 91.630051 118.908208 \nL 91.976988 123.40077 \nL 96.140243 123.40077 \nL 96.487181 118.908208 \nL 100.650435 118.908208 \nL 100.997373 114.415646 \nL 111.405509 114.415646 \nL 112.793261 96.445398 \nL 114.181012 60.504902 \nL 114.52795 56.01234 \nL 115.221826 56.01234 \nL 115.568764 60.504902 \nL 116.956515 96.445398 \nL 117.650391 105.430522 \nL 117.997329 114.415646 \nL 118.344266 114.415646 \nL 118.691204 118.908208 \nL 120.772832 118.908208 \nL 121.119769 123.40077 \nL 123.548335 123.40077 \nL 123.895272 118.908208 \nL 126.323837 118.908208 \nL 126.670775 114.415646 \nL 129.446278 114.415646 \nL 129.793216 109.923084 \nL 131.874843 109.923084 \nL 132.221781 105.430522 \nL 133.262595 105.430522 \nL 133.609533 100.93796 \nL 157.895184 100.93796 \nL 158.242121 96.445398 \nL 168.997195 96.445398 \nL 169.344133 91.952836 \nL 175.242077 91.952836 \nL 175.589015 87.460274 \nL 181.140021 87.460274 \nL 181.486959 91.952836 \nL 184.609399 91.952836 \nL 184.956337 87.460274 \nL 185.997151 87.460274 \nL 187.037965 73.982588 \nL 187.384902 64.997464 \nL 187.73184 60.504902 \nL 188.078778 51.519778 \nL 188.425716 47.027216 \nL 188.772654 38.042092 \nL 189.119592 33.54953 \nL 189.813468 33.54953 \nL 190.160405 38.042092 \nL 191.548157 73.982588 \nL 191.895095 78.47515 \nL 192.242033 87.460274 \nL 192.935908 96.445398 \nL 199.18079 96.445398 \nL 199.527728 91.952836 \nL 205.425672 91.952836 \nL 205.77261 87.460274 \nL 206.466485 87.460274 \nL 206.813423 91.952836 \nL 209.241988 91.952836 \nL 209.588926 96.445398 \nL 212.711367 96.445398 \nL 213.058305 100.93796 \nL 216.180746 100.93796 \nL 216.527683 105.430522 \nL 216.874621 105.430522 \nL 217.221559 109.923084 \nL 217.568497 109.923084 \nL 217.915435 114.415646 \nL 218.262373 114.415646 \nL 218.609311 118.908208 \nL 220.344 118.908208 \nL 220.690938 123.40077 \nL 225.548068 123.40077 \nL 225.895006 127.893332 \nL 226.93582 127.893332 \nL 227.282757 132.385894 \nL 228.670509 132.385894 \nL 229.017447 136.878456 \nL 229.711322 136.878456 \nL 230.05826 141.371018 \nL 230.752136 141.371018 \nL 231.099074 145.86358 \nL 231.446012 145.86358 \nL 231.79295 150.356142 \nL 232.139888 150.356142 \nL 232.486825 154.848704 \nL 232.833763 154.848704 \nL 233.180701 159.341265 \nL 234.221515 159.341265 \nL 234.568453 163.833827 \nL 235.262328 163.833827 \nL 235.609266 159.341265 \nL 235.956204 159.341265 \nL 236.303142 154.848704 \nL 237.343956 154.848704 \nL 237.690893 150.356142 \nL 238.384769 150.356142 \nL 238.731707 145.86358 \nL 239.772521 145.86358 \nL 240.119459 141.371018 \nL 240.813334 141.371018 \nL 241.160272 136.878456 \nL 244.282713 136.878456 \nL 244.629651 132.385894 \nL 245.323527 132.385894 \nL 245.670464 127.893332 \nL 246.36434 127.893332 \nL 246.711278 123.40077 \nL 248.09903 123.40077 \nL 248.445967 118.908208 \nL 250.874533 118.908208 \nL 251.22147 114.415646 \nL 251.915346 114.415646 \nL 252.262284 109.923084 \nL 253.303098 109.923084 \nL 253.650035 105.430522 \nL 257.119414 105.430522 \nL 257.466352 100.93796 \nL 257.81329 100.93796 \nL 258.160228 105.430522 \nL 261.629606 105.430522 \nL 261.976544 100.93796 \nL 262.323482 100.93796 \nL 262.67042 96.445398 \nL 263.711234 69.490026 \nL 264.058172 56.01234 \nL 265.098985 42.534654 \nL 265.792861 51.519778 \nL 266.139799 60.504902 \nL 267.180612 100.93796 \nL 267.874488 109.923084 \nL 268.568364 109.923084 \nL 268.915302 114.415646 \nL 269.26224 114.415646 \nL 269.609177 118.908208 \nL 271.343867 118.908208 \nL 271.690805 114.415646 \nL 273.772432 114.415646 \nL 274.11937 109.923084 \nL 278.282624 109.923084 \nL 278.629562 105.430522 \nL 280.711189 105.430522 \nL 281.058127 100.93796 \nL 283.486692 100.93796 \nL 283.83363 96.445398 \nL 285.221382 96.445398 \nL 285.568319 91.952836 \nL 288.343822 91.952836 \nL 288.69076 87.460274 \nL 290.772387 87.460274 \nL 291.119325 82.967712 \nL 292.507077 82.967712 \nL 292.854015 87.460274 \nL 293.894828 87.460274 \nL 294.241766 91.952836 \nL 295.28258 91.952836 \nL 295.629518 96.445398 \nL 318.180479 96.445398 \nL 318.527417 100.93796 \nL 318.874355 100.93796 \nL 319.221293 96.445398 \nL 321.649858 96.445398 \nL 321.996796 91.952836 \nL 326.16005 91.952836 \nL 326.506988 96.445398 \nL 327.894739 96.445398 \nL 328.241677 100.93796 \nL 330.670242 100.93796 \nL 331.01718 96.445398 \nL 336.915124 96.445398 \nL 337.262062 100.93796 \nL 343.506944 100.93796 \nL 343.853881 96.445398 \nL 344.200819 96.445398 \nL 344.547757 91.952836 \nL 344.894695 82.967712 \nL 345.241633 78.47515 \nL 345.588571 69.490026 \nL 345.935509 56.01234 \nL 346.976322 29.056968 \nL 347.670198 29.056968 \nL 348.017136 38.042092 \nL 348.711012 64.997464 \nL 349.404887 96.445398 \nL 350.098763 105.430522 \nL 352.874266 105.430522 \nL 353.221204 109.923084 \nL 354.262018 109.923084 \nL 354.608955 105.430522 \nL 362.241589 105.430522 \nL 362.588526 100.93796 \nL 367.445657 100.93796 \nL 367.792594 96.445398 \nL 372.996662 96.445398 \nL 373.3436 100.93796 \nL 379.241544 100.93796 \nL 379.588482 105.430522 \nL 379.93542 105.430522 \nL 380.282358 100.93796 \nL 426.425094 100.93796 \nL 426.772032 105.430522 \nL 427.11897 105.430522 \nL 427.465908 100.93796 \nL 428.506722 100.93796 \nL 429.200597 91.952836 \nL 430.241411 64.997464 \nL 430.588349 51.519778 \nL 431.282224 33.54953 \nL 431.9761 33.54953 \nL 432.323038 38.042092 \nL 433.016914 64.997464 \nL 433.71079 96.445398 \nL 434.404665 105.430522 \nL 434.751603 105.430522 \nL 435.098541 109.923084 \nL 443.771988 109.923084 \nL 444.118926 105.430522 \nL 449.669932 105.430522 \nL 450.016869 100.93796 \nL 453.13931 100.93796 \nL 453.486248 96.445398 \nL 456.608689 96.445398 \nL 456.955627 100.93796 \nL 465.629074 100.93796 \nL 465.976011 105.430522 \nL 466.322949 100.93796 \nL 468.751514 100.93796 \nL 469.098452 105.430522 \nL 471.527017 105.430522 \nL 471.873955 100.93796 \nL 508.649369 100.93796 \nL 509.343245 91.952836 \nL 511.077934 47.027216 \nL 511.77181 38.042092 \nL 512.118748 38.042092 \nL 512.465686 42.534654 \nL 512.812624 51.519778 \nL 513.159562 64.997464 \nL 513.853437 96.445398 \nL 514.547313 105.430522 \nL 518.016692 105.430522 \nL 518.36363 109.923084 \nL 522.179946 109.923084 \nL 522.526884 105.430522 \nL 529.118704 105.430522 \nL 529.465641 100.93796 \nL 532.93502 100.93796 \nL 533.281958 96.445398 \nL 535.016647 96.445398 \nL 535.363585 100.93796 \nL 581.159384 100.93796 \nL 581.506322 96.445398 \nL 584.281825 96.445398 \nL 584.628763 100.93796 \nL 591.56752 100.93796 \nL 591.914458 96.445398 \nL 592.261396 87.460274 \nL 592.608334 82.967712 \nL 592.955272 69.490026 \nL 593.302209 60.504902 \nL 593.649147 47.027216 \nL 594.343023 29.056968 \nL 595.036899 29.056968 \nL 595.383837 38.042092 \nL 595.730774 51.519778 \nL 596.42465 82.967712 \nL 596.771588 96.445398 \nL 597.465464 105.430522 \nL 597.812402 105.430522 \nL 598.15934 109.923084 \nL 607.179724 109.923084 \nL 607.526662 105.430522 \nL 612.036854 105.430522 \nL 612.383792 100.93796 \nL 617.58786 100.93796 \nL 617.934798 96.445398 \nL 620.363363 96.445398 \nL 620.710301 100.93796 \nL 666.159162 100.93796 \nL 666.5061 96.445398 \nL 668.240789 96.445398 \nL 668.587727 100.93796 \nL 675.873422 100.93796 \nL 676.914236 87.460274 \nL 677.955049 60.504902 \nL 678.301987 47.027216 \nL 678.648925 38.042092 \nL 679.342801 29.056968 \nL 679.689739 29.056968 \nL 680.036677 38.042092 \nL 680.383615 51.519778 \nL 681.07749 82.967712 \nL 681.424428 96.445398 \nL 682.118304 105.430522 \nL 682.465242 105.430522 \nL 682.81218 109.923084 \nL 683.852993 109.923084 \nL 684.199931 114.415646 \nL 684.546869 114.415646 \nL 684.893807 109.923084 \nL 693.567254 109.923084 \nL 693.914191 105.430522 \nL 695.301943 105.430522 \nL 695.648881 100.93796 \nL 700.506011 100.93796 \nL 700.852949 96.445398 \nL 704.322328 96.445398 \nL 704.669265 100.93796 \nL 714.730464 100.93796 \nL 715.077401 105.430522 \nL 722.016159 105.430522 \nL 722.363097 100.93796 \nL 749.42425 100.93796 \nL 749.771188 96.445398 \nL 752.893629 96.445398 \nL 753.240567 100.93796 \nL 759.485449 100.93796 \nL 759.832387 96.445398 \nL 760.179324 96.445398 \nL 760.8732 87.460274 \nL 761.220138 78.47515 \nL 761.567076 64.997464 \nL 762.60789 38.042092 \nL 762.954827 33.54953 \nL 763.301765 33.54953 \nL 763.648703 38.042092 \nL 764.342579 56.01234 \nL 765.036455 87.460274 \nL 765.383392 100.93796 \nL 765.73033 105.430522 \nL 767.811958 105.430522 \nL 768.158895 109.923084 \nL 769.893585 109.923084 \nL 770.240523 105.430522 \nL 779.954783 105.430522 \nL 780.301721 100.93796 \nL 780.995597 100.93796 \nL 780.995597 100.93796 \n\" style=\"fill:none;stroke:#1f77b4;stroke-linecap:square;stroke-width:1.5;\"/>\n   </g>\n   <g id=\"patch_3\">\n    <path d=\"M 35.304688 170.57267 \nL 35.304688 22.318125 \n\" style=\"fill:none;stroke:#000000;stroke-linecap:square;stroke-linejoin:miter;stroke-width:0.8;\"/>\n   </g>\n   <g id=\"patch_4\">\n    <path d=\"M 816.504688 170.57267 \nL 816.504688 22.318125 \n\" style=\"fill:none;stroke:#000000;stroke-linecap:square;stroke-linejoin:miter;stroke-width:0.8;\"/>\n   </g>\n   <g id=\"patch_5\">\n    <path d=\"M 35.304688 170.57267 \nL 816.504688 170.57267 \n\" style=\"fill:none;stroke:#000000;stroke-linecap:square;stroke-linejoin:miter;stroke-width:0.8;\"/>\n   </g>\n   <g id=\"patch_6\">\n    <path d=\"M 35.304688 22.318125 \nL 816.504688 22.318125 \n\" style=\"fill:none;stroke:#000000;stroke-linecap:square;stroke-linejoin:miter;stroke-width:0.8;\"/>\n   </g>\n   <g id=\"text_13\">\n    <!-- N -->\n    <g transform=\"translate(421.415938 16.318125)scale(0.12 -0.12)\">\n     <defs>\n      <path d=\"M 9.8125 72.90625 \nL 23.09375 72.90625 \nL 55.421875 11.921875 \nL 55.421875 72.90625 \nL 64.984375 72.90625 \nL 64.984375 0 \nL 51.703125 0 \nL 19.390625 60.984375 \nL 19.390625 0 \nL 9.8125 0 \nz\n\" id=\"DejaVuSans-78\"/>\n     </defs>\n     <use xlink:href=\"#DejaVuSans-78\"/>\n    </g>\n   </g>\n  </g>\n  <g id=\"axes_2\">\n   <g id=\"patch_7\">\n    <path d=\"M 35.304688 348.478125 \nL 816.504688 348.478125 \nL 816.504688 200.22358 \nL 35.304688 200.22358 \nz\n\" style=\"fill:#ffffff;\"/>\n   </g>\n   <g id=\"matplotlib.axis_3\">\n    <g id=\"xtick_6\">\n     <g id=\"line2d_14\">\n      <g>\n       <use style=\"stroke:#000000;stroke-width:0.8;\" x=\"70.813778\" xlink:href=\"#mf13186171e\" y=\"348.478125\"/>\n      </g>\n     </g>\n     <g id=\"text_14\">\n      <!-- 0 -->\n      <g transform=\"translate(67.632528 363.076562)scale(0.1 -0.1)\">\n       <use xlink:href=\"#DejaVuSans-48\"/>\n      </g>\n     </g>\n    </g>\n    <g id=\"xtick_7\">\n     <g id=\"line2d_15\">\n      <g>\n       <use style=\"stroke:#000000;stroke-width:0.8;\" x=\"244.282713\" xlink:href=\"#mf13186171e\" y=\"348.478125\"/>\n      </g>\n     </g>\n     <g id=\"text_15\">\n      <!-- 500 -->\n      <g transform=\"translate(234.738963 363.076562)scale(0.1 -0.1)\">\n       <use xlink:href=\"#DejaVuSans-53\"/>\n       <use x=\"63.623047\" xlink:href=\"#DejaVuSans-48\"/>\n       <use x=\"127.246094\" xlink:href=\"#DejaVuSans-48\"/>\n      </g>\n     </g>\n    </g>\n    <g id=\"xtick_8\">\n     <g id=\"line2d_16\">\n      <g>\n       <use style=\"stroke:#000000;stroke-width:0.8;\" x=\"417.751648\" xlink:href=\"#mf13186171e\" y=\"348.478125\"/>\n      </g>\n     </g>\n     <g id=\"text_16\">\n      <!-- 1000 -->\n      <g transform=\"translate(405.026648 363.076562)scale(0.1 -0.1)\">\n       <use xlink:href=\"#DejaVuSans-49\"/>\n       <use x=\"63.623047\" xlink:href=\"#DejaVuSans-48\"/>\n       <use x=\"127.246094\" xlink:href=\"#DejaVuSans-48\"/>\n       <use x=\"190.869141\" xlink:href=\"#DejaVuSans-48\"/>\n      </g>\n     </g>\n    </g>\n    <g id=\"xtick_9\">\n     <g id=\"line2d_17\">\n      <g>\n       <use style=\"stroke:#000000;stroke-width:0.8;\" x=\"591.220582\" xlink:href=\"#mf13186171e\" y=\"348.478125\"/>\n      </g>\n     </g>\n     <g id=\"text_17\">\n      <!-- 1500 -->\n      <g transform=\"translate(578.495582 363.076562)scale(0.1 -0.1)\">\n       <use xlink:href=\"#DejaVuSans-49\"/>\n       <use x=\"63.623047\" xlink:href=\"#DejaVuSans-53\"/>\n       <use x=\"127.246094\" xlink:href=\"#DejaVuSans-48\"/>\n       <use x=\"190.869141\" xlink:href=\"#DejaVuSans-48\"/>\n      </g>\n     </g>\n    </g>\n    <g id=\"xtick_10\">\n     <g id=\"line2d_18\">\n      <g>\n       <use style=\"stroke:#000000;stroke-width:0.8;\" x=\"764.689517\" xlink:href=\"#mf13186171e\" y=\"348.478125\"/>\n      </g>\n     </g>\n     <g id=\"text_18\">\n      <!-- 2000 -->\n      <g transform=\"translate(751.964517 363.076562)scale(0.1 -0.1)\">\n       <use xlink:href=\"#DejaVuSans-50\"/>\n       <use x=\"63.623047\" xlink:href=\"#DejaVuSans-48\"/>\n       <use x=\"127.246094\" xlink:href=\"#DejaVuSans-48\"/>\n       <use x=\"190.869141\" xlink:href=\"#DejaVuSans-48\"/>\n      </g>\n     </g>\n    </g>\n   </g>\n   <g id=\"matplotlib.axis_4\">\n    <g id=\"ytick_8\">\n     <g id=\"line2d_19\">\n      <g>\n       <use style=\"stroke:#000000;stroke-width:0.8;\" x=\"35.304688\" xlink:href=\"#m6d7d8ab973\" y=\"321.522753\"/>\n      </g>\n     </g>\n     <g id=\"text_19\">\n      <!-- 0 -->\n      <g transform=\"translate(21.942188 325.321972)scale(0.1 -0.1)\">\n       <use xlink:href=\"#DejaVuSans-48\"/>\n      </g>\n     </g>\n    </g>\n    <g id=\"ytick_9\">\n     <g id=\"line2d_20\">\n      <g>\n       <use style=\"stroke:#000000;stroke-width:0.8;\" x=\"35.304688\" xlink:href=\"#m6d7d8ab973\" y=\"287.828538\"/>\n      </g>\n     </g>\n     <g id=\"text_20\">\n      <!-- 5 -->\n      <g transform=\"translate(21.942188 291.627757)scale(0.1 -0.1)\">\n       <use xlink:href=\"#DejaVuSans-53\"/>\n      </g>\n     </g>\n    </g>\n    <g id=\"ytick_10\">\n     <g id=\"line2d_21\">\n      <g>\n       <use style=\"stroke:#000000;stroke-width:0.8;\" x=\"35.304688\" xlink:href=\"#m6d7d8ab973\" y=\"254.134323\"/>\n      </g>\n     </g>\n     <g id=\"text_21\">\n      <!-- 10 -->\n      <g transform=\"translate(15.579688 257.933542)scale(0.1 -0.1)\">\n       <use xlink:href=\"#DejaVuSans-49\"/>\n       <use x=\"63.623047\" xlink:href=\"#DejaVuSans-48\"/>\n      </g>\n     </g>\n    </g>\n    <g id=\"ytick_11\">\n     <g id=\"line2d_22\">\n      <g>\n       <use style=\"stroke:#000000;stroke-width:0.8;\" x=\"35.304688\" xlink:href=\"#m6d7d8ab973\" y=\"220.440108\"/>\n      </g>\n     </g>\n     <g id=\"text_22\">\n      <!-- 15 -->\n      <g transform=\"translate(15.579688 224.239327)scale(0.1 -0.1)\">\n       <use xlink:href=\"#DejaVuSans-49\"/>\n       <use x=\"63.623047\" xlink:href=\"#DejaVuSans-53\"/>\n      </g>\n     </g>\n    </g>\n   </g>\n   <g id=\"line2d_23\">\n    <path clip-path=\"url(#pf9324fb39d)\" d=\"M 70.813778 281.089695 \nL 71.160716 267.612009 \nL 71.507654 260.873166 \nL 71.854592 247.39548 \nL 72.548468 233.917794 \nL 72.895406 233.917794 \nL 73.242343 240.656637 \nL 75.323971 240.656637 \nL 75.670909 247.39548 \nL 86.77292 247.39548 \nL 87.119858 240.656637 \nL 89.201485 240.656637 \nL 89.548423 233.917794 \nL 92.323926 233.917794 \nL 92.670864 240.656637 \nL 94.058616 240.656637 \nL 94.405554 247.39548 \nL 95.099429 247.39548 \nL 95.446367 254.134323 \nL 95.793305 254.134323 \nL 96.140243 260.873166 \nL 96.834119 260.873166 \nL 97.181056 267.612009 \nL 97.527994 267.612009 \nL 97.874932 274.350852 \nL 98.915746 274.350852 \nL 99.262684 281.089695 \nL 101.344311 281.089695 \nL 101.691249 287.828538 \nL 103.425938 287.828538 \nL 103.772876 294.567381 \nL 111.405509 294.567381 \nL 111.752447 301.306224 \nL 116.609577 301.306224 \nL 116.956515 308.045067 \nL 119.732018 308.045067 \nL 120.078956 314.78391 \nL 123.201397 314.78391 \nL 123.548335 321.522753 \nL 137.772787 321.522753 \nL 138.119725 328.261596 \nL 146.099296 328.261596 \nL 146.446234 321.522753 \nL 146.793172 321.522753 \nL 147.14011 314.78391 \nL 148.180923 274.350852 \nL 148.874799 260.873166 \nL 149.568675 260.873166 \nL 150.609488 281.089695 \nL 150.956426 294.567381 \nL 151.303364 301.306224 \nL 151.650302 314.78391 \nL 151.99724 321.522753 \nL 153.384991 321.522753 \nL 153.731929 328.261596 \nL 163.099252 328.261596 \nL 163.446189 321.522753 \nL 171.078823 321.522753 \nL 171.42576 314.78391 \nL 173.507388 314.78391 \nL 173.854326 308.045067 \nL 178.01758 308.045067 \nL 178.364518 314.78391 \nL 179.405331 314.78391 \nL 179.752269 321.522753 \nL 181.833897 321.522753 \nL 182.180834 328.261596 \nL 183.568586 328.261596 \nL 183.915524 335.000439 \nL 185.650213 335.000439 \nL 185.997151 341.739282 \nL 191.548157 341.739282 \nL 191.895095 335.000439 \nL 203.690982 335.000439 \nL 204.03792 341.739282 \nL 211.670553 341.739282 \nL 212.017491 335.000439 \nL 233.180701 335.000439 \nL 233.527639 328.261596 \nL 241.50721 328.261596 \nL 241.854148 321.522753 \nL 242.894962 321.522753 \nL 243.241899 328.261596 \nL 245.323527 328.261596 \nL 245.670464 321.522753 \nL 246.017402 321.522753 \nL 246.711278 294.567381 \nL 247.058216 274.350852 \nL 248.09903 233.917794 \nL 248.445967 227.178951 \nL 248.792905 233.917794 \nL 249.139843 247.39548 \nL 249.833719 287.828538 \nL 250.527595 314.78391 \nL 250.874533 321.522753 \nL 251.915346 321.522753 \nL 252.262284 328.261596 \nL 257.119414 328.261596 \nL 257.466352 321.522753 \nL 271.690805 321.522753 \nL 272.037743 314.78391 \nL 273.078556 314.78391 \nL 273.425494 308.045067 \nL 278.282624 308.045067 \nL 278.629562 314.78391 \nL 280.711189 314.78391 \nL 281.058127 321.522753 \nL 283.139754 321.522753 \nL 283.486692 328.261596 \nL 333.445745 328.261596 \nL 333.792683 321.522753 \nL 341.772254 321.522753 \nL 343.160006 267.612009 \nL 343.853881 227.178951 \nL 344.200819 220.440108 \nL 344.894695 220.440108 \nL 345.241633 240.656637 \nL 345.935509 287.828538 \nL 346.282447 308.045067 \nL 346.976322 321.522753 \nL 349.404887 321.522753 \nL 349.751825 328.261596 \nL 355.302831 328.261596 \nL 355.649769 321.522753 \nL 366.751781 321.522753 \nL 367.098719 314.78391 \nL 369.874222 314.78391 \nL 370.221159 308.045067 \nL 373.690538 308.045067 \nL 374.037476 314.78391 \nL 375.425228 314.78391 \nL 375.772165 321.522753 \nL 384.445612 321.522753 \nL 384.79255 328.261596 \nL 399.363941 328.261596 \nL 399.710878 321.522753 \nL 403.180257 321.522753 \nL 403.527195 328.261596 \nL 416.016958 328.261596 \nL 416.363896 321.522753 \nL 420.874088 321.522753 \nL 421.221026 328.261596 \nL 432.669976 328.261596 \nL 433.016914 321.522753 \nL 433.363852 321.522753 \nL 433.71079 328.261596 \nL 435.792417 328.261596 \nL 436.139355 321.522753 \nL 453.833186 321.522753 \nL 454.180124 308.045067 \nL 454.527062 301.306224 \nL 454.874 287.828538 \nL 455.914813 227.178951 \nL 456.261751 213.701265 \nL 456.608689 206.962423 \nL 456.955627 213.701265 \nL 457.302565 227.178951 \nL 457.649503 247.39548 \nL 458.343378 294.567381 \nL 458.690316 308.045067 \nL 459.037254 314.78391 \nL 460.078068 314.78391 \nL 460.425005 321.522753 \nL 461.118881 321.522753 \nL 461.465819 328.261596 \nL 473.608645 328.261596 \nL 473.955582 321.522753 \nL 478.465775 321.522753 \nL 478.812713 314.78391 \nL 480.547402 314.78391 \nL 480.89434 308.045067 \nL 487.139221 308.045067 \nL 487.486159 314.78391 \nL 488.873911 314.78391 \nL 489.220849 321.522753 \nL 495.812668 321.522753 \nL 496.159606 328.261596 \nL 499.282047 328.261596 \nL 499.628985 335.000439 \nL 505.873866 335.000439 \nL 506.220804 328.261596 \nL 534.322772 328.261596 \nL 534.669709 321.522753 \nL 539.873778 321.522753 \nL 540.220715 328.261596 \nL 544.38397 328.261596 \nL 544.730908 321.522753 \nL 578.036943 321.522753 \nL 578.383881 308.045067 \nL 578.730819 301.306224 \nL 579.077757 281.089695 \nL 579.424695 267.612009 \nL 580.11857 227.178951 \nL 580.465508 213.701265 \nL 580.812446 206.962423 \nL 581.159384 213.701265 \nL 581.506322 227.178951 \nL 581.85326 247.39548 \nL 582.547135 294.567381 \nL 582.894073 308.045067 \nL 583.241011 314.78391 \nL 584.281825 314.78391 \nL 584.628763 321.522753 \nL 585.669576 321.522753 \nL 586.016514 328.261596 \nL 589.138955 328.261596 \nL 589.485893 321.522753 \nL 603.01647 321.522753 \nL 603.363408 314.78391 \nL 604.057283 314.78391 \nL 604.404221 308.045067 \nL 605.791973 308.045067 \nL 606.138911 301.306224 \nL 610.302165 301.306224 \nL 610.649103 308.045067 \nL 611.689916 308.045067 \nL 612.036854 314.78391 \nL 612.73073 314.78391 \nL 613.077668 321.522753 \nL 615.506233 321.522753 \nL 615.853171 328.261596 \nL 651.240834 328.261596 \nL 651.587771 335.000439 \nL 653.669399 335.000439 \nL 654.016336 328.261596 \nL 660.261218 328.261596 \nL 660.608156 321.522753 \nL 667.893851 321.522753 \nL 668.240789 328.261596 \nL 677.608112 328.261596 \nL 677.955049 321.522753 \nL 684.893807 321.522753 \nL 685.93462 301.306224 \nL 686.281558 281.089695 \nL 686.628496 267.612009 \nL 687.322372 227.178951 \nL 687.66931 213.701265 \nL 688.016248 206.962423 \nL 688.363186 206.962423 \nL 688.710123 220.440108 \nL 689.057061 240.656637 \nL 689.750937 294.567381 \nL 690.097875 308.045067 \nL 690.791751 321.522753 \nL 692.179502 321.522753 \nL 692.52644 328.261596 \nL 697.38357 328.261596 \nL 697.730508 321.522753 \nL 710.220271 321.522753 \nL 710.567209 314.78391 \nL 711.954961 314.78391 \nL 712.301898 308.045067 \nL 714.036588 308.045067 \nL 714.383526 301.306224 \nL 718.199842 301.306224 \nL 718.54678 308.045067 \nL 719.587594 308.045067 \nL 719.934532 314.78391 \nL 720.281469 314.78391 \nL 720.628407 321.522753 \nL 723.056972 321.522753 \nL 723.40391 328.261596 \nL 728.954916 328.261596 \nL 729.301854 335.000439 \nL 729.99573 335.000439 \nL 730.342668 328.261596 \nL 748.730375 328.261596 \nL 749.077313 321.522753 \nL 750.812002 321.522753 \nL 751.15894 328.261596 \nL 778.567032 328.261596 \nL 778.913969 321.522753 \nL 780.995597 321.522753 \nL 780.995597 321.522753 \n\" style=\"fill:none;stroke:#1f77b4;stroke-linecap:square;stroke-width:1.5;\"/>\n   </g>\n   <g id=\"patch_8\">\n    <path d=\"M 35.304688 348.478125 \nL 35.304688 200.22358 \n\" style=\"fill:none;stroke:#000000;stroke-linecap:square;stroke-linejoin:miter;stroke-width:0.8;\"/>\n   </g>\n   <g id=\"patch_9\">\n    <path d=\"M 816.504688 348.478125 \nL 816.504688 200.22358 \n\" style=\"fill:none;stroke:#000000;stroke-linecap:square;stroke-linejoin:miter;stroke-width:0.8;\"/>\n   </g>\n   <g id=\"patch_10\">\n    <path d=\"M 35.304688 348.478125 \nL 816.504688 348.478125 \n\" style=\"fill:none;stroke:#000000;stroke-linecap:square;stroke-linejoin:miter;stroke-width:0.8;\"/>\n   </g>\n   <g id=\"patch_11\">\n    <path d=\"M 35.304688 200.22358 \nL 816.504688 200.22358 \n\" style=\"fill:none;stroke:#000000;stroke-linecap:square;stroke-linejoin:miter;stroke-width:0.8;\"/>\n   </g>\n   <g id=\"text_23\">\n    <!-- A -->\n    <g transform=\"translate(421.800313 194.22358)scale(0.12 -0.12)\">\n     <defs>\n      <path d=\"M 34.1875 63.1875 \nL 20.796875 26.90625 \nL 47.609375 26.90625 \nz\nM 28.609375 72.90625 \nL 39.796875 72.90625 \nL 67.578125 0 \nL 57.328125 0 \nL 50.6875 18.703125 \nL 17.828125 18.703125 \nL 11.1875 0 \nL 0.78125 0 \nz\n\" id=\"DejaVuSans-65\"/>\n     </defs>\n     <use xlink:href=\"#DejaVuSans-65\"/>\n    </g>\n   </g>\n  </g>\n </g>\n <defs>\n  <clipPath id=\"pc708ac2559\">\n   <rect height=\"148.254545\" width=\"781.2\" x=\"35.304688\" y=\"22.318125\"/>\n  </clipPath>\n  <clipPath id=\"pf9324fb39d\">\n   <rect height=\"148.254545\" width=\"781.2\" x=\"35.304688\" y=\"200.22358\"/>\n  </clipPath>\n </defs>\n</svg>\n",
            "image/png": "[encoded data removed]"
          },
          "metadata": {}
        }
      ]
    },
    {
      "cell_type": "markdown",
      "metadata": {
        "id": "D7BnZyVZXiEd",
        "colab_type": "text"
      },
      "source": [
        "## 1. Data Augmentation\n",
        "\n",
        "Implemente WaveNet to augment data. Reference: [Wavenet-PyTorch](https://github.com/Dankrushen/Wavenet-PyTorch).\n"
      ]
    },
    {
      "cell_type": "code",
      "metadata": {
        "id": "Ut4FT5XLDvv7",
        "colab_type": "code",
        "colab": {},
        "tags": []
      },
      "source": [
        "A_data = all_data[np.where(all_label==1)]\n",
        "N_data = all_data[np.where(all_label==0)]\n",
        "print(A_data.shape, N_data.shape)\n",
        "# The data is unbalanced: A << N (758 v.s. 5076)"
      ],
      "execution_count": 7,
      "outputs": [
        {
          "output_type": "stream",
          "name": "stdout",
          "text": "(758,) (5076,)\n"
        }
      ]
    },
    {
      "cell_type": "code",
      "metadata": {
        "id": "qnjm9vpstsDI",
        "colab_type": "code",
        "colab": {}
      },
      "source": [
        "x_len = 2**11\n",
        "num_channels=1\n",
        "num_classes = 256 # digitize parameter\n",
        "num_layers = 9\n",
        "num_blocks = 2\n",
        "num_hidden = 32 # larger: trained slower and precision decreased; smaller: trn_loss decrease very slow\n",
        "kernel_size = 2\n",
        "learn_rate = 0.001\n",
        "step_size = 100\n",
        "gamma = 0.9\n",
        "batch_size = 16\n",
        "num_workers = 1\n",
        "num_epochs = 1000\n",
        "A_model_file = 'A_Wavenet_990_0.2105.pt'\n",
        "N_model_file = 'N_Wavenet_1000_0.1569'\n",
        "use_visdom = False\n",
        "n_new_samples = win_size\n",
        "disp_interval = 10"
      ],
      "execution_count": 8,
      "outputs": []
    },
    {
      "cell_type": "code",
      "metadata": {
        "id": "kqzZck9IDO84",
        "colab_type": "code",
        "colab": {},
        "tags": []
      },
      "source": [
        "def get_ylen(x_len, num_layers, num_blocks, kernel_size):\n",
        "    rec_field = 1 + (kernel_size - 1) * \\\n",
        "                num_blocks * sum([2**k for k in range(num_layers)])\n",
        "    return x_len - rec_field\n",
        "\n",
        "y_len = get_ylen(x_len, num_layers, num_blocks, kernel_size)\n",
        "print('x_len: {}, y_len: {}, rec_field: {}'.format(x_len, y_len, x_len-y_len))"
      ],
      "execution_count": 9,
      "outputs": [
        {
          "output_type": "stream",
          "name": "stdout",
          "text": "x_len: 2048, y_len: 1025, rec_field: 1023\n"
        }
      ]
    },
    {
      "cell_type": "code",
      "metadata": {
        "id": "vscFZS6SYlpX",
        "colab_type": "code",
        "colab": {},
        "tags": []
      },
      "source": [
        "A_wave_model = Model(x_len, \n",
        "                   num_channels=num_channels, \n",
        "                   num_classes=num_classes, \n",
        "                   num_blocks=num_blocks, \n",
        "                   num_layers=num_layers,\n",
        "                   num_hidden=num_hidden,\n",
        "                   kernel_size=kernel_size)\n",
        "# load the trained wave_model\n",
        "if os.path.isfile(A_model_file):\n",
        "    print('Loading model data from file: {}'.format(A_model_file))\n",
        "    A_wave_model.load_state_dict(torch.load(A_model_file, map_location=device))\n",
        "A_wave_model.set_device(device)"
      ],
      "execution_count": 10,
      "outputs": [
        {
          "output_type": "stream",
          "name": "stdout",
          "text": "receptive_field: 1023\nOutput width: 1026\nLoading model data from file: A_Wavenet_990_0.2105.pt\n"
        }
      ]
    },
    {
      "cell_type": "code",
      "metadata": {
        "id": "bcFivX5tgI6P",
        "colab_type": "code",
        "colab": {},
        "tags": []
      },
      "source": [
        "N_wave_model = Model(x_len, \n",
        "                   num_channels=num_channels, \n",
        "                   num_classes=num_classes, \n",
        "                   num_blocks=num_blocks, \n",
        "                   num_layers=num_layers,\n",
        "                   num_hidden=num_hidden,\n",
        "                   kernel_size=kernel_size)\n",
        "# load the trained wave_model\n",
        "if os.path.isfile(N_model_file):\n",
        "    print('Loading model data from file: {}'.format(N_model_file))\n",
        "    N_wave_model.load_state_dict(torch.load(N_model_file, map_location=device))\n",
        "N_wave_model.set_device(device)"
      ],
      "execution_count": 11,
      "outputs": [
        {
          "output_type": "stream",
          "name": "stdout",
          "text": "receptive_field: 1023\nOutput width: 1026\n"
        }
      ]
    },
    {
      "cell_type": "code",
      "metadata": {
        "id": "Jc_sr05YgIUx",
        "colab_type": "code",
        "colab": {}
      },
      "source": [
        "# ## Training / Finetune\n",
        "# A_dataset = AudioData(A_data, x_len, y_len=y_len, num_classes=num_classes)\n",
        "# dataloader = AudioLoader(A_dataset, batch_size=batch_size)\n",
        "# finetune = False\n",
        "# if finetune:\n",
        "#   num_epochs = 100\n",
        "#   learn_rate = learn_rate\n",
        "#   wave_model.criterion = nn.CrossEntropyLoss()\n",
        "#   wave_model.optimizer = optim.Adam(wave_model.parameters(), lr=learn_rate)\n",
        "#   wave_model.scheduler = optim.lr_scheduler.ReduceLROnPlateau(\n",
        "#       wave_model.optimizer, mode='min', factor=gamma, min_lr=1e-5, patience=100)\n",
        "#   wave_model.train(dataloader, num_epochs=num_epochs, \n",
        "#                   disp_interval=disp_interval,\n",
        "#                   use_visdom=False)\n",
        "#   # torch.save(wave_model.state_dict(), model_file)"
      ],
      "execution_count": 12,
      "outputs": []
    },
    {
      "cell_type": "code",
      "metadata": {
        "id": "cIhwwvuhYmQK",
        "colab_type": "code",
        "colab": {}
      },
      "source": [
        "A_dataset = AudioData(A_data, x_len, y_len=y_len, num_classes=num_classes)\n",
        "A_wave_generator = Generator(A_wave_model, A_dataset)\n",
        "N_dataset = AudioData(N_data, x_len, y_len=y_len, num_classes=num_classes)\n",
        "N_wave_generator = Generator(N_wave_model, N_dataset)"
      ],
      "execution_count": 13,
      "outputs": []
    },
    {
      "cell_type": "code",
      "metadata": {
        "id": "vAGZfFmDtTPL",
        "colab_type": "code",
        "colab": {}
      },
      "source": [
        "n_predictions = 1024\n",
        "n_total_samples = n_predictions + x_len\n",
        "\n",
        "audio = A_data[0][:n_total_samples]\n",
        "x1 = audio[:x_len]\n",
        "y1 = A_wave_generator.run(x1, n_predictions)\n",
        "y1 = (y1 - y1.mean()) / y1.std()\n",
        "y1 = y1 / np.abs(y1).max() * np.abs(x1).max()\n",
        "tmp = np.where(np.abs(y1)<=1)[0]\n",
        "# y1[tmp] = x1[tmp + np.random.randint(1024)]\n",
        "b, a = butter(2, 0.3) # order 3 lowpass butterworth filter, 0 < Wn < 1\n",
        "y1_lf = filtfilt(b, a, y1)\n",
        "y1_digit = np.asarray(y1_lf / np.abs(y1_lf).max() * np.abs(x1).max(), dtype=np.int16)\n",
        "\n",
        "audio = N_data[1][:n_total_samples]\n",
        "x2 = audio[:x_len]\n",
        "y2 = N_wave_generator.run(x2, n_predictions//2)\n",
        "y2 = (y2 - y2.mean()) / y2.std()\n",
        "y2 = y2 / np.abs(y2).max() * np.abs(x2).max()\n",
        "tmp = np.where(np.abs(y2)<=1)[0]\n",
        "# y2[tmp] = x2[tmp + np.random.randint(1024)]\n",
        "b, a = butter(2, 0.3) # order 3 lowpass butterworth filter, 0 < Wn < 1\n",
        "y2_lf = filtfilt(b, a, y2)\n",
        "y2_digit = np.asarray(y2_lf / np.abs(y2_lf).max() * np.abs(x2).max(), dtype=np.int16)\n",
        "\n",
        "fig, axs = plt.subplots(nrows=4, ncols=1, figsize=(20, 12))\n",
        "axs[0].plot(x1[:1024])\n",
        "axs[0].set_title('A')\n",
        "axs[1].plot(y1_digit)\n",
        "axs[1].set_title('A generated')\n",
        "axs[-2].plot(x2[:1024])\n",
        "axs[-2].set_title('N')\n",
        "axs[-1].plot(y2_digit)\n",
        "axs[-1].set_title('N generated')\n",
        "\n",
        "plt.show()"
      ],
      "execution_count": 14,
      "outputs": [
        {
          "output_type": "display_data",
          "data": {
            "text/plain": "<Figure size 1440x864 with 4 Axes>",
            "image/svg+xml": "<?xml version=\"1.0\" encoding=\"utf-8\" standalone=\"no\"?>\n<!DOCTYPE svg PUBLIC \"-//W3C//DTD SVG 1.1//EN\"\n  \"http://www.w3.org/Graphics/SVG/1.1/DTD/svg11.dtd\">\n<!-- Created with matplotlib (https://matplotlib.org/) -->\n<svg height=\"698.51625pt\" version=\"1.1\" viewBox=\"0 0 1158.504688 698.51625\" width=\"1158.504688pt\" xmlns=\"http://www.w3.org/2000/svg\" xmlns:xlink=\"http://www.w3.org/1999/xlink\">\n <metadata>\n  <rdf:RDF xmlns:cc=\"http://creativecommons.org/ns#\" xmlns:dc=\"http://purl.org/dc/elements/1.1/\" xmlns:rdf=\"http://www.w3.org/1999/02/22-rdf-syntax-ns#\">\n   <cc:Work>\n    <dc:type rdf:resource=\"http://purl.org/dc/dcmitype/StillImage\"/>\n    <dc:date>2020-08-16T10:35:14.992255</dc:date>\n    <dc:format>image/svg+xml</dc:format>\n    <dc:creator>\n     <cc:Agent>\n      <dc:title>Matplotlib v3.3.0, https://matplotlib.org/</dc:title>\n     </cc:Agent>\n    </dc:creator>\n   </cc:Work>\n  </rdf:RDF>\n </metadata>\n <defs>\n  <style type=\"text/css\">*{stroke-linecap:butt;stroke-linejoin:round;}</style>\n </defs>\n <g id=\"figure_1\">\n  <g id=\"patch_1\">\n   <path d=\"M 0 698.51625 \nL 1158.504688 698.51625 \nL 1158.504688 0 \nL 0 0 \nz\n\" style=\"fill:none;\"/>\n  </g>\n  <g id=\"axes_1\">\n   <g id=\"patch_2\">\n    <path d=\"M 35.304688 164.126821 \nL 1151.304688 164.126821 \nL 1151.304688 22.318125 \nL 35.304688 22.318125 \nz\n\" style=\"fill:#ffffff;\"/>\n   </g>\n   <g id=\"matplotlib.axis_1\">\n    <g id=\"xtick_1\">\n     <g id=\"line2d_1\">\n      <defs>\n       <path d=\"M 0 0 \nL 0 3.5 \n\" id=\"mc9740bb161\" style=\"stroke:#000000;stroke-width:0.8;\"/>\n      </defs>\n      <g>\n       <use style=\"stroke:#000000;stroke-width:0.8;\" x=\"86.03196\" xlink:href=\"#mc9740bb161\" y=\"164.126821\"/>\n      </g>\n     </g>\n     <g id=\"text_1\">\n      <!-- 0 -->\n      <g transform=\"translate(82.85071 178.725258)scale(0.1 -0.1)\">\n       <defs>\n        <path d=\"M 31.78125 66.40625 \nQ 24.171875 66.40625 20.328125 58.90625 \nQ 16.5 51.421875 16.5 36.375 \nQ 16.5 21.390625 20.328125 13.890625 \nQ 24.171875 6.390625 31.78125 6.390625 \nQ 39.453125 6.390625 43.28125 13.890625 \nQ 47.125 21.390625 47.125 36.375 \nQ 47.125 51.421875 43.28125 58.90625 \nQ 39.453125 66.40625 31.78125 66.40625 \nz\nM 31.78125 74.21875 \nQ 44.046875 74.21875 50.515625 64.515625 \nQ 56.984375 54.828125 56.984375 36.375 \nQ 56.984375 17.96875 50.515625 8.265625 \nQ 44.046875 -1.421875 31.78125 -1.421875 \nQ 19.53125 -1.421875 13.0625 8.265625 \nQ 6.59375 17.96875 6.59375 36.375 \nQ 6.59375 54.828125 13.0625 64.515625 \nQ 19.53125 74.21875 31.78125 74.21875 \nz\n\" id=\"DejaVuSans-48\"/>\n       </defs>\n       <use xlink:href=\"#DejaVuSans-48\"/>\n      </g>\n     </g>\n    </g>\n    <g id=\"xtick_2\">\n     <g id=\"line2d_2\">\n      <g>\n       <use style=\"stroke:#000000;stroke-width:0.8;\" x=\"284.379068\" xlink:href=\"#mc9740bb161\" y=\"164.126821\"/>\n      </g>\n     </g>\n     <g id=\"text_2\">\n      <!-- 200 -->\n      <g transform=\"translate(274.835318 178.725258)scale(0.1 -0.1)\">\n       <defs>\n        <path d=\"M 19.1875 8.296875 \nL 53.609375 8.296875 \nL 53.609375 0 \nL 7.328125 0 \nL 7.328125 8.296875 \nQ 12.9375 14.109375 22.625 23.890625 \nQ 32.328125 33.6875 34.8125 36.53125 \nQ 39.546875 41.84375 41.421875 45.53125 \nQ 43.3125 49.21875 43.3125 52.78125 \nQ 43.3125 58.59375 39.234375 62.25 \nQ 35.15625 65.921875 28.609375 65.921875 \nQ 23.96875 65.921875 18.8125 64.3125 \nQ 13.671875 62.703125 7.8125 59.421875 \nL 7.8125 69.390625 \nQ 13.765625 71.78125 18.9375 73 \nQ 24.125 74.21875 28.421875 74.21875 \nQ 39.75 74.21875 46.484375 68.546875 \nQ 53.21875 62.890625 53.21875 53.421875 \nQ 53.21875 48.921875 51.53125 44.890625 \nQ 49.859375 40.875 45.40625 35.40625 \nQ 44.1875 33.984375 37.640625 27.21875 \nQ 31.109375 20.453125 19.1875 8.296875 \nz\n\" id=\"DejaVuSans-50\"/>\n       </defs>\n       <use xlink:href=\"#DejaVuSans-50\"/>\n       <use x=\"63.623047\" xlink:href=\"#DejaVuSans-48\"/>\n       <use x=\"127.246094\" xlink:href=\"#DejaVuSans-48\"/>\n      </g>\n     </g>\n    </g>\n    <g id=\"xtick_3\">\n     <g id=\"line2d_3\">\n      <g>\n       <use style=\"stroke:#000000;stroke-width:0.8;\" x=\"482.726175\" xlink:href=\"#mc9740bb161\" y=\"164.126821\"/>\n      </g>\n     </g>\n     <g id=\"text_3\">\n      <!-- 400 -->\n      <g transform=\"translate(473.182425 178.725258)scale(0.1 -0.1)\">\n       <defs>\n        <path d=\"M 37.796875 64.3125 \nL 12.890625 25.390625 \nL 37.796875 25.390625 \nz\nM 35.203125 72.90625 \nL 47.609375 72.90625 \nL 47.609375 25.390625 \nL 58.015625 25.390625 \nL 58.015625 17.1875 \nL 47.609375 17.1875 \nL 47.609375 0 \nL 37.796875 0 \nL 37.796875 17.1875 \nL 4.890625 17.1875 \nL 4.890625 26.703125 \nz\n\" id=\"DejaVuSans-52\"/>\n       </defs>\n       <use xlink:href=\"#DejaVuSans-52\"/>\n       <use x=\"63.623047\" xlink:href=\"#DejaVuSans-48\"/>\n       <use x=\"127.246094\" xlink:href=\"#DejaVuSans-48\"/>\n      </g>\n     </g>\n    </g>\n    <g id=\"xtick_4\">\n     <g id=\"line2d_4\">\n      <g>\n       <use style=\"stroke:#000000;stroke-width:0.8;\" x=\"681.073283\" xlink:href=\"#mc9740bb161\" y=\"164.126821\"/>\n      </g>\n     </g>\n     <g id=\"text_4\">\n      <!-- 600 -->\n      <g transform=\"translate(671.529533 178.725258)scale(0.1 -0.1)\">\n       <defs>\n        <path d=\"M 33.015625 40.375 \nQ 26.375 40.375 22.484375 35.828125 \nQ 18.609375 31.296875 18.609375 23.390625 \nQ 18.609375 15.53125 22.484375 10.953125 \nQ 26.375 6.390625 33.015625 6.390625 \nQ 39.65625 6.390625 43.53125 10.953125 \nQ 47.40625 15.53125 47.40625 23.390625 \nQ 47.40625 31.296875 43.53125 35.828125 \nQ 39.65625 40.375 33.015625 40.375 \nz\nM 52.59375 71.296875 \nL 52.59375 62.3125 \nQ 48.875 64.0625 45.09375 64.984375 \nQ 41.3125 65.921875 37.59375 65.921875 \nQ 27.828125 65.921875 22.671875 59.328125 \nQ 17.53125 52.734375 16.796875 39.40625 \nQ 19.671875 43.65625 24.015625 45.921875 \nQ 28.375 48.1875 33.59375 48.1875 \nQ 44.578125 48.1875 50.953125 41.515625 \nQ 57.328125 34.859375 57.328125 23.390625 \nQ 57.328125 12.15625 50.6875 5.359375 \nQ 44.046875 -1.421875 33.015625 -1.421875 \nQ 20.359375 -1.421875 13.671875 8.265625 \nQ 6.984375 17.96875 6.984375 36.375 \nQ 6.984375 53.65625 15.1875 63.9375 \nQ 23.390625 74.21875 37.203125 74.21875 \nQ 40.921875 74.21875 44.703125 73.484375 \nQ 48.484375 72.75 52.59375 71.296875 \nz\n\" id=\"DejaVuSans-54\"/>\n       </defs>\n       <use xlink:href=\"#DejaVuSans-54\"/>\n       <use x=\"63.623047\" xlink:href=\"#DejaVuSans-48\"/>\n       <use x=\"127.246094\" xlink:href=\"#DejaVuSans-48\"/>\n      </g>\n     </g>\n    </g>\n    <g id=\"xtick_5\">\n     <g id=\"line2d_5\">\n      <g>\n       <use style=\"stroke:#000000;stroke-width:0.8;\" x=\"879.42039\" xlink:href=\"#mc9740bb161\" y=\"164.126821\"/>\n      </g>\n     </g>\n     <g id=\"text_5\">\n      <!-- 800 -->\n      <g transform=\"translate(869.87664 178.725258)scale(0.1 -0.1)\">\n       <defs>\n        <path d=\"M 31.78125 34.625 \nQ 24.75 34.625 20.71875 30.859375 \nQ 16.703125 27.09375 16.703125 20.515625 \nQ 16.703125 13.921875 20.71875 10.15625 \nQ 24.75 6.390625 31.78125 6.390625 \nQ 38.8125 6.390625 42.859375 10.171875 \nQ 46.921875 13.96875 46.921875 20.515625 \nQ 46.921875 27.09375 42.890625 30.859375 \nQ 38.875 34.625 31.78125 34.625 \nz\nM 21.921875 38.8125 \nQ 15.578125 40.375 12.03125 44.71875 \nQ 8.5 49.078125 8.5 55.328125 \nQ 8.5 64.0625 14.71875 69.140625 \nQ 20.953125 74.21875 31.78125 74.21875 \nQ 42.671875 74.21875 48.875 69.140625 \nQ 55.078125 64.0625 55.078125 55.328125 \nQ 55.078125 49.078125 51.53125 44.71875 \nQ 48 40.375 41.703125 38.8125 \nQ 48.828125 37.15625 52.796875 32.3125 \nQ 56.78125 27.484375 56.78125 20.515625 \nQ 56.78125 9.90625 50.3125 4.234375 \nQ 43.84375 -1.421875 31.78125 -1.421875 \nQ 19.734375 -1.421875 13.25 4.234375 \nQ 6.78125 9.90625 6.78125 20.515625 \nQ 6.78125 27.484375 10.78125 32.3125 \nQ 14.796875 37.15625 21.921875 38.8125 \nz\nM 18.3125 54.390625 \nQ 18.3125 48.734375 21.84375 45.5625 \nQ 25.390625 42.390625 31.78125 42.390625 \nQ 38.140625 42.390625 41.71875 45.5625 \nQ 45.3125 48.734375 45.3125 54.390625 \nQ 45.3125 60.0625 41.71875 63.234375 \nQ 38.140625 66.40625 31.78125 66.40625 \nQ 25.390625 66.40625 21.84375 63.234375 \nQ 18.3125 60.0625 18.3125 54.390625 \nz\n\" id=\"DejaVuSans-56\"/>\n       </defs>\n       <use xlink:href=\"#DejaVuSans-56\"/>\n       <use x=\"63.623047\" xlink:href=\"#DejaVuSans-48\"/>\n       <use x=\"127.246094\" xlink:href=\"#DejaVuSans-48\"/>\n      </g>\n     </g>\n    </g>\n    <g id=\"xtick_6\">\n     <g id=\"line2d_6\">\n      <g>\n       <use style=\"stroke:#000000;stroke-width:0.8;\" x=\"1077.767497\" xlink:href=\"#mc9740bb161\" y=\"164.126821\"/>\n      </g>\n     </g>\n     <g id=\"text_6\">\n      <!-- 1000 -->\n      <g transform=\"translate(1065.042497 178.725258)scale(0.1 -0.1)\">\n       <defs>\n        <path d=\"M 12.40625 8.296875 \nL 28.515625 8.296875 \nL 28.515625 63.921875 \nL 10.984375 60.40625 \nL 10.984375 69.390625 \nL 28.421875 72.90625 \nL 38.28125 72.90625 \nL 38.28125 8.296875 \nL 54.390625 8.296875 \nL 54.390625 0 \nL 12.40625 0 \nz\n\" id=\"DejaVuSans-49\"/>\n       </defs>\n       <use xlink:href=\"#DejaVuSans-49\"/>\n       <use x=\"63.623047\" xlink:href=\"#DejaVuSans-48\"/>\n       <use x=\"127.246094\" xlink:href=\"#DejaVuSans-48\"/>\n       <use x=\"190.869141\" xlink:href=\"#DejaVuSans-48\"/>\n      </g>\n     </g>\n    </g>\n   </g>\n   <g id=\"matplotlib.axis_2\">\n    <g id=\"ytick_1\">\n     <g id=\"line2d_7\">\n      <defs>\n       <path d=\"M 0 0 \nL -3.5 0 \n\" id=\"m2c843ddd82\" style=\"stroke:#000000;stroke-width:0.8;\"/>\n      </defs>\n      <g>\n       <use style=\"stroke:#000000;stroke-width:0.8;\" x=\"35.304688\" xlink:href=\"#m2c843ddd82\" y=\"136.194805\"/>\n      </g>\n     </g>\n     <g id=\"text_7\">\n      <!-- 0 -->\n      <g transform=\"translate(21.942187 139.994024)scale(0.1 -0.1)\">\n       <use xlink:href=\"#DejaVuSans-48\"/>\n      </g>\n     </g>\n    </g>\n    <g id=\"ytick_2\">\n     <g id=\"line2d_8\">\n      <g>\n       <use style=\"stroke:#000000;stroke-width:0.8;\" x=\"35.304688\" xlink:href=\"#m2c843ddd82\" y=\"100.384528\"/>\n      </g>\n     </g>\n     <g id=\"text_8\">\n      <!-- 5 -->\n      <g transform=\"translate(21.942187 104.183747)scale(0.1 -0.1)\">\n       <defs>\n        <path d=\"M 10.796875 72.90625 \nL 49.515625 72.90625 \nL 49.515625 64.59375 \nL 19.828125 64.59375 \nL 19.828125 46.734375 \nQ 21.96875 47.46875 24.109375 47.828125 \nQ 26.265625 48.1875 28.421875 48.1875 \nQ 40.625 48.1875 47.75 41.5 \nQ 54.890625 34.8125 54.890625 23.390625 \nQ 54.890625 11.625 47.5625 5.09375 \nQ 40.234375 -1.421875 26.90625 -1.421875 \nQ 22.3125 -1.421875 17.546875 -0.640625 \nQ 12.796875 0.140625 7.71875 1.703125 \nL 7.71875 11.625 \nQ 12.109375 9.234375 16.796875 8.0625 \nQ 21.484375 6.890625 26.703125 6.890625 \nQ 35.15625 6.890625 40.078125 11.328125 \nQ 45.015625 15.765625 45.015625 23.390625 \nQ 45.015625 31 40.078125 35.4375 \nQ 35.15625 39.890625 26.703125 39.890625 \nQ 22.75 39.890625 18.8125 39.015625 \nQ 14.890625 38.140625 10.796875 36.28125 \nz\n\" id=\"DejaVuSans-53\"/>\n       </defs>\n       <use xlink:href=\"#DejaVuSans-53\"/>\n      </g>\n     </g>\n    </g>\n    <g id=\"ytick_3\">\n     <g id=\"line2d_9\">\n      <g>\n       <use style=\"stroke:#000000;stroke-width:0.8;\" x=\"35.304688\" xlink:href=\"#m2c843ddd82\" y=\"64.574251\"/>\n      </g>\n     </g>\n     <g id=\"text_9\">\n      <!-- 10 -->\n      <g transform=\"translate(15.579687 68.37347)scale(0.1 -0.1)\">\n       <use xlink:href=\"#DejaVuSans-49\"/>\n       <use x=\"63.623047\" xlink:href=\"#DejaVuSans-48\"/>\n      </g>\n     </g>\n    </g>\n    <g id=\"ytick_4\">\n     <g id=\"line2d_10\">\n      <g>\n       <use style=\"stroke:#000000;stroke-width:0.8;\" x=\"35.304688\" xlink:href=\"#m2c843ddd82\" y=\"28.763975\"/>\n      </g>\n     </g>\n     <g id=\"text_10\">\n      <!-- 15 -->\n      <g transform=\"translate(15.579687 32.563194)scale(0.1 -0.1)\">\n       <use xlink:href=\"#DejaVuSans-49\"/>\n       <use x=\"63.623047\" xlink:href=\"#DejaVuSans-53\"/>\n      </g>\n     </g>\n    </g>\n   </g>\n   <g id=\"line2d_11\">\n    <path clip-path=\"url(#pf3dc68884a)\" d=\"M 86.03196 93.222473 \nL 87.023696 78.898362 \nL 88.015431 71.736307 \nL 89.007167 57.412196 \nL 90.990638 43.088085 \nL 91.982373 43.088085 \nL 92.974109 50.250141 \nL 98.924522 50.250141 \nL 99.916258 57.412196 \nL 131.651795 57.412196 \nL 132.64353 50.250141 \nL 138.593944 50.250141 \nL 139.585679 43.088085 \nL 147.519564 43.088085 \nL 148.511299 50.250141 \nL 152.478241 50.250141 \nL 153.469977 57.412196 \nL 155.453448 57.412196 \nL 156.445183 64.574251 \nL 157.436919 64.574251 \nL 158.428654 71.736307 \nL 160.412126 71.736307 \nL 161.403861 78.898362 \nL 162.395597 78.898362 \nL 163.387332 86.060417 \nL 166.362539 86.060417 \nL 167.354274 93.222473 \nL 173.304687 93.222473 \nL 174.296423 100.384528 \nL 179.255101 100.384528 \nL 180.246836 107.546583 \nL 202.065018 107.546583 \nL 203.056754 114.708639 \nL 216.941051 114.708639 \nL 217.932787 121.870694 \nL 225.866671 121.870694 \nL 226.858407 129.03275 \nL 235.784026 129.03275 \nL 236.775762 136.194805 \nL 277.436919 136.194805 \nL 278.428654 143.35686 \nL 301.238572 143.35686 \nL 302.230307 136.194805 \nL 303.222043 136.194805 \nL 304.213778 129.03275 \nL 307.188985 86.060417 \nL 309.172456 71.736307 \nL 311.155927 71.736307 \nL 314.131134 93.222473 \nL 315.122869 107.546583 \nL 316.114605 114.708639 \nL 317.10634 129.03275 \nL 318.098076 136.194805 \nL 322.065018 136.194805 \nL 323.056754 143.35686 \nL 349.833613 143.35686 \nL 350.825349 136.194805 \nL 372.64353 136.194805 \nL 373.635266 129.03275 \nL 379.585679 129.03275 \nL 380.577415 121.870694 \nL 392.478241 121.870694 \nL 393.469977 129.03275 \nL 396.445183 129.03275 \nL 397.436919 136.194805 \nL 403.387332 136.194805 \nL 404.379068 143.35686 \nL 408.34601 143.35686 \nL 409.337745 150.518916 \nL 414.296423 150.518916 \nL 415.288159 157.680971 \nL 431.155927 157.680971 \nL 432.147663 150.518916 \nL 465.866671 150.518916 \nL 466.858407 157.680971 \nL 488.676588 157.680971 \nL 489.668324 150.518916 \nL 550.164192 150.518916 \nL 551.155927 143.35686 \nL 573.965845 143.35686 \nL 574.95758 136.194805 \nL 577.932787 136.194805 \nL 578.924522 143.35686 \nL 584.874935 143.35686 \nL 585.866671 136.194805 \nL 586.858407 136.194805 \nL 588.841878 107.546583 \nL 589.833613 86.060417 \nL 592.80882 43.088085 \nL 593.800555 35.92603 \nL 594.792291 43.088085 \nL 595.784026 57.412196 \nL 597.767497 100.384528 \nL 599.750968 129.03275 \nL 600.742704 136.194805 \nL 603.717911 136.194805 \nL 604.709646 143.35686 \nL 618.593944 143.35686 \nL 619.585679 136.194805 \nL 660.246836 136.194805 \nL 661.238572 129.03275 \nL 664.213778 129.03275 \nL 665.205514 121.870694 \nL 679.089811 121.870694 \nL 680.081547 129.03275 \nL 686.03196 129.03275 \nL 687.023696 136.194805 \nL 692.974109 136.194805 \nL 693.965845 143.35686 \nL 836.775762 143.35686 \nL 837.767497 136.194805 \nL 860.577415 136.194805 \nL 864.544357 78.898362 \nL 866.527828 35.92603 \nL 867.519564 28.763975 \nL 869.503035 28.763975 \nL 870.49477 50.250141 \nL 871.486506 78.898362 \nL 873.469977 121.870694 \nL 875.453448 136.194805 \nL 882.395597 136.194805 \nL 883.387332 143.35686 \nL 899.255101 143.35686 \nL 900.246836 136.194805 \nL 931.982373 136.194805 \nL 932.974109 129.03275 \nL 940.907993 129.03275 \nL 941.899729 121.870694 \nL 951.817084 121.870694 \nL 952.80882 129.03275 \nL 956.775762 129.03275 \nL 957.767497 136.194805 \nL 982.560886 136.194805 \nL 983.552621 143.35686 \nL 1025.205514 143.35686 \nL 1026.197249 136.194805 \nL 1036.114605 136.194805 \nL 1037.10634 143.35686 \nL 1072.80882 143.35686 \nL 1073.800555 136.194805 \nL 1086.693117 136.194805 \nL 1087.684853 143.35686 \nL 1100.577415 143.35686 \nL 1100.577415 143.35686 \n\" style=\"fill:none;stroke:#1f77b4;stroke-linecap:square;stroke-width:1.5;\"/>\n   </g>\n   <g id=\"patch_3\">\n    <path d=\"M 35.304688 164.126821 \nL 35.304688 22.318125 \n\" style=\"fill:none;stroke:#000000;stroke-linecap:square;stroke-linejoin:miter;stroke-width:0.8;\"/>\n   </g>\n   <g id=\"patch_4\">\n    <path d=\"M 1151.304688 164.126821 \nL 1151.304688 22.318125 \n\" style=\"fill:none;stroke:#000000;stroke-linecap:square;stroke-linejoin:miter;stroke-width:0.8;\"/>\n   </g>\n   <g id=\"patch_5\">\n    <path d=\"M 35.304688 164.126821 \nL 1151.304688 164.126821 \n\" style=\"fill:none;stroke:#000000;stroke-linecap:square;stroke-linejoin:miter;stroke-width:0.8;\"/>\n   </g>\n   <g id=\"patch_6\">\n    <path d=\"M 35.304688 22.318125 \nL 1151.304688 22.318125 \n\" style=\"fill:none;stroke:#000000;stroke-linecap:square;stroke-linejoin:miter;stroke-width:0.8;\"/>\n   </g>\n   <g id=\"text_11\">\n    <!-- A -->\n    <g transform=\"translate(589.200312 16.318125)scale(0.12 -0.12)\">\n     <defs>\n      <path d=\"M 34.1875 63.1875 \nL 20.796875 26.90625 \nL 47.609375 26.90625 \nz\nM 28.609375 72.90625 \nL 39.796875 72.90625 \nL 67.578125 0 \nL 57.328125 0 \nL 50.6875 18.703125 \nL 17.828125 18.703125 \nL 11.1875 0 \nL 0.78125 0 \nz\n\" id=\"DejaVuSans-65\"/>\n     </defs>\n     <use xlink:href=\"#DejaVuSans-65\"/>\n    </g>\n   </g>\n  </g>\n  <g id=\"axes_2\">\n   <g id=\"patch_7\">\n    <path d=\"M 35.304688 334.297255 \nL 1151.304688 334.297255 \nL 1151.304688 192.48856 \nL 35.304688 192.48856 \nz\n\" style=\"fill:#ffffff;\"/>\n   </g>\n   <g id=\"matplotlib.axis_3\">\n    <g id=\"xtick_7\">\n     <g id=\"line2d_12\">\n      <g>\n       <use style=\"stroke:#000000;stroke-width:0.8;\" x=\"86.03196\" xlink:href=\"#mc9740bb161\" y=\"334.297255\"/>\n      </g>\n     </g>\n     <g id=\"text_12\">\n      <!-- 0 -->\n      <g transform=\"translate(82.85071 348.895693)scale(0.1 -0.1)\">\n       <use xlink:href=\"#DejaVuSans-48\"/>\n      </g>\n     </g>\n    </g>\n    <g id=\"xtick_8\">\n     <g id=\"line2d_13\">\n      <g>\n       <use style=\"stroke:#000000;stroke-width:0.8;\" x=\"284.379068\" xlink:href=\"#mc9740bb161\" y=\"334.297255\"/>\n      </g>\n     </g>\n     <g id=\"text_13\">\n      <!-- 200 -->\n      <g transform=\"translate(274.835318 348.895693)scale(0.1 -0.1)\">\n       <use xlink:href=\"#DejaVuSans-50\"/>\n       <use x=\"63.623047\" xlink:href=\"#DejaVuSans-48\"/>\n       <use x=\"127.246094\" xlink:href=\"#DejaVuSans-48\"/>\n      </g>\n     </g>\n    </g>\n    <g id=\"xtick_9\">\n     <g id=\"line2d_14\">\n      <g>\n       <use style=\"stroke:#000000;stroke-width:0.8;\" x=\"482.726175\" xlink:href=\"#mc9740bb161\" y=\"334.297255\"/>\n      </g>\n     </g>\n     <g id=\"text_14\">\n      <!-- 400 -->\n      <g transform=\"translate(473.182425 348.895693)scale(0.1 -0.1)\">\n       <use xlink:href=\"#DejaVuSans-52\"/>\n       <use x=\"63.623047\" xlink:href=\"#DejaVuSans-48\"/>\n       <use x=\"127.246094\" xlink:href=\"#DejaVuSans-48\"/>\n      </g>\n     </g>\n    </g>\n    <g id=\"xtick_10\">\n     <g id=\"line2d_15\">\n      <g>\n       <use style=\"stroke:#000000;stroke-width:0.8;\" x=\"681.073283\" xlink:href=\"#mc9740bb161\" y=\"334.297255\"/>\n      </g>\n     </g>\n     <g id=\"text_15\">\n      <!-- 600 -->\n      <g transform=\"translate(671.529533 348.895693)scale(0.1 -0.1)\">\n       <use xlink:href=\"#DejaVuSans-54\"/>\n       <use x=\"63.623047\" xlink:href=\"#DejaVuSans-48\"/>\n       <use x=\"127.246094\" xlink:href=\"#DejaVuSans-48\"/>\n      </g>\n     </g>\n    </g>\n    <g id=\"xtick_11\">\n     <g id=\"line2d_16\">\n      <g>\n       <use style=\"stroke:#000000;stroke-width:0.8;\" x=\"879.42039\" xlink:href=\"#mc9740bb161\" y=\"334.297255\"/>\n      </g>\n     </g>\n     <g id=\"text_16\">\n      <!-- 800 -->\n      <g transform=\"translate(869.87664 348.895693)scale(0.1 -0.1)\">\n       <use xlink:href=\"#DejaVuSans-56\"/>\n       <use x=\"63.623047\" xlink:href=\"#DejaVuSans-48\"/>\n       <use x=\"127.246094\" xlink:href=\"#DejaVuSans-48\"/>\n      </g>\n     </g>\n    </g>\n    <g id=\"xtick_12\">\n     <g id=\"line2d_17\">\n      <g>\n       <use style=\"stroke:#000000;stroke-width:0.8;\" x=\"1077.767497\" xlink:href=\"#mc9740bb161\" y=\"334.297255\"/>\n      </g>\n     </g>\n     <g id=\"text_17\">\n      <!-- 1000 -->\n      <g transform=\"translate(1065.042497 348.895693)scale(0.1 -0.1)\">\n       <use xlink:href=\"#DejaVuSans-49\"/>\n       <use x=\"63.623047\" xlink:href=\"#DejaVuSans-48\"/>\n       <use x=\"127.246094\" xlink:href=\"#DejaVuSans-48\"/>\n       <use x=\"190.869141\" xlink:href=\"#DejaVuSans-48\"/>\n      </g>\n     </g>\n    </g>\n   </g>\n   <g id=\"matplotlib.axis_4\">\n    <g id=\"ytick_5\">\n     <g id=\"line2d_18\">\n      <g>\n       <use style=\"stroke:#000000;stroke-width:0.8;\" x=\"35.304688\" xlink:href=\"#m2c843ddd82\" y=\"320.68935\"/>\n      </g>\n     </g>\n     <g id=\"text_18\">\n      <!-- 0 -->\n      <g transform=\"translate(21.942187 324.488569)scale(0.1 -0.1)\">\n       <use xlink:href=\"#DejaVuSans-48\"/>\n      </g>\n     </g>\n    </g>\n    <g id=\"ytick_6\">\n     <g id=\"line2d_19\">\n      <g>\n       <use style=\"stroke:#000000;stroke-width:0.8;\" x=\"35.304688\" xlink:href=\"#m2c843ddd82\" y=\"284.879074\"/>\n      </g>\n     </g>\n     <g id=\"text_19\">\n      <!-- 5 -->\n      <g transform=\"translate(21.942187 288.678292)scale(0.1 -0.1)\">\n       <use xlink:href=\"#DejaVuSans-53\"/>\n      </g>\n     </g>\n    </g>\n    <g id=\"ytick_7\">\n     <g id=\"line2d_20\">\n      <g>\n       <use style=\"stroke:#000000;stroke-width:0.8;\" x=\"35.304688\" xlink:href=\"#m2c843ddd82\" y=\"249.068797\"/>\n      </g>\n     </g>\n     <g id=\"text_20\">\n      <!-- 10 -->\n      <g transform=\"translate(15.579687 252.868016)scale(0.1 -0.1)\">\n       <use xlink:href=\"#DejaVuSans-49\"/>\n       <use x=\"63.623047\" xlink:href=\"#DejaVuSans-48\"/>\n      </g>\n     </g>\n    </g>\n    <g id=\"ytick_8\">\n     <g id=\"line2d_21\">\n      <g>\n       <use style=\"stroke:#000000;stroke-width:0.8;\" x=\"35.304688\" xlink:href=\"#m2c843ddd82\" y=\"213.25852\"/>\n      </g>\n     </g>\n     <g id=\"text_21\">\n      <!-- 15 -->\n      <g transform=\"translate(15.579687 217.057739)scale(0.1 -0.1)\">\n       <use xlink:href=\"#DejaVuSans-49\"/>\n       <use x=\"63.623047\" xlink:href=\"#DejaVuSans-53\"/>\n      </g>\n     </g>\n    </g>\n   </g>\n   <g id=\"line2d_22\">\n    <path clip-path=\"url(#p2a8f0b06f6)\" d=\"M 86.03196 320.68935 \nL 454.95758 320.68935 \nL 455.949316 299.203184 \nL 456.941051 270.554963 \nL 457.932787 256.230852 \nL 458.924522 256.230852 \nL 459.916258 270.554963 \nL 460.907993 299.203184 \nL 461.899729 320.68935 \nL 480.742704 320.68935 \nL 483.717911 299.203184 \nL 486.693117 320.68935 \nL 745.536092 320.68935 \nL 746.527828 327.851406 \nL 747.519564 320.68935 \nL 748.511299 306.36524 \nL 750.49477 220.420576 \nL 751.486506 198.93441 \nL 752.478241 220.420576 \nL 754.461712 306.36524 \nL 755.453448 320.68935 \nL 756.445183 327.851406 \nL 757.436919 320.68935 \nL 870.49477 320.68935 \nL 871.486506 313.527295 \nL 873.469977 284.879074 \nL 874.461712 284.879074 \nL 875.453448 299.203184 \nL 876.445183 320.68935 \nL 879.42039 320.68935 \nL 880.412126 299.203184 \nL 881.403861 284.879074 \nL 882.395597 284.879074 \nL 883.387332 299.203184 \nL 884.379068 306.36524 \nL 887.354274 306.36524 \nL 888.34601 320.68935 \nL 990.49477 320.68935 \nL 991.486506 313.527295 \nL 993.469977 284.879074 \nL 994.461712 284.879074 \nL 996.445183 313.527295 \nL 997.436919 320.68935 \nL 1008.34601 320.68935 \nL 1011.321216 299.203184 \nL 1014.296423 320.68935 \nL 1100.577415 320.68935 \nL 1100.577415 320.68935 \n\" style=\"fill:none;stroke:#1f77b4;stroke-linecap:square;stroke-width:1.5;\"/>\n   </g>\n   <g id=\"patch_8\">\n    <path d=\"M 35.304688 334.297255 \nL 35.304688 192.48856 \n\" style=\"fill:none;stroke:#000000;stroke-linecap:square;stroke-linejoin:miter;stroke-width:0.8;\"/>\n   </g>\n   <g id=\"patch_9\">\n    <path d=\"M 1151.304688 334.297255 \nL 1151.304688 192.48856 \n\" style=\"fill:none;stroke:#000000;stroke-linecap:square;stroke-linejoin:miter;stroke-width:0.8;\"/>\n   </g>\n   <g id=\"patch_10\">\n    <path d=\"M 35.304688 334.297255 \nL 1151.304688 334.297255 \n\" style=\"fill:none;stroke:#000000;stroke-linecap:square;stroke-linejoin:miter;stroke-width:0.8;\"/>\n   </g>\n   <g id=\"patch_11\">\n    <path d=\"M 35.304688 192.48856 \nL 1151.304688 192.48856 \n\" style=\"fill:none;stroke:#000000;stroke-linecap:square;stroke-linejoin:miter;stroke-width:0.8;\"/>\n   </g>\n   <g id=\"text_22\">\n    <!-- A generated -->\n    <g transform=\"translate(556.301563 186.48856)scale(0.12 -0.12)\">\n     <defs>\n      <path id=\"DejaVuSans-32\"/>\n      <path d=\"M 45.40625 27.984375 \nQ 45.40625 37.75 41.375 43.109375 \nQ 37.359375 48.484375 30.078125 48.484375 \nQ 22.859375 48.484375 18.828125 43.109375 \nQ 14.796875 37.75 14.796875 27.984375 \nQ 14.796875 18.265625 18.828125 12.890625 \nQ 22.859375 7.515625 30.078125 7.515625 \nQ 37.359375 7.515625 41.375 12.890625 \nQ 45.40625 18.265625 45.40625 27.984375 \nz\nM 54.390625 6.78125 \nQ 54.390625 -7.171875 48.1875 -13.984375 \nQ 42 -20.796875 29.203125 -20.796875 \nQ 24.46875 -20.796875 20.265625 -20.09375 \nQ 16.0625 -19.390625 12.109375 -17.921875 \nL 12.109375 -9.1875 \nQ 16.0625 -11.328125 19.921875 -12.34375 \nQ 23.78125 -13.375 27.78125 -13.375 \nQ 36.625 -13.375 41.015625 -8.765625 \nQ 45.40625 -4.15625 45.40625 5.171875 \nL 45.40625 9.625 \nQ 42.625 4.78125 38.28125 2.390625 \nQ 33.9375 0 27.875 0 \nQ 17.828125 0 11.671875 7.65625 \nQ 5.515625 15.328125 5.515625 27.984375 \nQ 5.515625 40.671875 11.671875 48.328125 \nQ 17.828125 56 27.875 56 \nQ 33.9375 56 38.28125 53.609375 \nQ 42.625 51.21875 45.40625 46.390625 \nL 45.40625 54.6875 \nL 54.390625 54.6875 \nz\n\" id=\"DejaVuSans-103\"/>\n      <path d=\"M 56.203125 29.59375 \nL 56.203125 25.203125 \nL 14.890625 25.203125 \nQ 15.484375 15.921875 20.484375 11.0625 \nQ 25.484375 6.203125 34.421875 6.203125 \nQ 39.59375 6.203125 44.453125 7.46875 \nQ 49.3125 8.734375 54.109375 11.28125 \nL 54.109375 2.78125 \nQ 49.265625 0.734375 44.1875 -0.34375 \nQ 39.109375 -1.421875 33.890625 -1.421875 \nQ 20.796875 -1.421875 13.15625 6.1875 \nQ 5.515625 13.8125 5.515625 26.8125 \nQ 5.515625 40.234375 12.765625 48.109375 \nQ 20.015625 56 32.328125 56 \nQ 43.359375 56 49.78125 48.890625 \nQ 56.203125 41.796875 56.203125 29.59375 \nz\nM 47.21875 32.234375 \nQ 47.125 39.59375 43.09375 43.984375 \nQ 39.0625 48.390625 32.421875 48.390625 \nQ 24.90625 48.390625 20.390625 44.140625 \nQ 15.875 39.890625 15.1875 32.171875 \nz\n\" id=\"DejaVuSans-101\"/>\n      <path d=\"M 54.890625 33.015625 \nL 54.890625 0 \nL 45.90625 0 \nL 45.90625 32.71875 \nQ 45.90625 40.484375 42.875 44.328125 \nQ 39.84375 48.1875 33.796875 48.1875 \nQ 26.515625 48.1875 22.3125 43.546875 \nQ 18.109375 38.921875 18.109375 30.90625 \nL 18.109375 0 \nL 9.078125 0 \nL 9.078125 54.6875 \nL 18.109375 54.6875 \nL 18.109375 46.1875 \nQ 21.34375 51.125 25.703125 53.5625 \nQ 30.078125 56 35.796875 56 \nQ 45.21875 56 50.046875 50.171875 \nQ 54.890625 44.34375 54.890625 33.015625 \nz\n\" id=\"DejaVuSans-110\"/>\n      <path d=\"M 41.109375 46.296875 \nQ 39.59375 47.171875 37.8125 47.578125 \nQ 36.03125 48 33.890625 48 \nQ 26.265625 48 22.1875 43.046875 \nQ 18.109375 38.09375 18.109375 28.8125 \nL 18.109375 0 \nL 9.078125 0 \nL 9.078125 54.6875 \nL 18.109375 54.6875 \nL 18.109375 46.1875 \nQ 20.953125 51.171875 25.484375 53.578125 \nQ 30.03125 56 36.53125 56 \nQ 37.453125 56 38.578125 55.875 \nQ 39.703125 55.765625 41.0625 55.515625 \nz\n\" id=\"DejaVuSans-114\"/>\n      <path d=\"M 34.28125 27.484375 \nQ 23.390625 27.484375 19.1875 25 \nQ 14.984375 22.515625 14.984375 16.5 \nQ 14.984375 11.71875 18.140625 8.90625 \nQ 21.296875 6.109375 26.703125 6.109375 \nQ 34.1875 6.109375 38.703125 11.40625 \nQ 43.21875 16.703125 43.21875 25.484375 \nL 43.21875 27.484375 \nz\nM 52.203125 31.203125 \nL 52.203125 0 \nL 43.21875 0 \nL 43.21875 8.296875 \nQ 40.140625 3.328125 35.546875 0.953125 \nQ 30.953125 -1.421875 24.3125 -1.421875 \nQ 15.921875 -1.421875 10.953125 3.296875 \nQ 6 8.015625 6 15.921875 \nQ 6 25.140625 12.171875 29.828125 \nQ 18.359375 34.515625 30.609375 34.515625 \nL 43.21875 34.515625 \nL 43.21875 35.40625 \nQ 43.21875 41.609375 39.140625 45 \nQ 35.0625 48.390625 27.6875 48.390625 \nQ 23 48.390625 18.546875 47.265625 \nQ 14.109375 46.140625 10.015625 43.890625 \nL 10.015625 52.203125 \nQ 14.9375 54.109375 19.578125 55.046875 \nQ 24.21875 56 28.609375 56 \nQ 40.484375 56 46.34375 49.84375 \nQ 52.203125 43.703125 52.203125 31.203125 \nz\n\" id=\"DejaVuSans-97\"/>\n      <path d=\"M 18.3125 70.21875 \nL 18.3125 54.6875 \nL 36.8125 54.6875 \nL 36.8125 47.703125 \nL 18.3125 47.703125 \nL 18.3125 18.015625 \nQ 18.3125 11.328125 20.140625 9.421875 \nQ 21.96875 7.515625 27.59375 7.515625 \nL 36.8125 7.515625 \nL 36.8125 0 \nL 27.59375 0 \nQ 17.1875 0 13.234375 3.875 \nQ 9.28125 7.765625 9.28125 18.015625 \nL 9.28125 47.703125 \nL 2.6875 47.703125 \nL 2.6875 54.6875 \nL 9.28125 54.6875 \nL 9.28125 70.21875 \nz\n\" id=\"DejaVuSans-116\"/>\n      <path d=\"M 45.40625 46.390625 \nL 45.40625 75.984375 \nL 54.390625 75.984375 \nL 54.390625 0 \nL 45.40625 0 \nL 45.40625 8.203125 \nQ 42.578125 3.328125 38.25 0.953125 \nQ 33.9375 -1.421875 27.875 -1.421875 \nQ 17.96875 -1.421875 11.734375 6.484375 \nQ 5.515625 14.40625 5.515625 27.296875 \nQ 5.515625 40.1875 11.734375 48.09375 \nQ 17.96875 56 27.875 56 \nQ 33.9375 56 38.25 53.625 \nQ 42.578125 51.265625 45.40625 46.390625 \nz\nM 14.796875 27.296875 \nQ 14.796875 17.390625 18.875 11.75 \nQ 22.953125 6.109375 30.078125 6.109375 \nQ 37.203125 6.109375 41.296875 11.75 \nQ 45.40625 17.390625 45.40625 27.296875 \nQ 45.40625 37.203125 41.296875 42.84375 \nQ 37.203125 48.484375 30.078125 48.484375 \nQ 22.953125 48.484375 18.875 42.84375 \nQ 14.796875 37.203125 14.796875 27.296875 \nz\n\" id=\"DejaVuSans-100\"/>\n     </defs>\n     <use xlink:href=\"#DejaVuSans-65\"/>\n     <use x=\"68.408203\" xlink:href=\"#DejaVuSans-32\"/>\n     <use x=\"100.195312\" xlink:href=\"#DejaVuSans-103\"/>\n     <use x=\"163.671875\" xlink:href=\"#DejaVuSans-101\"/>\n     <use x=\"225.195312\" xlink:href=\"#DejaVuSans-110\"/>\n     <use x=\"288.574219\" xlink:href=\"#DejaVuSans-101\"/>\n     <use x=\"350.097656\" xlink:href=\"#DejaVuSans-114\"/>\n     <use x=\"391.210938\" xlink:href=\"#DejaVuSans-97\"/>\n     <use x=\"452.490234\" xlink:href=\"#DejaVuSans-116\"/>\n     <use x=\"491.699219\" xlink:href=\"#DejaVuSans-101\"/>\n     <use x=\"553.222656\" xlink:href=\"#DejaVuSans-100\"/>\n    </g>\n   </g>\n  </g>\n  <g id=\"axes_3\">\n   <g id=\"patch_12\">\n    <path d=\"M 35.304688 504.46769 \nL 1151.304688 504.46769 \nL 1151.304688 362.658995 \nL 35.304688 362.658995 \nz\n\" style=\"fill:#ffffff;\"/>\n   </g>\n   <g id=\"matplotlib.axis_5\">\n    <g id=\"xtick_13\">\n     <g id=\"line2d_23\">\n      <g>\n       <use style=\"stroke:#000000;stroke-width:0.8;\" x=\"86.03196\" xlink:href=\"#mc9740bb161\" y=\"504.46769\"/>\n      </g>\n     </g>\n     <g id=\"text_23\">\n      <!-- 0 -->\n      <g transform=\"translate(82.85071 519.066128)scale(0.1 -0.1)\">\n       <use xlink:href=\"#DejaVuSans-48\"/>\n      </g>\n     </g>\n    </g>\n    <g id=\"xtick_14\">\n     <g id=\"line2d_24\">\n      <g>\n       <use style=\"stroke:#000000;stroke-width:0.8;\" x=\"284.379068\" xlink:href=\"#mc9740bb161\" y=\"504.46769\"/>\n      </g>\n     </g>\n     <g id=\"text_24\">\n      <!-- 200 -->\n      <g transform=\"translate(274.835318 519.066128)scale(0.1 -0.1)\">\n       <use xlink:href=\"#DejaVuSans-50\"/>\n       <use x=\"63.623047\" xlink:href=\"#DejaVuSans-48\"/>\n       <use x=\"127.246094\" xlink:href=\"#DejaVuSans-48\"/>\n      </g>\n     </g>\n    </g>\n    <g id=\"xtick_15\">\n     <g id=\"line2d_25\">\n      <g>\n       <use style=\"stroke:#000000;stroke-width:0.8;\" x=\"482.726175\" xlink:href=\"#mc9740bb161\" y=\"504.46769\"/>\n      </g>\n     </g>\n     <g id=\"text_25\">\n      <!-- 400 -->\n      <g transform=\"translate(473.182425 519.066128)scale(0.1 -0.1)\">\n       <use xlink:href=\"#DejaVuSans-52\"/>\n       <use x=\"63.623047\" xlink:href=\"#DejaVuSans-48\"/>\n       <use x=\"127.246094\" xlink:href=\"#DejaVuSans-48\"/>\n      </g>\n     </g>\n    </g>\n    <g id=\"xtick_16\">\n     <g id=\"line2d_26\">\n      <g>\n       <use style=\"stroke:#000000;stroke-width:0.8;\" x=\"681.073283\" xlink:href=\"#mc9740bb161\" y=\"504.46769\"/>\n      </g>\n     </g>\n     <g id=\"text_26\">\n      <!-- 600 -->\n      <g transform=\"translate(671.529533 519.066128)scale(0.1 -0.1)\">\n       <use xlink:href=\"#DejaVuSans-54\"/>\n       <use x=\"63.623047\" xlink:href=\"#DejaVuSans-48\"/>\n       <use x=\"127.246094\" xlink:href=\"#DejaVuSans-48\"/>\n      </g>\n     </g>\n    </g>\n    <g id=\"xtick_17\">\n     <g id=\"line2d_27\">\n      <g>\n       <use style=\"stroke:#000000;stroke-width:0.8;\" x=\"879.42039\" xlink:href=\"#mc9740bb161\" y=\"504.46769\"/>\n      </g>\n     </g>\n     <g id=\"text_27\">\n      <!-- 800 -->\n      <g transform=\"translate(869.87664 519.066128)scale(0.1 -0.1)\">\n       <use xlink:href=\"#DejaVuSans-56\"/>\n       <use x=\"63.623047\" xlink:href=\"#DejaVuSans-48\"/>\n       <use x=\"127.246094\" xlink:href=\"#DejaVuSans-48\"/>\n      </g>\n     </g>\n    </g>\n    <g id=\"xtick_18\">\n     <g id=\"line2d_28\">\n      <g>\n       <use style=\"stroke:#000000;stroke-width:0.8;\" x=\"1077.767497\" xlink:href=\"#mc9740bb161\" y=\"504.46769\"/>\n      </g>\n     </g>\n     <g id=\"text_28\">\n      <!-- 1000 -->\n      <g transform=\"translate(1065.042497 519.066128)scale(0.1 -0.1)\">\n       <use xlink:href=\"#DejaVuSans-49\"/>\n       <use x=\"63.623047\" xlink:href=\"#DejaVuSans-48\"/>\n       <use x=\"127.246094\" xlink:href=\"#DejaVuSans-48\"/>\n       <use x=\"190.869141\" xlink:href=\"#DejaVuSans-48\"/>\n      </g>\n     </g>\n    </g>\n   </g>\n   <g id=\"matplotlib.axis_6\">\n    <g id=\"ytick_9\">\n     <g id=\"line2d_29\">\n      <g>\n       <use style=\"stroke:#000000;stroke-width:0.8;\" x=\"35.304688\" xlink:href=\"#m2c843ddd82\" y=\"465.792591\"/>\n      </g>\n     </g>\n     <g id=\"text_29\">\n      <!-- 0 -->\n      <g transform=\"translate(21.942187 469.59181)scale(0.1 -0.1)\">\n       <use xlink:href=\"#DejaVuSans-48\"/>\n      </g>\n     </g>\n    </g>\n    <g id=\"ytick_10\">\n     <g id=\"line2d_30\">\n      <g>\n       <use style=\"stroke:#000000;stroke-width:0.8;\" x=\"35.304688\" xlink:href=\"#m2c843ddd82\" y=\"425.50603\"/>\n      </g>\n     </g>\n     <g id=\"text_30\">\n      <!-- 5 -->\n      <g transform=\"translate(21.942187 429.305249)scale(0.1 -0.1)\">\n       <use xlink:href=\"#DejaVuSans-53\"/>\n      </g>\n     </g>\n    </g>\n    <g id=\"ytick_11\">\n     <g id=\"line2d_31\">\n      <g>\n       <use style=\"stroke:#000000;stroke-width:0.8;\" x=\"35.304688\" xlink:href=\"#m2c843ddd82\" y=\"385.219469\"/>\n      </g>\n     </g>\n     <g id=\"text_31\">\n      <!-- 10 -->\n      <g transform=\"translate(15.579687 389.018688)scale(0.1 -0.1)\">\n       <use xlink:href=\"#DejaVuSans-49\"/>\n       <use x=\"63.623047\" xlink:href=\"#DejaVuSans-48\"/>\n      </g>\n     </g>\n    </g>\n   </g>\n   <g id=\"line2d_32\">\n    <path clip-path=\"url(#p144b795d63)\" d=\"M 86.03196 457.735279 \nL 87.023696 449.677967 \nL 88.015431 449.677967 \nL 89.007167 441.620655 \nL 89.998902 441.620655 \nL 90.990638 433.563342 \nL 102.891464 433.563342 \nL 103.8832 441.620655 \nL 118.759233 441.620655 \nL 119.750968 449.677967 \nL 124.709646 449.677967 \nL 125.701382 441.620655 \nL 148.511299 441.620655 \nL 149.503035 449.677967 \nL 158.428654 449.677967 \nL 159.42039 441.620655 \nL 189.172456 441.620655 \nL 190.164192 433.563342 \nL 194.131134 433.563342 \nL 195.122869 441.620655 \nL 200.081547 441.620655 \nL 201.073283 449.677967 \nL 209.998902 449.677967 \nL 210.990638 457.735279 \nL 214.95758 457.735279 \nL 215.949316 465.792591 \nL 238.759233 465.792591 \nL 239.750968 457.735279 \nL 240.742704 457.735279 \nL 241.73444 449.677967 \nL 243.717911 417.448718 \nL 244.709646 409.391406 \nL 245.701382 393.276781 \nL 246.693117 385.219469 \nL 249.668324 385.219469 \nL 250.660059 393.276781 \nL 252.64353 425.50603 \nL 253.635266 433.563342 \nL 254.627002 449.677967 \nL 256.610473 465.792591 \nL 262.560886 465.792591 \nL 263.552621 473.849904 \nL 286.362539 473.849904 \nL 287.354274 465.792591 \nL 334.95758 465.792591 \nL 335.949316 473.849904 \nL 344.874935 473.849904 \nL 345.866671 481.907216 \nL 354.792291 481.907216 \nL 355.784026 489.964528 \nL 364.709646 489.964528 \nL 365.701382 481.907216 \nL 395.453448 481.907216 \nL 396.445183 473.849904 \nL 472.80882 473.849904 \nL 473.800555 465.792591 \nL 544.213778 465.792591 \nL 545.205514 457.735279 \nL 546.197249 441.620655 \nL 547.188985 433.563342 \nL 548.180721 417.448718 \nL 549.172456 409.391406 \nL 550.164192 393.276781 \nL 553.139398 393.276781 \nL 554.131134 401.334093 \nL 555.122869 417.448718 \nL 556.114605 425.50603 \nL 558.098076 457.735279 \nL 559.089811 465.792591 \nL 560.081547 465.792591 \nL 561.073283 473.849904 \nL 591.817084 473.849904 \nL 592.80882 465.792591 \nL 619.585679 465.792591 \nL 620.577415 457.735279 \nL 633.469977 457.735279 \nL 634.461712 465.792591 \nL 647.354274 465.792591 \nL 648.34601 473.849904 \nL 651.321216 473.849904 \nL 652.312952 481.907216 \nL 684.048489 481.907216 \nL 685.040225 473.849904 \nL 701.899729 473.849904 \nL 702.891464 481.907216 \nL 707.850142 481.907216 \nL 708.841878 473.849904 \nL 776.279894 473.849904 \nL 777.27163 465.792591 \nL 841.73444 465.792591 \nL 843.717911 449.677967 \nL 844.709646 433.563342 \nL 845.701382 425.50603 \nL 848.676588 377.162157 \nL 849.668324 369.104844 \nL 850.660059 369.104844 \nL 851.651795 377.162157 \nL 852.64353 393.276781 \nL 853.635266 417.448718 \nL 854.627002 433.563342 \nL 855.618737 457.735279 \nL 856.610473 465.792591 \nL 904.213778 465.792591 \nL 905.205514 457.735279 \nL 918.098076 457.735279 \nL 919.089811 449.677967 \nL 933.965845 449.677967 \nL 934.95758 457.735279 \nL 944.874935 457.735279 \nL 945.866671 465.792591 \nL 969.668324 465.792591 \nL 970.660059 473.849904 \nL 991.486506 473.849904 \nL 992.478241 465.792591 \nL 1057.932787 465.792591 \nL 1058.924522 473.849904 \nL 1060.907993 473.849904 \nL 1061.899729 481.907216 \nL 1064.874935 481.907216 \nL 1065.866671 489.964528 \nL 1074.792291 489.964528 \nL 1075.784026 498.02184 \nL 1088.676588 498.02184 \nL 1089.668324 489.964528 \nL 1097.602208 489.964528 \nL 1098.593944 481.907216 \nL 1100.577415 481.907216 \nL 1100.577415 481.907216 \n\" style=\"fill:none;stroke:#1f77b4;stroke-linecap:square;stroke-width:1.5;\"/>\n   </g>\n   <g id=\"patch_13\">\n    <path d=\"M 35.304688 504.46769 \nL 35.304688 362.658995 \n\" style=\"fill:none;stroke:#000000;stroke-linecap:square;stroke-linejoin:miter;stroke-width:0.8;\"/>\n   </g>\n   <g id=\"patch_14\">\n    <path d=\"M 1151.304688 504.46769 \nL 1151.304688 362.658995 \n\" style=\"fill:none;stroke:#000000;stroke-linecap:square;stroke-linejoin:miter;stroke-width:0.8;\"/>\n   </g>\n   <g id=\"patch_15\">\n    <path d=\"M 35.304688 504.46769 \nL 1151.304688 504.46769 \n\" style=\"fill:none;stroke:#000000;stroke-linecap:square;stroke-linejoin:miter;stroke-width:0.8;\"/>\n   </g>\n   <g id=\"patch_16\">\n    <path d=\"M 35.304688 362.658995 \nL 1151.304688 362.658995 \n\" style=\"fill:none;stroke:#000000;stroke-linecap:square;stroke-linejoin:miter;stroke-width:0.8;\"/>\n   </g>\n   <g id=\"text_32\">\n    <!-- N -->\n    <g transform=\"translate(588.815938 356.658995)scale(0.12 -0.12)\">\n     <defs>\n      <path d=\"M 9.8125 72.90625 \nL 23.09375 72.90625 \nL 55.421875 11.921875 \nL 55.421875 72.90625 \nL 64.984375 72.90625 \nL 64.984375 0 \nL 51.703125 0 \nL 19.390625 60.984375 \nL 19.390625 0 \nL 9.8125 0 \nz\n\" id=\"DejaVuSans-78\"/>\n     </defs>\n     <use xlink:href=\"#DejaVuSans-78\"/>\n    </g>\n   </g>\n  </g>\n  <g id=\"axes_4\">\n   <g id=\"patch_17\">\n    <path d=\"M 35.304688 674.638125 \nL 1151.304688 674.638125 \nL 1151.304688 532.829429 \nL 35.304688 532.829429 \nz\n\" style=\"fill:#ffffff;\"/>\n   </g>\n   <g id=\"matplotlib.axis_7\">\n    <g id=\"xtick_19\">\n     <g id=\"line2d_33\">\n      <g>\n       <use style=\"stroke:#000000;stroke-width:0.8;\" x=\"86.03196\" xlink:href=\"#mc9740bb161\" y=\"674.638125\"/>\n      </g>\n     </g>\n     <g id=\"text_33\">\n      <!-- 0 -->\n      <g transform=\"translate(82.85071 689.236563)scale(0.1 -0.1)\">\n       <use xlink:href=\"#DejaVuSans-48\"/>\n      </g>\n     </g>\n    </g>\n    <g id=\"xtick_20\">\n     <g id=\"line2d_34\">\n      <g>\n       <use style=\"stroke:#000000;stroke-width:0.8;\" x=\"284.573145\" xlink:href=\"#mc9740bb161\" y=\"674.638125\"/>\n      </g>\n     </g>\n     <g id=\"text_34\">\n      <!-- 100 -->\n      <g transform=\"translate(275.029395 689.236563)scale(0.1 -0.1)\">\n       <use xlink:href=\"#DejaVuSans-49\"/>\n       <use x=\"63.623047\" xlink:href=\"#DejaVuSans-48\"/>\n       <use x=\"127.246094\" xlink:href=\"#DejaVuSans-48\"/>\n      </g>\n     </g>\n    </g>\n    <g id=\"xtick_21\">\n     <g id=\"line2d_35\">\n      <g>\n       <use style=\"stroke:#000000;stroke-width:0.8;\" x=\"483.11433\" xlink:href=\"#mc9740bb161\" y=\"674.638125\"/>\n      </g>\n     </g>\n     <g id=\"text_35\">\n      <!-- 200 -->\n      <g transform=\"translate(473.57058 689.236563)scale(0.1 -0.1)\">\n       <use xlink:href=\"#DejaVuSans-50\"/>\n       <use x=\"63.623047\" xlink:href=\"#DejaVuSans-48\"/>\n       <use x=\"127.246094\" xlink:href=\"#DejaVuSans-48\"/>\n      </g>\n     </g>\n    </g>\n    <g id=\"xtick_22\">\n     <g id=\"line2d_36\">\n      <g>\n       <use style=\"stroke:#000000;stroke-width:0.8;\" x=\"681.655515\" xlink:href=\"#mc9740bb161\" y=\"674.638125\"/>\n      </g>\n     </g>\n     <g id=\"text_36\">\n      <!-- 300 -->\n      <g transform=\"translate(672.111765 689.236563)scale(0.1 -0.1)\">\n       <defs>\n        <path d=\"M 40.578125 39.3125 \nQ 47.65625 37.796875 51.625 33 \nQ 55.609375 28.21875 55.609375 21.1875 \nQ 55.609375 10.40625 48.1875 4.484375 \nQ 40.765625 -1.421875 27.09375 -1.421875 \nQ 22.515625 -1.421875 17.65625 -0.515625 \nQ 12.796875 0.390625 7.625 2.203125 \nL 7.625 11.71875 \nQ 11.71875 9.328125 16.59375 8.109375 \nQ 21.484375 6.890625 26.8125 6.890625 \nQ 36.078125 6.890625 40.9375 10.546875 \nQ 45.796875 14.203125 45.796875 21.1875 \nQ 45.796875 27.640625 41.28125 31.265625 \nQ 36.765625 34.90625 28.71875 34.90625 \nL 20.21875 34.90625 \nL 20.21875 43.015625 \nL 29.109375 43.015625 \nQ 36.375 43.015625 40.234375 45.921875 \nQ 44.09375 48.828125 44.09375 54.296875 \nQ 44.09375 59.90625 40.109375 62.90625 \nQ 36.140625 65.921875 28.71875 65.921875 \nQ 24.65625 65.921875 20.015625 65.03125 \nQ 15.375 64.15625 9.8125 62.3125 \nL 9.8125 71.09375 \nQ 15.4375 72.65625 20.34375 73.4375 \nQ 25.25 74.21875 29.59375 74.21875 \nQ 40.828125 74.21875 47.359375 69.109375 \nQ 53.90625 64.015625 53.90625 55.328125 \nQ 53.90625 49.265625 50.4375 45.09375 \nQ 46.96875 40.921875 40.578125 39.3125 \nz\n\" id=\"DejaVuSans-51\"/>\n       </defs>\n       <use xlink:href=\"#DejaVuSans-51\"/>\n       <use x=\"63.623047\" xlink:href=\"#DejaVuSans-48\"/>\n       <use x=\"127.246094\" xlink:href=\"#DejaVuSans-48\"/>\n      </g>\n     </g>\n    </g>\n    <g id=\"xtick_23\">\n     <g id=\"line2d_37\">\n      <g>\n       <use style=\"stroke:#000000;stroke-width:0.8;\" x=\"880.1967\" xlink:href=\"#mc9740bb161\" y=\"674.638125\"/>\n      </g>\n     </g>\n     <g id=\"text_37\">\n      <!-- 400 -->\n      <g transform=\"translate(870.65295 689.236563)scale(0.1 -0.1)\">\n       <use xlink:href=\"#DejaVuSans-52\"/>\n       <use x=\"63.623047\" xlink:href=\"#DejaVuSans-48\"/>\n       <use x=\"127.246094\" xlink:href=\"#DejaVuSans-48\"/>\n      </g>\n     </g>\n    </g>\n    <g id=\"xtick_24\">\n     <g id=\"line2d_38\">\n      <g>\n       <use style=\"stroke:#000000;stroke-width:0.8;\" x=\"1078.737884\" xlink:href=\"#mc9740bb161\" y=\"674.638125\"/>\n      </g>\n     </g>\n     <g id=\"text_38\">\n      <!-- 500 -->\n      <g transform=\"translate(1069.194134 689.236563)scale(0.1 -0.1)\">\n       <use xlink:href=\"#DejaVuSans-53\"/>\n       <use x=\"63.623047\" xlink:href=\"#DejaVuSans-48\"/>\n       <use x=\"127.246094\" xlink:href=\"#DejaVuSans-48\"/>\n      </g>\n     </g>\n    </g>\n   </g>\n   <g id=\"matplotlib.axis_8\">\n    <g id=\"ytick_12\">\n     <g id=\"line2d_39\">\n      <g>\n       <use style=\"stroke:#000000;stroke-width:0.8;\" x=\"35.304688\" xlink:href=\"#m2c843ddd82\" y=\"662.820734\"/>\n      </g>\n     </g>\n     <g id=\"text_39\">\n      <!-- −10 -->\n      <g transform=\"translate(7.2 666.619952)scale(0.1 -0.1)\">\n       <defs>\n        <path d=\"M 10.59375 35.5 \nL 73.1875 35.5 \nL 73.1875 27.203125 \nL 10.59375 27.203125 \nz\n\" id=\"DejaVuSans-8722\"/>\n       </defs>\n       <use xlink:href=\"#DejaVuSans-8722\"/>\n       <use x=\"83.789062\" xlink:href=\"#DejaVuSans-49\"/>\n       <use x=\"147.412109\" xlink:href=\"#DejaVuSans-48\"/>\n      </g>\n     </g>\n    </g>\n    <g id=\"ytick_13\">\n     <g id=\"line2d_40\">\n      <g>\n       <use style=\"stroke:#000000;stroke-width:0.8;\" x=\"35.304688\" xlink:href=\"#m2c843ddd82\" y=\"635.963026\"/>\n      </g>\n     </g>\n     <g id=\"text_40\">\n      <!-- −5 -->\n      <g transform=\"translate(13.5625 639.762245)scale(0.1 -0.1)\">\n       <use xlink:href=\"#DejaVuSans-8722\"/>\n       <use x=\"83.789062\" xlink:href=\"#DejaVuSans-53\"/>\n      </g>\n     </g>\n    </g>\n    <g id=\"ytick_14\">\n     <g id=\"line2d_41\">\n      <g>\n       <use style=\"stroke:#000000;stroke-width:0.8;\" x=\"35.304688\" xlink:href=\"#m2c843ddd82\" y=\"609.105319\"/>\n      </g>\n     </g>\n     <g id=\"text_41\">\n      <!-- 0 -->\n      <g transform=\"translate(21.942187 612.904537)scale(0.1 -0.1)\">\n       <use xlink:href=\"#DejaVuSans-48\"/>\n      </g>\n     </g>\n    </g>\n    <g id=\"ytick_15\">\n     <g id=\"line2d_42\">\n      <g>\n       <use style=\"stroke:#000000;stroke-width:0.8;\" x=\"35.304688\" xlink:href=\"#m2c843ddd82\" y=\"582.247611\"/>\n      </g>\n     </g>\n     <g id=\"text_42\">\n      <!-- 5 -->\n      <g transform=\"translate(21.942187 586.04683)scale(0.1 -0.1)\">\n       <use xlink:href=\"#DejaVuSans-53\"/>\n      </g>\n     </g>\n    </g>\n    <g id=\"ytick_16\">\n     <g id=\"line2d_43\">\n      <g>\n       <use style=\"stroke:#000000;stroke-width:0.8;\" x=\"35.304688\" xlink:href=\"#m2c843ddd82\" y=\"555.389904\"/>\n      </g>\n     </g>\n     <g id=\"text_43\">\n      <!-- 10 -->\n      <g transform=\"translate(15.579687 559.189122)scale(0.1 -0.1)\">\n       <use xlink:href=\"#DejaVuSans-49\"/>\n       <use x=\"63.623047\" xlink:href=\"#DejaVuSans-48\"/>\n      </g>\n     </g>\n    </g>\n   </g>\n   <g id=\"line2d_44\">\n    <path clip-path=\"url(#pe11dfd3d98)\" d=\"M 86.03196 609.105319 \nL 173.390082 609.105319 \nL 175.375493 614.47686 \nL 179.346317 657.449192 \nL 181.331729 668.192275 \nL 183.317141 662.820734 \nL 187.287964 598.362236 \nL 189.273376 582.247611 \nL 191.258788 582.247611 \nL 193.2442 598.362236 \nL 195.229612 609.105319 \nL 203.171259 609.105319 \nL 205.156671 603.733777 \nL 211.112907 603.733777 \nL 213.098319 609.105319 \nL 308.398087 609.105319 \nL 310.383499 603.733777 \nL 312.368911 587.619153 \nL 314.354323 566.132987 \nL 316.339735 550.018362 \nL 318.325146 539.275279 \nL 322.29597 550.018362 \nL 324.281382 566.132987 \nL 326.266794 587.619153 \nL 328.252206 603.733777 \nL 330.237618 609.105319 \nL 443.406093 609.105319 \nL 445.391505 614.47686 \nL 447.376917 625.219943 \nL 449.362328 625.219943 \nL 455.318564 609.105319 \nL 459.289388 609.105319 \nL 461.2748 614.47686 \nL 463.260211 625.219943 \nL 465.245623 630.591485 \nL 467.231035 625.219943 \nL 469.216447 614.47686 \nL 471.201859 609.105319 \nL 804.751049 609.105319 \nL 806.736461 614.47686 \nL 810.707285 646.706109 \nL 812.692697 652.077651 \nL 814.678109 641.334568 \nL 818.648932 587.619153 \nL 820.634344 576.87607 \nL 822.619756 582.247611 \nL 826.59058 614.47686 \nL 828.575992 641.334568 \nL 830.561403 657.449192 \nL 832.546815 652.077651 \nL 836.517639 609.105319 \nL 838.503051 603.733777 \nL 844.459286 603.733777 \nL 846.444698 609.105319 \nL 939.759055 609.105319 \nL 943.729879 587.619153 \nL 945.715291 582.247611 \nL 947.700702 598.362236 \nL 951.671526 619.848402 \nL 959.613174 619.848402 \nL 963.583997 609.105319 \nL 1076.752473 609.105319 \nL 1078.737884 619.848402 \nL 1080.723296 625.219943 \nL 1082.708708 625.219943 \nL 1084.69412 614.47686 \nL 1086.679532 609.105319 \nL 1100.577415 609.105319 \nL 1100.577415 609.105319 \n\" style=\"fill:none;stroke:#1f77b4;stroke-linecap:square;stroke-width:1.5;\"/>\n   </g>\n   <g id=\"patch_18\">\n    <path d=\"M 35.304688 674.638125 \nL 35.304688 532.829429 \n\" style=\"fill:none;stroke:#000000;stroke-linecap:square;stroke-linejoin:miter;stroke-width:0.8;\"/>\n   </g>\n   <g id=\"patch_19\">\n    <path d=\"M 1151.304688 674.638125 \nL 1151.304688 532.829429 \n\" style=\"fill:none;stroke:#000000;stroke-linecap:square;stroke-linejoin:miter;stroke-width:0.8;\"/>\n   </g>\n   <g id=\"patch_20\">\n    <path d=\"M 35.304687 674.638125 \nL 1151.304688 674.638125 \n\" style=\"fill:none;stroke:#000000;stroke-linecap:square;stroke-linejoin:miter;stroke-width:0.8;\"/>\n   </g>\n   <g id=\"patch_21\">\n    <path d=\"M 35.304687 532.829429 \nL 1151.304688 532.829429 \n\" style=\"fill:none;stroke:#000000;stroke-linecap:square;stroke-linejoin:miter;stroke-width:0.8;\"/>\n   </g>\n   <g id=\"text_44\">\n    <!-- N generated -->\n    <g transform=\"translate(555.917187 526.829429)scale(0.12 -0.12)\">\n     <use xlink:href=\"#DejaVuSans-78\"/>\n     <use x=\"74.804688\" xlink:href=\"#DejaVuSans-32\"/>\n     <use x=\"106.591797\" xlink:href=\"#DejaVuSans-103\"/>\n     <use x=\"170.068359\" xlink:href=\"#DejaVuSans-101\"/>\n     <use x=\"231.591797\" xlink:href=\"#DejaVuSans-110\"/>\n     <use x=\"294.970703\" xlink:href=\"#DejaVuSans-101\"/>\n     <use x=\"356.494141\" xlink:href=\"#DejaVuSans-114\"/>\n     <use x=\"397.607422\" xlink:href=\"#DejaVuSans-97\"/>\n     <use x=\"458.886719\" xlink:href=\"#DejaVuSans-116\"/>\n     <use x=\"498.095703\" xlink:href=\"#DejaVuSans-101\"/>\n     <use x=\"559.619141\" xlink:href=\"#DejaVuSans-100\"/>\n    </g>\n   </g>\n  </g>\n </g>\n <defs>\n  <clipPath id=\"pf3dc68884a\">\n   <rect height=\"141.808696\" width=\"1116\" x=\"35.304688\" y=\"22.318125\"/>\n  </clipPath>\n  <clipPath id=\"p2a8f0b06f6\">\n   <rect height=\"141.808696\" width=\"1116\" x=\"35.304688\" y=\"192.48856\"/>\n  </clipPath>\n  <clipPath id=\"p144b795d63\">\n   <rect height=\"141.808696\" width=\"1116\" x=\"35.304688\" y=\"362.658995\"/>\n  </clipPath>\n  <clipPath id=\"pe11dfd3d98\">\n   <rect height=\"141.808696\" width=\"1116\" x=\"35.304688\" y=\"532.829429\"/>\n  </clipPath>\n </defs>\n</svg>\n",
            "image/png": "[encoded data removed]"
          },
          "metadata": {}
        }
      ]
    },
    {
      "cell_type": "code",
      "metadata": {
        "id": "FAn3FuLwV9KY",
        "colab_type": "code",
        "colab": {}
      },
      "source": [
        "# Data augmentation\n",
        "def slice_data(dataset, x_len=x_len, hop=x_len//2):\n",
        "  \"\"\" Method\n",
        "  1. Input: (N, variable_length) for each in N:\n",
        "  2. cut(ij, x_len) and slide hop\n",
        "  |-------data_len-------|\n",
        "  |---x_len---|\n",
        "  hop|---x_len---|\n",
        "  hop|hop|---x_len---|\n",
        "  hop|hop|hop|---x_len---|\n",
        "  \"\"\"\n",
        "  out_X = []\n",
        "  if dataset[0].shape:\n",
        "    for i in range(len(dataset)):\n",
        "      audio = dataset[i]\n",
        "      n_slices = (len(audio) - x_len) // hop + 1\n",
        "      audio_slices = []\n",
        "      for j in range(n_slices):\n",
        "        audio_slices.append(audio[j*hop:j*hop+x_len])\n",
        "\n",
        "      out_X.extend(audio_slices)\n",
        "  else:\n",
        "    audio = dataset\n",
        "    n_slices = (len(audio) - x_len) // hop + 1\n",
        "    audio_slices = []\n",
        "    for j in range(n_slices):\n",
        "      audio_slices.append(audio[j*hop:j*hop+x_len])\n",
        "\n",
        "    out_X.extend(audio_slices)\n",
        "  return np.asarray(out_X)\n",
        "\n",
        "def generate_data(dataset, wave_generator,  n_pred=n_predictions, x_len=x_len, hop=x_len//4, lf=False):\n",
        "  \"\"\" Method\n",
        "  |--------------data_len-------------|\n",
        "  |---x_len---|---x_len---|---x_len---|\n",
        "  |---x_len---|n_pred|---x_len---|n_pred|---x_len---|\n",
        "  Then slide and cut\n",
        "  \"\"\"\n",
        "  out_X = []\n",
        "  for i in range(len(dataset)):\n",
        "    audio = dataset[i]\n",
        "    n_inserts = len(audio) // x_len - 1\n",
        "    audio_slices = []\n",
        "    for j in range(n_inserts):\n",
        "      x = audio[j*(x_len+n_pred) : j*(x_len+n_pred)+x_len]\n",
        "      y = wave_generator.run(x, n_pred)\n",
        "      # if y.max() + y.min() < 0:\n",
        "      #   y = -y\n",
        "      y = (y - y.mean()) / (y.std() + 1e-8)\n",
        "      # tmp = np.where(np.abs(y)<=1)[0]\n",
        "      # y[tmp] = x[tmp + np.random.randint(n_pred)]\n",
        "      if lf:\n",
        "        y_lf = filtfilt(b, a, y)\n",
        "        y_digit = np.asarray(y_lf / (np.abs(y_lf).max() + 1e-8) * np.abs(x).max(), dtype=np.int16)\n",
        "        audio = np.concatenate([x, y_digit, audio[x_len:]])\n",
        "      else:\n",
        "        audio = np.concatenate([x, y / (np.abs(y).max() + 1e-8) * np.abs(x).max(), audio[x_len:]])\n",
        "\n",
        "    audio_slices = slice_data(audio, x_len=x_len, hop=hop)\n",
        "    out_X.extend(audio_slices)\n",
        "  \n",
        "  return np.asarray(out_X)\n"
      ],
      "execution_count": 15,
      "outputs": []
    },
    {
      "cell_type": "code",
      "metadata": {
        "id": "VTUja83EQKI8",
        "colab_type": "code",
        "colab": {},
        "tags": []
      },
      "source": [
        "print('before: ', A_data.shape)\n",
        "A_data_new = generate_data(A_data, A_wave_generator, n_pred=n_predictions, x_len=x_len, hop=x_len//8, lf=False)\n",
        "print('after: ', A_data_new.shape)"
      ],
      "execution_count": 16,
      "outputs": [
        {
          "output_type": "stream",
          "name": "stdout",
          "text": "before:  (758,)\nafter:  (33119, 2048)\n"
        }
      ]
    },
    {
      "cell_type": "code",
      "metadata": {
        "id": "sOYFGtxAiDVV",
        "colab_type": "code",
        "colab": {},
        "tags": []
      },
      "source": [
        "print('before: ', N_data.shape)\n",
        "# N_data_new = slice_data(N_data, x_len=x_len, hop=x_len//2)\n",
        "N_data_new = generate_data(N_data, N_wave_generator, n_pred=n_predictions//2, x_len=x_len, hop=x_len*3//4, lf=False)\n",
        "print('after: ', N_data_new.shape)"
      ],
      "execution_count": 17,
      "outputs": [
        {
          "output_type": "stream",
          "name": "stdout",
          "text": "before:  (5076,)\nafter:  (32906, 2048)\n"
        }
      ]
    },
    {
      "cell_type": "code",
      "metadata": {
        "id": "MYmnh_jKiS69",
        "colab_type": "code",
        "colab": {}
      },
      "source": [
        "with open('A_data_new.pkl', 'wb') as f:\n",
        "  pickle.dump(A_data_new.reshape(-1, 1, 2048), f)\n",
        "with open('N_data_new.pkl', 'wb') as f:\n",
        "  pickle.dump(N_data_new.reshape(-1, 1, 2048), f)"
      ],
      "execution_count": 18,
      "outputs": []
    },
    {
      "cell_type": "code",
      "metadata": {
        "id": "wLUnubIdiTcs",
        "colab_type": "code",
        "colab": {},
        "tags": []
      },
      "source": [
        "# A:1, N:0\n",
        "all_data_new = np.concatenate([A_data_new, N_data_new])\n",
        "all_label_new = np.concatenate([np.ones(A_data_new.shape[0], dtype=int), np.zeros(N_data_new.shape[0], dtype=int)])\n",
        "X_train, X_test, Y_train, Y_test = train_test_split(\n",
        "    all_data_new.reshape(-1, 1, x_len), all_label_new, test_size=0.1, random_state=0)\n",
        "print(Counter(Y_train), Counter(Y_test))"
      ],
      "execution_count": 19,
      "outputs": [
        {
          "output_type": "stream",
          "name": "stdout",
          "text": "Counter({1: 29864, 0: 29558}) Counter({0: 3348, 1: 3255})\n"
        }
      ]
    },
    {
      "cell_type": "code",
      "metadata": {
        "id": "wSbrlOjjmdgG",
        "colab_type": "code",
        "colab": {}
      },
      "source": [
        "dataset = MyDataset(X_train, Y_train)\n",
        "dataset_test = MyDataset(X_test, Y_test)\n",
        "dataloader = DataLoader(dataset, batch_size=batch_size)\n",
        "dataloader_test = DataLoader(dataset_test, batch_size=batch_size, drop_last=False)"
      ],
      "execution_count": 20,
      "outputs": []
    },
    {
      "cell_type": "code",
      "execution_count": null,
      "metadata": {},
      "outputs": [],
      "source": []
    },
    {
      "cell_type": "code",
      "metadata": {
        "id": "0w9rMxkrmc_x",
        "colab_type": "code",
        "colab": {}
      },
      "source": [
        ""
      ],
      "execution_count": null,
      "outputs": []
    },
    {
      "cell_type": "markdown",
      "metadata": {
        "id": "p5KGVdHwd8IU",
        "colab_type": "text"
      },
      "source": [
        "## 2. Model\n",
        ">CNN (-> mean) -> RNN (-> squeeze) -> Attention\n",
        "\n",
        "The attention model is illustrated in [Multi-class Arrhythmia detection](https://www.sciencedirect.com/science/article/pii/S1566253518307632). "
      ]
    },
    {
      "cell_type": "code",
      "metadata": {
        "id": "ionTv5Fq2hVa",
        "colab_type": "code",
        "colab": {}
      },
      "source": [
        "# \"\"\" Get Slid and cut augmented data \"\"\"\n",
        "# # before: Counter({0: 4580, 1: 670}) Counter({0: 496, 1: 88})\n",
        "# X_train, X_test, Y_train, Y_test, pid_test = read_data(\n",
        "#     DATA_PATH, window_size=win_size, stride=stride, cut=True, bit=True)\n",
        "# print(X_train.shape, X_test.shape)\n",
        "\n",
        "# dataset = MyDataset(X_train, Y_train)\n",
        "# dataset_test = MyDataset(X_test, Y_test)\n",
        "# dataloader = DataLoader(dataset, batch_size=batch_size)\n",
        "# dataloader_test = DataLoader(dataset_test, batch_size=batch_size, drop_last=False)"
      ],
      "execution_count": 21,
      "outputs": []
    },
    {
      "cell_type": "code",
      "metadata": {
        "id": "jE201iZokBYs",
        "colab_type": "code",
        "colab": {}
      },
      "source": [
        "class CRANN(nn.Module):\n",
        "  \"\"\"\n",
        "  Input:\n",
        "      X: (n_samples, n_channel, n_length)\n",
        "      Y: (n_samples)\n",
        "  Output:\n",
        "      out: (n_samples)\n",
        "  Pararmetes:\n",
        "      n_classes: number of classes\n",
        "  \"\"\"\n",
        "\n",
        "  def __init__(self, in_channels, out_channels, att_channels, n_len_seg, n_classes, device, verbose=False):\n",
        "    super(CRANN, self).__init__()\n",
        "    \n",
        "    self.n_len_seg = n_len_seg\n",
        "    self.n_classes = n_classes\n",
        "    self.in_channels = in_channels\n",
        "    self.out_channels = out_channels\n",
        "    self.att_channels = att_channels\n",
        "\n",
        "    self.device = device\n",
        "    self.verbose = verbose\n",
        "\n",
        "    # (batch, channels, length)\n",
        "    self.cnn = nn.Conv1d(in_channels=self.in_channels, \n",
        "                         out_channels=self.out_channels, \n",
        "                         kernel_size=16, \n",
        "                         stride=4)\n",
        "    self.cnn2 = nn.Conv1d(in_channels=self.out_channels, \n",
        "                         out_channels=self.out_channels, \n",
        "                         kernel_size=4,\n",
        "                         stride=2)\n",
        "    # (batch, seq, feature)\n",
        "    self.rnn = nn.LSTM(input_size=(self.out_channels), \n",
        "                       hidden_size=self.out_channels, \n",
        "                       num_layers=1, \n",
        "                       batch_first=True, \n",
        "                       bidirectional=False)\n",
        "    # attention\n",
        "    self.W = nn.Parameter(torch.randn(self.out_channels, self.att_channels))\n",
        "    self.V = nn.Parameter(torch.randn(self.att_channels, 1))\n",
        "    self.dense = nn.Linear(out_channels, n_classes)\n",
        "\n",
        "  def forward(self, x):\n",
        "\n",
        "    self.n_channel, self.n_length = x.shape[-2], x.shape[-1]\n",
        "    assert (self.n_length % self.n_len_seg == 0), \"Input n_length should divided by n_len_seg\"\n",
        "    self.n_seg = self.n_length // self.n_len_seg\n",
        "\n",
        "    out = x\n",
        "    if self.verbose: print(out.shape) # ([128, 1, 3000])\n",
        "    out = nn.BatchNorm1d(1)(out)\n",
        "    # (n_samples, n_channel, n_length) -> (n_samples, n_length, n_channel)\n",
        "    out = out.permute(0, 2, 1)\n",
        "    if self.verbose: print(out.shape) # ([128, 3000, 1])\n",
        "    # (n_samples, n_length, n_channel) -> (n_samples*n_seg, n_len_seg, n_channel)\n",
        "    out = out.view(-1, self.n_len_seg, self.n_channel)\n",
        "    if self.verbose: print(out.shape) # ([7680, 50, 1])\n",
        "    # (n_samples*n_seg, n_len_seg, n_channel) -> (n_samples*n_seg, n_channel, n_len_seg)\n",
        "    out = out.permute(0, 2, 1)\n",
        "    if self.verbose: print(out.shape) # ([7680, 1, 50])\n",
        "    # cnn\n",
        "    out = self.cnn(out)\n",
        "    if self.verbose: print('cnn', out.shape) # ([7680, 16, 9])\n",
        "    out = nn.BatchNorm1d(self.out_channels)(out)\n",
        "    out = self.cnn2(out)\n",
        "    if self.verbose: print('cnn2', out.shape) # ([7680, 16, 3])\n",
        "    out = nn.BatchNorm1d(self.out_channels)(out)\n",
        "    # global avg, (n_samples*n_seg, out_channels)\n",
        "    out = out.mean(-1)\n",
        "    if self.verbose: print('mean', out.shape) # ([7680, 16])\n",
        "    # global avg, (n_samples, n_seg, out_channels)\n",
        "    out = out.view(-1, self.n_seg, self.out_channels)\n",
        "    if self.verbose: print(out.shape) # ([128, 60, 16])\n",
        "    # rnn\n",
        "    out, (_, _) = self.rnn(out) # output, (h_n, c_n)\n",
        "    if self.verbose: print('rnn', out.shape) # ([128, 60, 16])\n",
        "    # self attention\n",
        "    e = torch.matmul(out, self.W)\n",
        "    if self.verbose: print('w', e.shape) # ([128, 60, 16])\n",
        "    e = torch.matmul(torch.tanh(e), self.V)\n",
        "    if self.verbose: print('v', e.shape) # ([128, 60, 16])\n",
        "    n1 = torch.exp(e)\n",
        "    n2 = torch.sum(torch.exp(e), 1, keepdim=True)\n",
        "    gama = torch.div(n1, n2)\n",
        "    if self.verbose: print('g', gama.shape) # ([128, 60, 1])\n",
        "    out = torch.sum(torch.mul(gama, out), 1)\n",
        "    if self.verbose: print('att_out', out.shape) # ([128, 16])\n",
        "    # dense\n",
        "    out = nn.Dropout(0.2)(out)\n",
        "    out = self.dense(out)\n",
        "    if self.verbose: print(out.shape) # ([128, 2])\n",
        "    \n",
        "    return out\n",
        "\n",
        "  def predict_proba(self, x):\n",
        "    if len(x.shape) < 3:\n",
        "      y = F.softmax(self.forward(torch.FloatTensor(x.reshape(1, 1, -1))), dim=1)\n",
        "      pred = y.cpu().data.numpy()[0]\n",
        "    else:\n",
        "      pred = []\n",
        "      for i in range(x.shape[0]):\n",
        "        y = F.softmax(self.forward(torch.FloatTensor(x.reshape(1, 1, -1))), dim=1)\n",
        "        pred.append(y.cpu().data.numpy()[0])\n",
        "      pred = np.asarray(pred)\n",
        "    if pred.min() < 0. or pred.max() > 1.:\n",
        "      print('warning: Network returning invalid probability values.')\n",
        "      return x[np.where(pred<0)[0]]\n",
        "    return pred\n",
        "\n",
        "  def predict(self, x):\n",
        "    if len(x.shape) < 3:\n",
        "      pred = self.forward(torch.FloatTensor(x.reshape(1, 1, -1)))\n",
        "      pred = pred.cpu().data.numpy()[0].argmax()\n",
        "    else:\n",
        "      pred = []\n",
        "      for i in range(x.shape[0]):\n",
        "        y = self.forward(torch.FloatTensor(x[i].reshape(1, 1, -1)))\n",
        "        pred.append(y.cpu().data.numpy()[0].argmax())\n",
        "      pred = np.asarray(pred)\n",
        "    return pred\n"
      ],
      "execution_count": 22,
      "outputs": []
    },
    {
      "cell_type": "code",
      "metadata": {
        "id": "QPpJAw_8jzGh",
        "colab_type": "code",
        "colab": {}
      },
      "source": [
        "# Build a genneral function to train model\n",
        "def train(model, is_debug=False, batch_size=128, win_size=2048, n_epoch=200, early_stop=20, summ=False):\n",
        "  \"\"\" Build a genneral function to train model \"\"\"\n",
        "  if summ:\n",
        "    summary(model, torch.zeros(batch_size, 1, win_size))\n",
        "  if is_debug:\n",
        "    return\n",
        "  model.to(device)\n",
        "  model.verbose = False\n",
        "\n",
        "  if not os.path.exists(\"models\"):\n",
        "    %mkdir models\n",
        "  if os.path.exists(\"log\"):\n",
        "    %rm -rf log\n",
        "  writer = SummaryWriter(\"log\")\n",
        "\n",
        "  # train and test\n",
        "  optimizer = optim.Adam(model.parameters(), lr=5e-4, weight_decay=1e-4)\n",
        "  scheduler = optim.lr_scheduler.ReduceLROnPlateau(optimizer, mode='min', factor=0.9, patience=10)\n",
        "  loss_func = nn.CrossEntropyLoss()\n",
        "\n",
        "  step = 0\n",
        "  best_f1 = 0\n",
        "  lowest_loss = np.inf\n",
        "  stop_flag = 0\n",
        "  # train\n",
        "  for weight in model.parameters():\n",
        "    if len(weight.size()) > 1: nn.init.orthogonal_(weight.data)\n",
        "  model.train()\n",
        "  for n_iter in range(n_epoch):\n",
        "    prog_iter = dataloader\n",
        "    for batch_idx, batch in enumerate(prog_iter):\n",
        "      input_x, input_y = tuple(t.to(device) for t in batch)\n",
        "      pred = model(input_x)\n",
        "      loss = loss_func(pred, input_y)\n",
        "      optimizer.zero_grad()\n",
        "      loss.backward()\n",
        "      optimizer.step()\n",
        "      step += 1\n",
        "\n",
        "      writer.add_scalar('Loss/train', loss.item(), step)\n",
        "\n",
        "      if is_debug:\n",
        "        break\n",
        "    \n",
        "    scheduler.step(n_iter)\n",
        "\n",
        "    # test\n",
        "    model.eval()\n",
        "    # prog_iter_test = tqdm(dataloader_test, desc=\"Testing\", leave=False)\n",
        "    prog_iter_test = dataloader_test\n",
        "    all_pred_prob = []\n",
        "    with torch.no_grad():\n",
        "      for batch_idx, batch in enumerate(prog_iter_test):\n",
        "        input_x, input_y = tuple(t.to(device) for t in batch)\n",
        "        pred = model(input_x)\n",
        "        all_pred_prob.append(pred.cpu().data.numpy())\n",
        "    all_pred_prob = np.concatenate(all_pred_prob)\n",
        "    all_pred = np.argmax(all_pred_prob, axis=1)\n",
        "    ## classification report\n",
        "    tmp_report = classification_report(Y_test, all_pred, output_dict=True)\n",
        "    # print(confusion_matrix(Y_test, all_pred))\n",
        "    # print(classification_report(Y_test, all_pred))\n",
        "    f1_score = (tmp_report['0']['f1-score'] + tmp_report['1']['f1-score'])/2\n",
        "\n",
        "    writer.add_scalar('F1/f1_score', f1_score, n_iter)\n",
        "    writer.add_scalar('F1/label_0', tmp_report['0']['f1-score'], n_iter)\n",
        "    writer.add_scalar('F1/label_1', tmp_report['1']['f1-score'], n_iter)\n",
        "\n",
        "    print(\"[{:d}/{:d}]: lr: {:.4f} trn_loss: {:.5f} tst_score: {:.4f}\".format(\n",
        "        n_iter, n_epoch, optimizer.param_groups[0]['lr'], loss.data, f1_score))\n",
        "    # save best\n",
        "    if f1_score >= best_f1:\n",
        "      best_f1 = f1_score\n",
        "      torch.save(model.state_dict(), \"models/{}_{:d}_{:.4f}.pt\".format(\n",
        "          model.__class__.__name__, n_iter, f1_score))\n",
        "      best_model = \"{}_{:d}_{:.4f}.pt\".format(\n",
        "          model.__class__.__name__, n_iter, f1_score)\n",
        "    # early stopping\n",
        "    if loss.data < lowest_loss:\n",
        "      stop_flag = n_iter\n",
        "      lowest_loss = loss.data\n",
        "      # print(\"tst_score not improved {:d}/{:d}\".format(\n",
        "      #     n_iter - stop_flag, early_stop))\n",
        "    if n_iter - stop_flag >= early_stop:\n",
        "      print(\"Early stopping! The best model: {}. Lowest loss at epoch {:d}\".format(best_model, stop_flag))\n",
        "      break\n",
        "\n",
        "  return best_model, best_f1\n"
      ],
      "execution_count": 23,
      "outputs": []
    },
    {
      "cell_type": "code",
      "metadata": {
        "id": "jDLLZnonWkPt",
        "colab_type": "code",
        "colab": {},
        "tags": []
      },
      "source": [
        "model = CRANN(\n",
        "    in_channels=1,\n",
        "    out_channels=16,\n",
        "    att_channels=16,\n",
        "    n_len_seg=32,\n",
        "    verbose=True,\n",
        "    n_classes=2,\n",
        "    device=device)\n",
        "# less parameters: n_len_seg=32, win_size=2048\n",
        "# Attention implemented by `nn.Parameter` (will not shown in summary layers)\n",
        "# train(model, is_debug=True, summ=True)\n",
        "best_model, best_f1 = train(model)"
      ],
      "execution_count": 24,
      "outputs": [
        {
          "output_type": "stream",
          "name": "stdout",
          "text": "[0/200]: lr: 0.0005 trn_loss: 0.36436 tst_score: 0.7478\n[1/200]: lr: 0.0005 trn_loss: 0.27162 tst_score: 0.7945\n[2/200]: lr: 0.0005 trn_loss: 0.21641 tst_score: 0.8227\n[3/200]: lr: 0.0005 trn_loss: 0.26324 tst_score: 0.8453\n[4/200]: lr: 0.0005 trn_loss: 0.16534 tst_score: 0.8644\n[5/200]: lr: 0.0005 trn_loss: 0.23309 tst_score: 0.8722\n[6/200]: lr: 0.0005 trn_loss: 0.10716 tst_score: 0.8840\n[7/200]: lr: 0.0005 trn_loss: 0.12463 tst_score: 0.8893\n[8/200]: lr: 0.0005 trn_loss: 0.10501 tst_score: 0.8937\n[9/200]: lr: 0.0005 trn_loss: 0.07022 tst_score: 0.9004\n[10/200]: lr: 0.0005 trn_loss: 0.08735 tst_score: 0.9033\n[11/200]: lr: 0.0005 trn_loss: 0.12142 tst_score: 0.9059\n[12/200]: lr: 0.0005 trn_loss: 0.10297 tst_score: 0.9091\n[13/200]: lr: 0.0005 trn_loss: 0.09304 tst_score: 0.9131\n[14/200]: lr: 0.0005 trn_loss: 0.05222 tst_score: 0.9120\n[15/200]: lr: 0.0005 trn_loss: 0.08300 tst_score: 0.9161\n[16/200]: lr: 0.0005 trn_loss: 0.08769 tst_score: 0.9176\n[17/200]: lr: 0.0005 trn_loss: 0.09083 tst_score: 0.9158\n[18/200]: lr: 0.0005 trn_loss: 0.08401 tst_score: 0.9203\n[19/200]: lr: 0.0005 trn_loss: 0.15004 tst_score: 0.9164\n[20/200]: lr: 0.0005 trn_loss: 0.07638 tst_score: 0.9178\n[21/200]: lr: 0.0005 trn_loss: 0.06890 tst_score: 0.9212\n[22/200]: lr: 0.0004 trn_loss: 0.08909 tst_score: 0.9225\n[23/200]: lr: 0.0004 trn_loss: 0.13010 tst_score: 0.9228\n[24/200]: lr: 0.0004 trn_loss: 0.07333 tst_score: 0.9215\n[25/200]: lr: 0.0004 trn_loss: 0.07898 tst_score: 0.9238\n[26/200]: lr: 0.0004 trn_loss: 0.12384 tst_score: 0.9231\n[27/200]: lr: 0.0004 trn_loss: 0.04366 tst_score: 0.9237\n[28/200]: lr: 0.0004 trn_loss: 0.07541 tst_score: 0.9243\n[29/200]: lr: 0.0004 trn_loss: 0.03443 tst_score: 0.9243\n[30/200]: lr: 0.0004 trn_loss: 0.04978 tst_score: 0.9261\n[31/200]: lr: 0.0004 trn_loss: 0.05256 tst_score: 0.9267\n[32/200]: lr: 0.0004 trn_loss: 0.06812 tst_score: 0.9285\n[33/200]: lr: 0.0004 trn_loss: 0.04496 tst_score: 0.9302\n[34/200]: lr: 0.0004 trn_loss: 0.06256 tst_score: 0.9285\n[35/200]: lr: 0.0004 trn_loss: 0.04635 tst_score: 0.9311\n[36/200]: lr: 0.0004 trn_loss: 0.01825 tst_score: 0.9318\n[37/200]: lr: 0.0004 trn_loss: 0.03035 tst_score: 0.9278\n[38/200]: lr: 0.0004 trn_loss: 0.02822 tst_score: 0.9306\n[39/200]: lr: 0.0004 trn_loss: 0.02389 tst_score: 0.9284\n[40/200]: lr: 0.0004 trn_loss: 0.02347 tst_score: 0.9299\n[41/200]: lr: 0.0004 trn_loss: 0.03320 tst_score: 0.9329\n[42/200]: lr: 0.0004 trn_loss: 0.02860 tst_score: 0.9315\n[43/200]: lr: 0.0004 trn_loss: 0.01166 tst_score: 0.9281\n[44/200]: lr: 0.0003 trn_loss: 0.01767 tst_score: 0.9309\n[45/200]: lr: 0.0003 trn_loss: 0.02413 tst_score: 0.9309\n[46/200]: lr: 0.0003 trn_loss: 0.02119 tst_score: 0.9326\n[47/200]: lr: 0.0003 trn_loss: 0.03001 tst_score: 0.9331\n[48/200]: lr: 0.0003 trn_loss: 0.01376 tst_score: 0.9303\n[49/200]: lr: 0.0003 trn_loss: 0.03100 tst_score: 0.9317\n[50/200]: lr: 0.0003 trn_loss: 0.02591 tst_score: 0.9334\n[51/200]: lr: 0.0003 trn_loss: 0.03479 tst_score: 0.9331\n[52/200]: lr: 0.0003 trn_loss: 0.01475 tst_score: 0.9323\n[53/200]: lr: 0.0003 trn_loss: 0.01727 tst_score: 0.9320\n[54/200]: lr: 0.0003 trn_loss: 0.03089 tst_score: 0.9323\n[55/200]: lr: 0.0003 trn_loss: 0.00812 tst_score: 0.9300\n[56/200]: lr: 0.0003 trn_loss: 0.02010 tst_score: 0.9371\n[57/200]: lr: 0.0003 trn_loss: 0.01011 tst_score: 0.9323\n[58/200]: lr: 0.0003 trn_loss: 0.01150 tst_score: 0.9344\n[59/200]: lr: 0.0003 trn_loss: 0.02169 tst_score: 0.9343\n[60/200]: lr: 0.0003 trn_loss: 0.01573 tst_score: 0.9332\n[61/200]: lr: 0.0003 trn_loss: 0.02805 tst_score: 0.9365\n[62/200]: lr: 0.0003 trn_loss: 0.02014 tst_score: 0.9347\n[63/200]: lr: 0.0003 trn_loss: 0.01698 tst_score: 0.9335\n[64/200]: lr: 0.0003 trn_loss: 0.01696 tst_score: 0.9359\n[65/200]: lr: 0.0003 trn_loss: 0.01747 tst_score: 0.9343\n[66/200]: lr: 0.0003 trn_loss: 0.01977 tst_score: 0.9358\n[67/200]: lr: 0.0003 trn_loss: 0.01326 tst_score: 0.9358\n[68/200]: lr: 0.0003 trn_loss: 0.01696 tst_score: 0.9343\n[69/200]: lr: 0.0003 trn_loss: 0.01531 tst_score: 0.9334\n[70/200]: lr: 0.0003 trn_loss: 0.01062 tst_score: 0.9359\n[71/200]: lr: 0.0003 trn_loss: 0.01528 tst_score: 0.9376\n[72/200]: lr: 0.0003 trn_loss: 0.01636 tst_score: 0.9318\n[73/200]: lr: 0.0003 trn_loss: 0.01576 tst_score: 0.9347\n[74/200]: lr: 0.0003 trn_loss: 0.02168 tst_score: 0.9337\n[75/200]: lr: 0.0003 trn_loss: 0.01532 tst_score: 0.9362\nEarly stopping! The best model: CRANN_71_0.9376.pt. Lowest loss at epoch 55\n"
        }
      ]
    },
    {
      "cell_type": "code",
      "metadata": {
        "id": "Kj3EGLJcaMlz",
        "colab_type": "code",
        "colab": {},
        "tags": []
      },
      "source": [
        "print(best_model, best_f1)\n",
        "# %load_ext tensorboard\n",
        "# %tensorboard --logdir log"
      ],
      "execution_count": 25,
      "outputs": [
        {
          "output_type": "stream",
          "name": "stdout",
          "text": "CRANN_71_0.9376.pt 0.9375871116751027\n"
        }
      ]
    },
    {
      "cell_type": "markdown",
      "metadata": {
        "id": "58BStLo87OIi",
        "colab_type": "text"
      },
      "source": [
        "## 3.Analysis"
      ]
    },
    {
      "cell_type": "code",
      "metadata": {
        "id": "-yzfv1VW7Qst",
        "colab_type": "code",
        "colab": {}
      },
      "source": [
        "crann_model = CRANN(\n",
        "    in_channels=1,\n",
        "    out_channels=16,\n",
        "    att_channels=16,\n",
        "    n_len_seg=32,\n",
        "    verbose=False,\n",
        "    n_classes=2,\n",
        "    device=device)\n",
        "crann_model.load_state_dict(torch.load('models/'+best_model))\n",
        "crann_model.eval()\n",
        "# Attention implemented by `nn.Parameter` (will not shown in summary layers)"
      ],
      "execution_count": 26,
      "outputs": [
        {
          "output_type": "execute_result",
          "data": {
            "text/plain": "CRANN(\n  (cnn): Conv1d(1, 16, kernel_size=(16,), stride=(4,))\n  (cnn2): Conv1d(16, 16, kernel_size=(4,), stride=(2,))\n  (rnn): LSTM(16, 16, batch_first=True)\n  (dense): Linear(in_features=16, out_features=2, bias=True)\n)"
          },
          "metadata": {},
          "execution_count": 26
        }
      ]
    },
    {
      "cell_type": "code",
      "execution_count": null,
      "metadata": {
        "tags": []
      },
      "outputs": [],
      "source": [
        "y_preds = crann_model.predict_proba(X_test)"
      ]
    },
    {
      "cell_type": "code",
      "execution_count": null,
      "metadata": {},
      "outputs": [],
      "source": [
        "y_preds.shape"
      ]
    },
    {
      "cell_type": "code",
      "execution_count": null,
      "metadata": {},
      "outputs": [],
      "source": [
        "X_test.shape"
      ]
    },
    {
      "cell_type": "code",
      "metadata": {
        "id": "tD4VH25WtZlK",
        "colab_type": "code",
        "colab": {},
        "tags": []
      },
      "source": [
        "# classification_report\n",
        "# Counter({1: 9412, 0: 7502})\n",
        "print(classification_report(Y_test, crann_model.predict(X_test), target_names=['N', 'A']))"
      ],
      "execution_count": null,
      "outputs": []
    },
    {
      "cell_type": "code",
      "metadata": {
        "id": "y91HZUhieWTr",
        "colab_type": "code",
        "colab": {},
        "tags": []
      },
      "source": [
        "try:\n",
        "  from lime import explanation\n",
        "  from lime import lime_base\n",
        "except:\n",
        "  !pip install lime\n",
        "  output.clear()\n",
        "  from lime import explanation\n",
        "  from lime import lime_base"
      ],
      "execution_count": null,
      "outputs": []
    },
    {
      "cell_type": "code",
      "metadata": {
        "id": "C0lGo9gmeW6h",
        "colab_type": "code",
        "colab": {},
        "tags": []
      },
      "source": [
        "if not os.path.exists('lime_timeseries.py'):\n",
        "  !git clone https://github.com/emanuel-metzenthin/Lime-For-Time.git\n",
        "  !mv Lime-For-Time/lime_timeseries.py .\n",
        "  output.clear()\n",
        "from lime_timeseries import LimeTimeSeriesExplanation"
      ],
      "execution_count": null,
      "outputs": []
    },
    {
      "cell_type": "code",
      "metadata": {
        "id": "d81n3XmByRJJ",
        "colab_type": "code",
        "colab": {}
      },
      "source": [
        ""
      ],
      "execution_count": null,
      "outputs": []
    },
    {
      "cell_type": "code",
      "metadata": {
        "id": "BnV0JcTnjclc",
        "colab_type": "code",
        "colab": {}
      },
      "source": [
        "idx_ecg = 7\n",
        "num_features_ecg = 5\n",
        "num_slices_ecg = 17\n",
        "series_ecg = X_test"
      ],
      "execution_count": null,
      "outputs": []
    },
    {
      "cell_type": "code",
      "metadata": {
        "id": "ogDRr3ALeXSI",
        "colab_type": "code",
        "colab": {}
      },
      "source": [
        "# Counter({1: 29864, 0: 29558}) Counter({0: 3348, 1: 3255})\n",
        "explainer = LimeTimeSeriesExplanation(class_names=['0', '1'], feature_selection='auto')\n",
        "\n",
        "exp = explainer.explain_instance(\n",
        "    X_test, crann_model.predict_proba, num_features=5, \n",
        "    num_samples=100, num_slices=1,\n",
        "    replacement_method='noise', training_set=X_train)\n",
        "exp.as_list()"
      ],
      "execution_count": null,
      "outputs": []
    },
    {
      "cell_type": "code",
      "metadata": {
        "id": "k1IEYN9AhDE9",
        "colab_type": "code",
        "colab": {}
      },
      "source": [
        "\n",
        "\n",
        "\n",
        "\n"
      ],
      "execution_count": null,
      "outputs": []
    },
    {
      "cell_type": "code",
      "metadata": {
        "id": "QinrjddMhDZ6",
        "colab_type": "code",
        "colab": {}
      },
      "source": [
        ""
      ],
      "execution_count": null,
      "outputs": []
    },
    {
      "cell_type": "code",
      "metadata": {
        "id": "at_snLlOhDro",
        "colab_type": "code",
        "colab": {}
      },
      "source": [
        ""
      ],
      "execution_count": null,
      "outputs": []
    }
  ]
}